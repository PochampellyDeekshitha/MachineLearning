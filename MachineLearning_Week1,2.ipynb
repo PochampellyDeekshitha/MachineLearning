{
  "nbformat": 4,
  "nbformat_minor": 0,
  "metadata": {
    "colab": {
      "provenance": [],
      "gpuType": "T4",
      "mount_file_id": "1BDYbEcTwn1g69bT7Mtcqtg8SAa3dPHcs",
      "authorship_tag": "ABX9TyMKZFNO2n9QDxkF0iDlEKdm",
      "include_colab_link": true
    },
    "kernelspec": {
      "name": "python3",
      "display_name": "Python 3"
    },
    "language_info": {
      "name": "python"
    },
    "accelerator": "GPU"
  },
  "cells": [
    {
      "cell_type": "markdown",
      "metadata": {
        "id": "view-in-github",
        "colab_type": "text"
      },
      "source": [
        "<a href=\"https://colab.research.google.com/github/PochampellyDeekshitha/MachineLearning/blob/main/MachineLearning_Week1%2C2.ipynb\" target=\"_parent\"><img src=\"https://colab.research.google.com/assets/colab-badge.svg\" alt=\"Open In Colab\"/></a>"
      ]
    },
    {
      "cell_type": "markdown",
      "source": [
        "**Pandas Exercise-01**"
      ],
      "metadata": {
        "id": "ASwYtiTuUXLp"
      }
    },
    {
      "cell_type": "markdown",
      "source": [
        "9th question"
      ],
      "metadata": {
        "id": "rE2aTjUGUVGB"
      }
    },
    {
      "cell_type": "code",
      "metadata": {
        "id": "c7b174e4",
        "colab": {
          "base_uri": "https://localhost:8080/",
          "height": 206
        },
        "outputId": "28c7fa1a-5356-4b2e-b360-8f349d93a4b4"
      },
      "source": [
        "import pandas as pd\n",
        "sales_data = {\n",
        "    2014: [100.5, 150.8, 200.9, 30000, 40000],\n",
        "    2015: [12000, 18000, 22000, 30000, 45000],\n",
        "    2016: [20000, 50000, 70000, 100000, 125000],\n",
        "    2017: [50000, 60000, 70000, 80000, 90000]\n",
        "}\n",
        "sales= pd.DataFrame(sales_data, index=['Madhu', 'Kusum', 'Kinshuk', 'Ankit', 'Shruti'])\n",
        "display(sales)"
      ],
      "execution_count": null,
      "outputs": [
        {
          "output_type": "display_data",
          "data": {
            "text/plain": [
              "            2014   2015    2016   2017\n",
              "Madhu      100.5  12000   20000  50000\n",
              "Kusum      150.8  18000   50000  60000\n",
              "Kinshuk    200.9  22000   70000  70000\n",
              "Ankit    30000.0  30000  100000  80000\n",
              "Shruti   40000.0  45000  125000  90000"
            ],
            "text/html": [
              "\n",
              "  <div id=\"df-f20cd3cd-6260-406b-a0ce-6a32a1dcf163\" class=\"colab-df-container\">\n",
              "    <div>\n",
              "<style scoped>\n",
              "    .dataframe tbody tr th:only-of-type {\n",
              "        vertical-align: middle;\n",
              "    }\n",
              "\n",
              "    .dataframe tbody tr th {\n",
              "        vertical-align: top;\n",
              "    }\n",
              "\n",
              "    .dataframe thead th {\n",
              "        text-align: right;\n",
              "    }\n",
              "</style>\n",
              "<table border=\"1\" class=\"dataframe\">\n",
              "  <thead>\n",
              "    <tr style=\"text-align: right;\">\n",
              "      <th></th>\n",
              "      <th>2014</th>\n",
              "      <th>2015</th>\n",
              "      <th>2016</th>\n",
              "      <th>2017</th>\n",
              "    </tr>\n",
              "  </thead>\n",
              "  <tbody>\n",
              "    <tr>\n",
              "      <th>Madhu</th>\n",
              "      <td>100.5</td>\n",
              "      <td>12000</td>\n",
              "      <td>20000</td>\n",
              "      <td>50000</td>\n",
              "    </tr>\n",
              "    <tr>\n",
              "      <th>Kusum</th>\n",
              "      <td>150.8</td>\n",
              "      <td>18000</td>\n",
              "      <td>50000</td>\n",
              "      <td>60000</td>\n",
              "    </tr>\n",
              "    <tr>\n",
              "      <th>Kinshuk</th>\n",
              "      <td>200.9</td>\n",
              "      <td>22000</td>\n",
              "      <td>70000</td>\n",
              "      <td>70000</td>\n",
              "    </tr>\n",
              "    <tr>\n",
              "      <th>Ankit</th>\n",
              "      <td>30000.0</td>\n",
              "      <td>30000</td>\n",
              "      <td>100000</td>\n",
              "      <td>80000</td>\n",
              "    </tr>\n",
              "    <tr>\n",
              "      <th>Shruti</th>\n",
              "      <td>40000.0</td>\n",
              "      <td>45000</td>\n",
              "      <td>125000</td>\n",
              "      <td>90000</td>\n",
              "    </tr>\n",
              "  </tbody>\n",
              "</table>\n",
              "</div>\n",
              "    <div class=\"colab-df-buttons\">\n",
              "\n",
              "  <div class=\"colab-df-container\">\n",
              "    <button class=\"colab-df-convert\" onclick=\"convertToInteractive('df-f20cd3cd-6260-406b-a0ce-6a32a1dcf163')\"\n",
              "            title=\"Convert this dataframe to an interactive table.\"\n",
              "            style=\"display:none;\">\n",
              "\n",
              "  <svg xmlns=\"http://www.w3.org/2000/svg\" height=\"24px\" viewBox=\"0 -960 960 960\">\n",
              "    <path d=\"M120-120v-720h720v720H120Zm60-500h600v-160H180v160Zm220 220h160v-160H400v160Zm0 220h160v-160H400v160ZM180-400h160v-160H180v160Zm440 0h160v-160H620v160ZM180-180h160v-160H180v160Zm440 0h160v-160H620v160Z\"/>\n",
              "  </svg>\n",
              "    </button>\n",
              "\n",
              "  <style>\n",
              "    .colab-df-container {\n",
              "      display:flex;\n",
              "      gap: 12px;\n",
              "    }\n",
              "\n",
              "    .colab-df-convert {\n",
              "      background-color: #E8F0FE;\n",
              "      border: none;\n",
              "      border-radius: 50%;\n",
              "      cursor: pointer;\n",
              "      display: none;\n",
              "      fill: #1967D2;\n",
              "      height: 32px;\n",
              "      padding: 0 0 0 0;\n",
              "      width: 32px;\n",
              "    }\n",
              "\n",
              "    .colab-df-convert:hover {\n",
              "      background-color: #E2EBFA;\n",
              "      box-shadow: 0px 1px 2px rgba(60, 64, 67, 0.3), 0px 1px 3px 1px rgba(60, 64, 67, 0.15);\n",
              "      fill: #174EA6;\n",
              "    }\n",
              "\n",
              "    .colab-df-buttons div {\n",
              "      margin-bottom: 4px;\n",
              "    }\n",
              "\n",
              "    [theme=dark] .colab-df-convert {\n",
              "      background-color: #3B4455;\n",
              "      fill: #D2E3FC;\n",
              "    }\n",
              "\n",
              "    [theme=dark] .colab-df-convert:hover {\n",
              "      background-color: #434B5C;\n",
              "      box-shadow: 0px 1px 3px 1px rgba(0, 0, 0, 0.15);\n",
              "      filter: drop-shadow(0px 1px 2px rgba(0, 0, 0, 0.3));\n",
              "      fill: #FFFFFF;\n",
              "    }\n",
              "  </style>\n",
              "\n",
              "    <script>\n",
              "      const buttonEl =\n",
              "        document.querySelector('#df-f20cd3cd-6260-406b-a0ce-6a32a1dcf163 button.colab-df-convert');\n",
              "      buttonEl.style.display =\n",
              "        google.colab.kernel.accessAllowed ? 'block' : 'none';\n",
              "\n",
              "      async function convertToInteractive(key) {\n",
              "        const element = document.querySelector('#df-f20cd3cd-6260-406b-a0ce-6a32a1dcf163');\n",
              "        const dataTable =\n",
              "          await google.colab.kernel.invokeFunction('convertToInteractive',\n",
              "                                                    [key], {});\n",
              "        if (!dataTable) return;\n",
              "\n",
              "        const docLinkHtml = 'Like what you see? Visit the ' +\n",
              "          '<a target=\"_blank\" href=https://colab.research.google.com/notebooks/data_table.ipynb>data table notebook</a>'\n",
              "          + ' to learn more about interactive tables.';\n",
              "        element.innerHTML = '';\n",
              "        dataTable['output_type'] = 'display_data';\n",
              "        await google.colab.output.renderOutput(dataTable, element);\n",
              "        const docLink = document.createElement('div');\n",
              "        docLink.innerHTML = docLinkHtml;\n",
              "        element.appendChild(docLink);\n",
              "      }\n",
              "    </script>\n",
              "  </div>\n",
              "\n",
              "\n",
              "    <div id=\"df-eae61298-7f99-48ae-9d8c-3057849b3b7c\">\n",
              "      <button class=\"colab-df-quickchart\" onclick=\"quickchart('df-eae61298-7f99-48ae-9d8c-3057849b3b7c')\"\n",
              "                title=\"Suggest charts\"\n",
              "                style=\"display:none;\">\n",
              "\n",
              "<svg xmlns=\"http://www.w3.org/2000/svg\" height=\"24px\"viewBox=\"0 0 24 24\"\n",
              "     width=\"24px\">\n",
              "    <g>\n",
              "        <path d=\"M19 3H5c-1.1 0-2 .9-2 2v14c0 1.1.9 2 2 2h14c1.1 0 2-.9 2-2V5c0-1.1-.9-2-2-2zM9 17H7v-7h2v7zm4 0h-2V7h2v10zm4 0h-2v-4h2v4z\"/>\n",
              "    </g>\n",
              "</svg>\n",
              "      </button>\n",
              "\n",
              "<style>\n",
              "  .colab-df-quickchart {\n",
              "      --bg-color: #E8F0FE;\n",
              "      --fill-color: #1967D2;\n",
              "      --hover-bg-color: #E2EBFA;\n",
              "      --hover-fill-color: #174EA6;\n",
              "      --disabled-fill-color: #AAA;\n",
              "      --disabled-bg-color: #DDD;\n",
              "  }\n",
              "\n",
              "  [theme=dark] .colab-df-quickchart {\n",
              "      --bg-color: #3B4455;\n",
              "      --fill-color: #D2E3FC;\n",
              "      --hover-bg-color: #434B5C;\n",
              "      --hover-fill-color: #FFFFFF;\n",
              "      --disabled-bg-color: #3B4455;\n",
              "      --disabled-fill-color: #666;\n",
              "  }\n",
              "\n",
              "  .colab-df-quickchart {\n",
              "    background-color: var(--bg-color);\n",
              "    border: none;\n",
              "    border-radius: 50%;\n",
              "    cursor: pointer;\n",
              "    display: none;\n",
              "    fill: var(--fill-color);\n",
              "    height: 32px;\n",
              "    padding: 0;\n",
              "    width: 32px;\n",
              "  }\n",
              "\n",
              "  .colab-df-quickchart:hover {\n",
              "    background-color: var(--hover-bg-color);\n",
              "    box-shadow: 0 1px 2px rgba(60, 64, 67, 0.3), 0 1px 3px 1px rgba(60, 64, 67, 0.15);\n",
              "    fill: var(--button-hover-fill-color);\n",
              "  }\n",
              "\n",
              "  .colab-df-quickchart-complete:disabled,\n",
              "  .colab-df-quickchart-complete:disabled:hover {\n",
              "    background-color: var(--disabled-bg-color);\n",
              "    fill: var(--disabled-fill-color);\n",
              "    box-shadow: none;\n",
              "  }\n",
              "\n",
              "  .colab-df-spinner {\n",
              "    border: 2px solid var(--fill-color);\n",
              "    border-color: transparent;\n",
              "    border-bottom-color: var(--fill-color);\n",
              "    animation:\n",
              "      spin 1s steps(1) infinite;\n",
              "  }\n",
              "\n",
              "  @keyframes spin {\n",
              "    0% {\n",
              "      border-color: transparent;\n",
              "      border-bottom-color: var(--fill-color);\n",
              "      border-left-color: var(--fill-color);\n",
              "    }\n",
              "    20% {\n",
              "      border-color: transparent;\n",
              "      border-left-color: var(--fill-color);\n",
              "      border-top-color: var(--fill-color);\n",
              "    }\n",
              "    30% {\n",
              "      border-color: transparent;\n",
              "      border-left-color: var(--fill-color);\n",
              "      border-top-color: var(--fill-color);\n",
              "      border-right-color: var(--fill-color);\n",
              "    }\n",
              "    40% {\n",
              "      border-color: transparent;\n",
              "      border-right-color: var(--fill-color);\n",
              "      border-top-color: var(--fill-color);\n",
              "    }\n",
              "    60% {\n",
              "      border-color: transparent;\n",
              "      border-right-color: var(--fill-color);\n",
              "    }\n",
              "    80% {\n",
              "      border-color: transparent;\n",
              "      border-right-color: var(--fill-color);\n",
              "      border-bottom-color: var(--fill-color);\n",
              "    }\n",
              "    90% {\n",
              "      border-color: transparent;\n",
              "      border-bottom-color: var(--fill-color);\n",
              "    }\n",
              "  }\n",
              "</style>\n",
              "\n",
              "      <script>\n",
              "        async function quickchart(key) {\n",
              "          const quickchartButtonEl =\n",
              "            document.querySelector('#' + key + ' button');\n",
              "          quickchartButtonEl.disabled = true;  // To prevent multiple clicks.\n",
              "          quickchartButtonEl.classList.add('colab-df-spinner');\n",
              "          try {\n",
              "            const charts = await google.colab.kernel.invokeFunction(\n",
              "                'suggestCharts', [key], {});\n",
              "          } catch (error) {\n",
              "            console.error('Error during call to suggestCharts:', error);\n",
              "          }\n",
              "          quickchartButtonEl.classList.remove('colab-df-spinner');\n",
              "          quickchartButtonEl.classList.add('colab-df-quickchart-complete');\n",
              "        }\n",
              "        (() => {\n",
              "          let quickchartButtonEl =\n",
              "            document.querySelector('#df-eae61298-7f99-48ae-9d8c-3057849b3b7c button');\n",
              "          quickchartButtonEl.style.display =\n",
              "            google.colab.kernel.accessAllowed ? 'block' : 'none';\n",
              "        })();\n",
              "      </script>\n",
              "    </div>\n",
              "\n",
              "  <div id=\"id_eef2ff9e-09fd-4104-8b3e-39dff4568673\">\n",
              "    <style>\n",
              "      .colab-df-generate {\n",
              "        background-color: #E8F0FE;\n",
              "        border: none;\n",
              "        border-radius: 50%;\n",
              "        cursor: pointer;\n",
              "        display: none;\n",
              "        fill: #1967D2;\n",
              "        height: 32px;\n",
              "        padding: 0 0 0 0;\n",
              "        width: 32px;\n",
              "      }\n",
              "\n",
              "      .colab-df-generate:hover {\n",
              "        background-color: #E2EBFA;\n",
              "        box-shadow: 0px 1px 2px rgba(60, 64, 67, 0.3), 0px 1px 3px 1px rgba(60, 64, 67, 0.15);\n",
              "        fill: #174EA6;\n",
              "      }\n",
              "\n",
              "      [theme=dark] .colab-df-generate {\n",
              "        background-color: #3B4455;\n",
              "        fill: #D2E3FC;\n",
              "      }\n",
              "\n",
              "      [theme=dark] .colab-df-generate:hover {\n",
              "        background-color: #434B5C;\n",
              "        box-shadow: 0px 1px 3px 1px rgba(0, 0, 0, 0.15);\n",
              "        filter: drop-shadow(0px 1px 2px rgba(0, 0, 0, 0.3));\n",
              "        fill: #FFFFFF;\n",
              "      }\n",
              "    </style>\n",
              "    <button class=\"colab-df-generate\" onclick=\"generateWithVariable('sales')\"\n",
              "            title=\"Generate code using this dataframe.\"\n",
              "            style=\"display:none;\">\n",
              "\n",
              "  <svg xmlns=\"http://www.w3.org/2000/svg\" height=\"24px\"viewBox=\"0 0 24 24\"\n",
              "       width=\"24px\">\n",
              "    <path d=\"M7,19H8.4L18.45,9,17,7.55,7,17.6ZM5,21V16.75L18.45,3.32a2,2,0,0,1,2.83,0l1.4,1.43a1.91,1.91,0,0,1,.58,1.4,1.91,1.91,0,0,1-.58,1.4L9.25,21ZM18.45,9,17,7.55Zm-12,3A5.31,5.31,0,0,0,4.9,8.1,5.31,5.31,0,0,0,1,6.5,5.31,5.31,0,0,0,4.9,4.9,5.31,5.31,0,0,0,6.5,1,5.31,5.31,0,0,0,8.1,4.9,5.31,5.31,0,0,0,12,6.5,5.46,5.46,0,0,0,6.5,12Z\"/>\n",
              "  </svg>\n",
              "    </button>\n",
              "    <script>\n",
              "      (() => {\n",
              "      const buttonEl =\n",
              "        document.querySelector('#id_eef2ff9e-09fd-4104-8b3e-39dff4568673 button.colab-df-generate');\n",
              "      buttonEl.style.display =\n",
              "        google.colab.kernel.accessAllowed ? 'block' : 'none';\n",
              "\n",
              "      buttonEl.onclick = () => {\n",
              "        google.colab.notebook.generateWithVariable('sales');\n",
              "      }\n",
              "      })();\n",
              "    </script>\n",
              "  </div>\n",
              "\n",
              "    </div>\n",
              "  </div>\n"
            ],
            "application/vnd.google.colaboratory.intrinsic+json": {
              "type": "dataframe",
              "variable_name": "sales",
              "summary": "{\n  \"name\": \"sales\",\n  \"rows\": 5,\n  \"fields\": [\n    {\n      \"column\": 2014,\n      \"properties\": {\n        \"dtype\": \"number\",\n        \"std\": 19412.43612180089,\n        \"min\": 100.5,\n        \"max\": 40000.0,\n        \"num_unique_values\": 5,\n        \"samples\": [\n          150.8,\n          40000.0,\n          200.9\n        ],\n        \"semantic_type\": \"\",\n        \"description\": \"\"\n      }\n    },\n    {\n      \"column\": 2015,\n      \"properties\": {\n        \"dtype\": \"number\",\n        \"std\": 12759,\n        \"min\": 12000,\n        \"max\": 45000,\n        \"num_unique_values\": 5,\n        \"samples\": [\n          18000,\n          45000,\n          22000\n        ],\n        \"semantic_type\": \"\",\n        \"description\": \"\"\n      }\n    },\n    {\n      \"column\": 2016,\n      \"properties\": {\n        \"dtype\": \"number\",\n        \"std\": 41170,\n        \"min\": 20000,\n        \"max\": 125000,\n        \"num_unique_values\": 5,\n        \"samples\": [\n          50000,\n          125000,\n          70000\n        ],\n        \"semantic_type\": \"\",\n        \"description\": \"\"\n      }\n    },\n    {\n      \"column\": 2017,\n      \"properties\": {\n        \"dtype\": \"number\",\n        \"std\": 15811,\n        \"min\": 50000,\n        \"max\": 90000,\n        \"num_unique_values\": 5,\n        \"samples\": [\n          60000,\n          90000,\n          70000\n        ],\n        \"semantic_type\": \"\",\n        \"description\": \"\"\n      }\n    }\n  ]\n}"
            }
          },
          "metadata": {}
        }
      ]
    },
    {
      "cell_type": "markdown",
      "source": [
        "10th question"
      ],
      "metadata": {
        "id": "vEBBt0wNUSaF"
      }
    },
    {
      "cell_type": "code",
      "metadata": {
        "id": "b5fe5c21",
        "colab": {
          "base_uri": "https://localhost:8080/"
        },
        "outputId": "d1a5da47-3a83-472f-ad47-1c321d44015d"
      },
      "source": [
        "sales.index"
      ],
      "execution_count": null,
      "outputs": [
        {
          "output_type": "execute_result",
          "data": {
            "text/plain": [
              "Index(['Madhu', 'Kusum', 'Kinshuk', 'Ankit', 'Shruti'], dtype='object')"
            ]
          },
          "metadata": {},
          "execution_count": 46
        }
      ]
    },
    {
      "cell_type": "code",
      "source": [
        "sales.columns"
      ],
      "metadata": {
        "id": "HluVMRYMRgqh",
        "colab": {
          "base_uri": "https://localhost:8080/"
        },
        "outputId": "aa531330-bfac-4bbe-c47d-da5f58f8833c"
      },
      "execution_count": null,
      "outputs": [
        {
          "output_type": "execute_result",
          "data": {
            "text/plain": [
              "Index([2014, 2015, 2016, 2017], dtype='int64')"
            ]
          },
          "metadata": {},
          "execution_count": 47
        }
      ]
    },
    {
      "cell_type": "code",
      "source": [
        "sales.shape"
      ],
      "metadata": {
        "id": "odkFTXAXRsLd",
        "colab": {
          "base_uri": "https://localhost:8080/"
        },
        "outputId": "08bf1824-e0bf-4a4a-c0d0-4997a77ab398"
      },
      "execution_count": null,
      "outputs": [
        {
          "output_type": "execute_result",
          "data": {
            "text/plain": [
              "(5, 4)"
            ]
          },
          "metadata": {},
          "execution_count": 48
        }
      ]
    },
    {
      "cell_type": "code",
      "source": [
        "sales.size"
      ],
      "metadata": {
        "id": "kmK0NmQIRueG",
        "colab": {
          "base_uri": "https://localhost:8080/"
        },
        "outputId": "705e1359-0d1c-415d-9707-fb838208dfaa"
      },
      "execution_count": null,
      "outputs": [
        {
          "output_type": "execute_result",
          "data": {
            "text/plain": [
              "20"
            ]
          },
          "metadata": {},
          "execution_count": 49
        }
      ]
    },
    {
      "cell_type": "code",
      "source": [
        "sales.ndim"
      ],
      "metadata": {
        "id": "K-eVQD4CRuap",
        "colab": {
          "base_uri": "https://localhost:8080/"
        },
        "outputId": "6400e3a9-bb06-42a5-8faa-0003f5ff2312"
      },
      "execution_count": null,
      "outputs": [
        {
          "output_type": "execute_result",
          "data": {
            "text/plain": [
              "2"
            ]
          },
          "metadata": {},
          "execution_count": 50
        }
      ]
    },
    {
      "cell_type": "code",
      "source": [
        "print(sales.values)"
      ],
      "metadata": {
        "id": "BGbm45eqRuX1",
        "colab": {
          "base_uri": "https://localhost:8080/"
        },
        "outputId": "a386afeb-a125-466c-db73-1ce70da64b20"
      },
      "execution_count": null,
      "outputs": [
        {
          "output_type": "stream",
          "name": "stdout",
          "text": [
            "[[1.005e+02 1.200e+04 2.000e+04 5.000e+04]\n",
            " [1.508e+02 1.800e+04 5.000e+04 6.000e+04]\n",
            " [2.009e+02 2.200e+04 7.000e+04 7.000e+04]\n",
            " [3.000e+04 3.000e+04 1.000e+05 8.000e+04]\n",
            " [4.000e+04 4.500e+04 1.250e+05 9.000e+04]]\n"
          ]
        }
      ]
    },
    {
      "cell_type": "code",
      "source": [
        "sales.tail(2)"
      ],
      "metadata": {
        "id": "R5wNbhKcRuVQ",
        "colab": {
          "base_uri": "https://localhost:8080/",
          "height": 112
        },
        "outputId": "92f03ea5-047f-4afd-ffbf-c78d577c8dc4"
      },
      "execution_count": null,
      "outputs": [
        {
          "output_type": "execute_result",
          "data": {
            "text/plain": [
              "           2014   2015    2016   2017\n",
              "Ankit   30000.0  30000  100000  80000\n",
              "Shruti  40000.0  45000  125000  90000"
            ],
            "text/html": [
              "\n",
              "  <div id=\"df-6c3c159a-be9d-45a8-a191-e728603b5b4d\" class=\"colab-df-container\">\n",
              "    <div>\n",
              "<style scoped>\n",
              "    .dataframe tbody tr th:only-of-type {\n",
              "        vertical-align: middle;\n",
              "    }\n",
              "\n",
              "    .dataframe tbody tr th {\n",
              "        vertical-align: top;\n",
              "    }\n",
              "\n",
              "    .dataframe thead th {\n",
              "        text-align: right;\n",
              "    }\n",
              "</style>\n",
              "<table border=\"1\" class=\"dataframe\">\n",
              "  <thead>\n",
              "    <tr style=\"text-align: right;\">\n",
              "      <th></th>\n",
              "      <th>2014</th>\n",
              "      <th>2015</th>\n",
              "      <th>2016</th>\n",
              "      <th>2017</th>\n",
              "    </tr>\n",
              "  </thead>\n",
              "  <tbody>\n",
              "    <tr>\n",
              "      <th>Ankit</th>\n",
              "      <td>30000.0</td>\n",
              "      <td>30000</td>\n",
              "      <td>100000</td>\n",
              "      <td>80000</td>\n",
              "    </tr>\n",
              "    <tr>\n",
              "      <th>Shruti</th>\n",
              "      <td>40000.0</td>\n",
              "      <td>45000</td>\n",
              "      <td>125000</td>\n",
              "      <td>90000</td>\n",
              "    </tr>\n",
              "  </tbody>\n",
              "</table>\n",
              "</div>\n",
              "    <div class=\"colab-df-buttons\">\n",
              "\n",
              "  <div class=\"colab-df-container\">\n",
              "    <button class=\"colab-df-convert\" onclick=\"convertToInteractive('df-6c3c159a-be9d-45a8-a191-e728603b5b4d')\"\n",
              "            title=\"Convert this dataframe to an interactive table.\"\n",
              "            style=\"display:none;\">\n",
              "\n",
              "  <svg xmlns=\"http://www.w3.org/2000/svg\" height=\"24px\" viewBox=\"0 -960 960 960\">\n",
              "    <path d=\"M120-120v-720h720v720H120Zm60-500h600v-160H180v160Zm220 220h160v-160H400v160Zm0 220h160v-160H400v160ZM180-400h160v-160H180v160Zm440 0h160v-160H620v160ZM180-180h160v-160H180v160Zm440 0h160v-160H620v160Z\"/>\n",
              "  </svg>\n",
              "    </button>\n",
              "\n",
              "  <style>\n",
              "    .colab-df-container {\n",
              "      display:flex;\n",
              "      gap: 12px;\n",
              "    }\n",
              "\n",
              "    .colab-df-convert {\n",
              "      background-color: #E8F0FE;\n",
              "      border: none;\n",
              "      border-radius: 50%;\n",
              "      cursor: pointer;\n",
              "      display: none;\n",
              "      fill: #1967D2;\n",
              "      height: 32px;\n",
              "      padding: 0 0 0 0;\n",
              "      width: 32px;\n",
              "    }\n",
              "\n",
              "    .colab-df-convert:hover {\n",
              "      background-color: #E2EBFA;\n",
              "      box-shadow: 0px 1px 2px rgba(60, 64, 67, 0.3), 0px 1px 3px 1px rgba(60, 64, 67, 0.15);\n",
              "      fill: #174EA6;\n",
              "    }\n",
              "\n",
              "    .colab-df-buttons div {\n",
              "      margin-bottom: 4px;\n",
              "    }\n",
              "\n",
              "    [theme=dark] .colab-df-convert {\n",
              "      background-color: #3B4455;\n",
              "      fill: #D2E3FC;\n",
              "    }\n",
              "\n",
              "    [theme=dark] .colab-df-convert:hover {\n",
              "      background-color: #434B5C;\n",
              "      box-shadow: 0px 1px 3px 1px rgba(0, 0, 0, 0.15);\n",
              "      filter: drop-shadow(0px 1px 2px rgba(0, 0, 0, 0.3));\n",
              "      fill: #FFFFFF;\n",
              "    }\n",
              "  </style>\n",
              "\n",
              "    <script>\n",
              "      const buttonEl =\n",
              "        document.querySelector('#df-6c3c159a-be9d-45a8-a191-e728603b5b4d button.colab-df-convert');\n",
              "      buttonEl.style.display =\n",
              "        google.colab.kernel.accessAllowed ? 'block' : 'none';\n",
              "\n",
              "      async function convertToInteractive(key) {\n",
              "        const element = document.querySelector('#df-6c3c159a-be9d-45a8-a191-e728603b5b4d');\n",
              "        const dataTable =\n",
              "          await google.colab.kernel.invokeFunction('convertToInteractive',\n",
              "                                                    [key], {});\n",
              "        if (!dataTable) return;\n",
              "\n",
              "        const docLinkHtml = 'Like what you see? Visit the ' +\n",
              "          '<a target=\"_blank\" href=https://colab.research.google.com/notebooks/data_table.ipynb>data table notebook</a>'\n",
              "          + ' to learn more about interactive tables.';\n",
              "        element.innerHTML = '';\n",
              "        dataTable['output_type'] = 'display_data';\n",
              "        await google.colab.output.renderOutput(dataTable, element);\n",
              "        const docLink = document.createElement('div');\n",
              "        docLink.innerHTML = docLinkHtml;\n",
              "        element.appendChild(docLink);\n",
              "      }\n",
              "    </script>\n",
              "  </div>\n",
              "\n",
              "\n",
              "    <div id=\"df-3db2acbb-bbd5-46b9-b557-0f2bef0a840d\">\n",
              "      <button class=\"colab-df-quickchart\" onclick=\"quickchart('df-3db2acbb-bbd5-46b9-b557-0f2bef0a840d')\"\n",
              "                title=\"Suggest charts\"\n",
              "                style=\"display:none;\">\n",
              "\n",
              "<svg xmlns=\"http://www.w3.org/2000/svg\" height=\"24px\"viewBox=\"0 0 24 24\"\n",
              "     width=\"24px\">\n",
              "    <g>\n",
              "        <path d=\"M19 3H5c-1.1 0-2 .9-2 2v14c0 1.1.9 2 2 2h14c1.1 0 2-.9 2-2V5c0-1.1-.9-2-2-2zM9 17H7v-7h2v7zm4 0h-2V7h2v10zm4 0h-2v-4h2v4z\"/>\n",
              "    </g>\n",
              "</svg>\n",
              "      </button>\n",
              "\n",
              "<style>\n",
              "  .colab-df-quickchart {\n",
              "      --bg-color: #E8F0FE;\n",
              "      --fill-color: #1967D2;\n",
              "      --hover-bg-color: #E2EBFA;\n",
              "      --hover-fill-color: #174EA6;\n",
              "      --disabled-fill-color: #AAA;\n",
              "      --disabled-bg-color: #DDD;\n",
              "  }\n",
              "\n",
              "  [theme=dark] .colab-df-quickchart {\n",
              "      --bg-color: #3B4455;\n",
              "      --fill-color: #D2E3FC;\n",
              "      --hover-bg-color: #434B5C;\n",
              "      --hover-fill-color: #FFFFFF;\n",
              "      --disabled-bg-color: #3B4455;\n",
              "      --disabled-fill-color: #666;\n",
              "  }\n",
              "\n",
              "  .colab-df-quickchart {\n",
              "    background-color: var(--bg-color);\n",
              "    border: none;\n",
              "    border-radius: 50%;\n",
              "    cursor: pointer;\n",
              "    display: none;\n",
              "    fill: var(--fill-color);\n",
              "    height: 32px;\n",
              "    padding: 0;\n",
              "    width: 32px;\n",
              "  }\n",
              "\n",
              "  .colab-df-quickchart:hover {\n",
              "    background-color: var(--hover-bg-color);\n",
              "    box-shadow: 0 1px 2px rgba(60, 64, 67, 0.3), 0 1px 3px 1px rgba(60, 64, 67, 0.15);\n",
              "    fill: var(--button-hover-fill-color);\n",
              "  }\n",
              "\n",
              "  .colab-df-quickchart-complete:disabled,\n",
              "  .colab-df-quickchart-complete:disabled:hover {\n",
              "    background-color: var(--disabled-bg-color);\n",
              "    fill: var(--disabled-fill-color);\n",
              "    box-shadow: none;\n",
              "  }\n",
              "\n",
              "  .colab-df-spinner {\n",
              "    border: 2px solid var(--fill-color);\n",
              "    border-color: transparent;\n",
              "    border-bottom-color: var(--fill-color);\n",
              "    animation:\n",
              "      spin 1s steps(1) infinite;\n",
              "  }\n",
              "\n",
              "  @keyframes spin {\n",
              "    0% {\n",
              "      border-color: transparent;\n",
              "      border-bottom-color: var(--fill-color);\n",
              "      border-left-color: var(--fill-color);\n",
              "    }\n",
              "    20% {\n",
              "      border-color: transparent;\n",
              "      border-left-color: var(--fill-color);\n",
              "      border-top-color: var(--fill-color);\n",
              "    }\n",
              "    30% {\n",
              "      border-color: transparent;\n",
              "      border-left-color: var(--fill-color);\n",
              "      border-top-color: var(--fill-color);\n",
              "      border-right-color: var(--fill-color);\n",
              "    }\n",
              "    40% {\n",
              "      border-color: transparent;\n",
              "      border-right-color: var(--fill-color);\n",
              "      border-top-color: var(--fill-color);\n",
              "    }\n",
              "    60% {\n",
              "      border-color: transparent;\n",
              "      border-right-color: var(--fill-color);\n",
              "    }\n",
              "    80% {\n",
              "      border-color: transparent;\n",
              "      border-right-color: var(--fill-color);\n",
              "      border-bottom-color: var(--fill-color);\n",
              "    }\n",
              "    90% {\n",
              "      border-color: transparent;\n",
              "      border-bottom-color: var(--fill-color);\n",
              "    }\n",
              "  }\n",
              "</style>\n",
              "\n",
              "      <script>\n",
              "        async function quickchart(key) {\n",
              "          const quickchartButtonEl =\n",
              "            document.querySelector('#' + key + ' button');\n",
              "          quickchartButtonEl.disabled = true;  // To prevent multiple clicks.\n",
              "          quickchartButtonEl.classList.add('colab-df-spinner');\n",
              "          try {\n",
              "            const charts = await google.colab.kernel.invokeFunction(\n",
              "                'suggestCharts', [key], {});\n",
              "          } catch (error) {\n",
              "            console.error('Error during call to suggestCharts:', error);\n",
              "          }\n",
              "          quickchartButtonEl.classList.remove('colab-df-spinner');\n",
              "          quickchartButtonEl.classList.add('colab-df-quickchart-complete');\n",
              "        }\n",
              "        (() => {\n",
              "          let quickchartButtonEl =\n",
              "            document.querySelector('#df-3db2acbb-bbd5-46b9-b557-0f2bef0a840d button');\n",
              "          quickchartButtonEl.style.display =\n",
              "            google.colab.kernel.accessAllowed ? 'block' : 'none';\n",
              "        })();\n",
              "      </script>\n",
              "    </div>\n",
              "\n",
              "    </div>\n",
              "  </div>\n"
            ],
            "application/vnd.google.colaboratory.intrinsic+json": {
              "type": "dataframe",
              "summary": "{\n  \"name\": \"sales\",\n  \"rows\": 2,\n  \"fields\": [\n    {\n      \"column\": 2014,\n      \"properties\": {\n        \"dtype\": \"number\",\n        \"std\": 7071.067811865475,\n        \"min\": 30000.0,\n        \"max\": 40000.0,\n        \"num_unique_values\": 2,\n        \"samples\": [\n          40000.0,\n          30000.0\n        ],\n        \"semantic_type\": \"\",\n        \"description\": \"\"\n      }\n    },\n    {\n      \"column\": 2015,\n      \"properties\": {\n        \"dtype\": \"number\",\n        \"std\": 10606,\n        \"min\": 30000,\n        \"max\": 45000,\n        \"num_unique_values\": 2,\n        \"samples\": [\n          45000,\n          30000\n        ],\n        \"semantic_type\": \"\",\n        \"description\": \"\"\n      }\n    },\n    {\n      \"column\": 2016,\n      \"properties\": {\n        \"dtype\": \"number\",\n        \"std\": 17677,\n        \"min\": 100000,\n        \"max\": 125000,\n        \"num_unique_values\": 2,\n        \"samples\": [\n          125000,\n          100000\n        ],\n        \"semantic_type\": \"\",\n        \"description\": \"\"\n      }\n    },\n    {\n      \"column\": 2017,\n      \"properties\": {\n        \"dtype\": \"number\",\n        \"std\": 7071,\n        \"min\": 80000,\n        \"max\": 90000,\n        \"num_unique_values\": 2,\n        \"samples\": [\n          90000,\n          80000\n        ],\n        \"semantic_type\": \"\",\n        \"description\": \"\"\n      }\n    }\n  ]\n}"
            }
          },
          "metadata": {},
          "execution_count": 52
        }
      ]
    },
    {
      "cell_type": "code",
      "source": [
        "sales.head(2)"
      ],
      "metadata": {
        "id": "RoP1r07KRuSe",
        "colab": {
          "base_uri": "https://localhost:8080/",
          "height": 112
        },
        "outputId": "57210546-45b2-4a3e-b86d-415ed766c927"
      },
      "execution_count": null,
      "outputs": [
        {
          "output_type": "execute_result",
          "data": {
            "text/plain": [
              "        2014   2015   2016   2017\n",
              "Madhu  100.5  12000  20000  50000\n",
              "Kusum  150.8  18000  50000  60000"
            ],
            "text/html": [
              "\n",
              "  <div id=\"df-447746b5-3f15-49a4-ab77-ef24c089b255\" class=\"colab-df-container\">\n",
              "    <div>\n",
              "<style scoped>\n",
              "    .dataframe tbody tr th:only-of-type {\n",
              "        vertical-align: middle;\n",
              "    }\n",
              "\n",
              "    .dataframe tbody tr th {\n",
              "        vertical-align: top;\n",
              "    }\n",
              "\n",
              "    .dataframe thead th {\n",
              "        text-align: right;\n",
              "    }\n",
              "</style>\n",
              "<table border=\"1\" class=\"dataframe\">\n",
              "  <thead>\n",
              "    <tr style=\"text-align: right;\">\n",
              "      <th></th>\n",
              "      <th>2014</th>\n",
              "      <th>2015</th>\n",
              "      <th>2016</th>\n",
              "      <th>2017</th>\n",
              "    </tr>\n",
              "  </thead>\n",
              "  <tbody>\n",
              "    <tr>\n",
              "      <th>Madhu</th>\n",
              "      <td>100.5</td>\n",
              "      <td>12000</td>\n",
              "      <td>20000</td>\n",
              "      <td>50000</td>\n",
              "    </tr>\n",
              "    <tr>\n",
              "      <th>Kusum</th>\n",
              "      <td>150.8</td>\n",
              "      <td>18000</td>\n",
              "      <td>50000</td>\n",
              "      <td>60000</td>\n",
              "    </tr>\n",
              "  </tbody>\n",
              "</table>\n",
              "</div>\n",
              "    <div class=\"colab-df-buttons\">\n",
              "\n",
              "  <div class=\"colab-df-container\">\n",
              "    <button class=\"colab-df-convert\" onclick=\"convertToInteractive('df-447746b5-3f15-49a4-ab77-ef24c089b255')\"\n",
              "            title=\"Convert this dataframe to an interactive table.\"\n",
              "            style=\"display:none;\">\n",
              "\n",
              "  <svg xmlns=\"http://www.w3.org/2000/svg\" height=\"24px\" viewBox=\"0 -960 960 960\">\n",
              "    <path d=\"M120-120v-720h720v720H120Zm60-500h600v-160H180v160Zm220 220h160v-160H400v160Zm0 220h160v-160H400v160ZM180-400h160v-160H180v160Zm440 0h160v-160H620v160ZM180-180h160v-160H180v160Zm440 0h160v-160H620v160Z\"/>\n",
              "  </svg>\n",
              "    </button>\n",
              "\n",
              "  <style>\n",
              "    .colab-df-container {\n",
              "      display:flex;\n",
              "      gap: 12px;\n",
              "    }\n",
              "\n",
              "    .colab-df-convert {\n",
              "      background-color: #E8F0FE;\n",
              "      border: none;\n",
              "      border-radius: 50%;\n",
              "      cursor: pointer;\n",
              "      display: none;\n",
              "      fill: #1967D2;\n",
              "      height: 32px;\n",
              "      padding: 0 0 0 0;\n",
              "      width: 32px;\n",
              "    }\n",
              "\n",
              "    .colab-df-convert:hover {\n",
              "      background-color: #E2EBFA;\n",
              "      box-shadow: 0px 1px 2px rgba(60, 64, 67, 0.3), 0px 1px 3px 1px rgba(60, 64, 67, 0.15);\n",
              "      fill: #174EA6;\n",
              "    }\n",
              "\n",
              "    .colab-df-buttons div {\n",
              "      margin-bottom: 4px;\n",
              "    }\n",
              "\n",
              "    [theme=dark] .colab-df-convert {\n",
              "      background-color: #3B4455;\n",
              "      fill: #D2E3FC;\n",
              "    }\n",
              "\n",
              "    [theme=dark] .colab-df-convert:hover {\n",
              "      background-color: #434B5C;\n",
              "      box-shadow: 0px 1px 3px 1px rgba(0, 0, 0, 0.15);\n",
              "      filter: drop-shadow(0px 1px 2px rgba(0, 0, 0, 0.3));\n",
              "      fill: #FFFFFF;\n",
              "    }\n",
              "  </style>\n",
              "\n",
              "    <script>\n",
              "      const buttonEl =\n",
              "        document.querySelector('#df-447746b5-3f15-49a4-ab77-ef24c089b255 button.colab-df-convert');\n",
              "      buttonEl.style.display =\n",
              "        google.colab.kernel.accessAllowed ? 'block' : 'none';\n",
              "\n",
              "      async function convertToInteractive(key) {\n",
              "        const element = document.querySelector('#df-447746b5-3f15-49a4-ab77-ef24c089b255');\n",
              "        const dataTable =\n",
              "          await google.colab.kernel.invokeFunction('convertToInteractive',\n",
              "                                                    [key], {});\n",
              "        if (!dataTable) return;\n",
              "\n",
              "        const docLinkHtml = 'Like what you see? Visit the ' +\n",
              "          '<a target=\"_blank\" href=https://colab.research.google.com/notebooks/data_table.ipynb>data table notebook</a>'\n",
              "          + ' to learn more about interactive tables.';\n",
              "        element.innerHTML = '';\n",
              "        dataTable['output_type'] = 'display_data';\n",
              "        await google.colab.output.renderOutput(dataTable, element);\n",
              "        const docLink = document.createElement('div');\n",
              "        docLink.innerHTML = docLinkHtml;\n",
              "        element.appendChild(docLink);\n",
              "      }\n",
              "    </script>\n",
              "  </div>\n",
              "\n",
              "\n",
              "    <div id=\"df-7566f747-ea92-4696-9fd2-2b7e5f973890\">\n",
              "      <button class=\"colab-df-quickchart\" onclick=\"quickchart('df-7566f747-ea92-4696-9fd2-2b7e5f973890')\"\n",
              "                title=\"Suggest charts\"\n",
              "                style=\"display:none;\">\n",
              "\n",
              "<svg xmlns=\"http://www.w3.org/2000/svg\" height=\"24px\"viewBox=\"0 0 24 24\"\n",
              "     width=\"24px\">\n",
              "    <g>\n",
              "        <path d=\"M19 3H5c-1.1 0-2 .9-2 2v14c0 1.1.9 2 2 2h14c1.1 0 2-.9 2-2V5c0-1.1-.9-2-2-2zM9 17H7v-7h2v7zm4 0h-2V7h2v10zm4 0h-2v-4h2v4z\"/>\n",
              "    </g>\n",
              "</svg>\n",
              "      </button>\n",
              "\n",
              "<style>\n",
              "  .colab-df-quickchart {\n",
              "      --bg-color: #E8F0FE;\n",
              "      --fill-color: #1967D2;\n",
              "      --hover-bg-color: #E2EBFA;\n",
              "      --hover-fill-color: #174EA6;\n",
              "      --disabled-fill-color: #AAA;\n",
              "      --disabled-bg-color: #DDD;\n",
              "  }\n",
              "\n",
              "  [theme=dark] .colab-df-quickchart {\n",
              "      --bg-color: #3B4455;\n",
              "      --fill-color: #D2E3FC;\n",
              "      --hover-bg-color: #434B5C;\n",
              "      --hover-fill-color: #FFFFFF;\n",
              "      --disabled-bg-color: #3B4455;\n",
              "      --disabled-fill-color: #666;\n",
              "  }\n",
              "\n",
              "  .colab-df-quickchart {\n",
              "    background-color: var(--bg-color);\n",
              "    border: none;\n",
              "    border-radius: 50%;\n",
              "    cursor: pointer;\n",
              "    display: none;\n",
              "    fill: var(--fill-color);\n",
              "    height: 32px;\n",
              "    padding: 0;\n",
              "    width: 32px;\n",
              "  }\n",
              "\n",
              "  .colab-df-quickchart:hover {\n",
              "    background-color: var(--hover-bg-color);\n",
              "    box-shadow: 0 1px 2px rgba(60, 64, 67, 0.3), 0 1px 3px 1px rgba(60, 64, 67, 0.15);\n",
              "    fill: var(--button-hover-fill-color);\n",
              "  }\n",
              "\n",
              "  .colab-df-quickchart-complete:disabled,\n",
              "  .colab-df-quickchart-complete:disabled:hover {\n",
              "    background-color: var(--disabled-bg-color);\n",
              "    fill: var(--disabled-fill-color);\n",
              "    box-shadow: none;\n",
              "  }\n",
              "\n",
              "  .colab-df-spinner {\n",
              "    border: 2px solid var(--fill-color);\n",
              "    border-color: transparent;\n",
              "    border-bottom-color: var(--fill-color);\n",
              "    animation:\n",
              "      spin 1s steps(1) infinite;\n",
              "  }\n",
              "\n",
              "  @keyframes spin {\n",
              "    0% {\n",
              "      border-color: transparent;\n",
              "      border-bottom-color: var(--fill-color);\n",
              "      border-left-color: var(--fill-color);\n",
              "    }\n",
              "    20% {\n",
              "      border-color: transparent;\n",
              "      border-left-color: var(--fill-color);\n",
              "      border-top-color: var(--fill-color);\n",
              "    }\n",
              "    30% {\n",
              "      border-color: transparent;\n",
              "      border-left-color: var(--fill-color);\n",
              "      border-top-color: var(--fill-color);\n",
              "      border-right-color: var(--fill-color);\n",
              "    }\n",
              "    40% {\n",
              "      border-color: transparent;\n",
              "      border-right-color: var(--fill-color);\n",
              "      border-top-color: var(--fill-color);\n",
              "    }\n",
              "    60% {\n",
              "      border-color: transparent;\n",
              "      border-right-color: var(--fill-color);\n",
              "    }\n",
              "    80% {\n",
              "      border-color: transparent;\n",
              "      border-right-color: var(--fill-color);\n",
              "      border-bottom-color: var(--fill-color);\n",
              "    }\n",
              "    90% {\n",
              "      border-color: transparent;\n",
              "      border-bottom-color: var(--fill-color);\n",
              "    }\n",
              "  }\n",
              "</style>\n",
              "\n",
              "      <script>\n",
              "        async function quickchart(key) {\n",
              "          const quickchartButtonEl =\n",
              "            document.querySelector('#' + key + ' button');\n",
              "          quickchartButtonEl.disabled = true;  // To prevent multiple clicks.\n",
              "          quickchartButtonEl.classList.add('colab-df-spinner');\n",
              "          try {\n",
              "            const charts = await google.colab.kernel.invokeFunction(\n",
              "                'suggestCharts', [key], {});\n",
              "          } catch (error) {\n",
              "            console.error('Error during call to suggestCharts:', error);\n",
              "          }\n",
              "          quickchartButtonEl.classList.remove('colab-df-spinner');\n",
              "          quickchartButtonEl.classList.add('colab-df-quickchart-complete');\n",
              "        }\n",
              "        (() => {\n",
              "          let quickchartButtonEl =\n",
              "            document.querySelector('#df-7566f747-ea92-4696-9fd2-2b7e5f973890 button');\n",
              "          quickchartButtonEl.style.display =\n",
              "            google.colab.kernel.accessAllowed ? 'block' : 'none';\n",
              "        })();\n",
              "      </script>\n",
              "    </div>\n",
              "\n",
              "    </div>\n",
              "  </div>\n"
            ],
            "application/vnd.google.colaboratory.intrinsic+json": {
              "type": "dataframe",
              "variable_name": "sales",
              "summary": "{\n  \"name\": \"sales\",\n  \"rows\": 5,\n  \"fields\": [\n    {\n      \"column\": 2014,\n      \"properties\": {\n        \"dtype\": \"number\",\n        \"std\": 19412.43612180089,\n        \"min\": 100.5,\n        \"max\": 40000.0,\n        \"num_unique_values\": 5,\n        \"samples\": [\n          150.8,\n          40000.0,\n          200.9\n        ],\n        \"semantic_type\": \"\",\n        \"description\": \"\"\n      }\n    },\n    {\n      \"column\": 2015,\n      \"properties\": {\n        \"dtype\": \"number\",\n        \"std\": 12759,\n        \"min\": 12000,\n        \"max\": 45000,\n        \"num_unique_values\": 5,\n        \"samples\": [\n          18000,\n          45000,\n          22000\n        ],\n        \"semantic_type\": \"\",\n        \"description\": \"\"\n      }\n    },\n    {\n      \"column\": 2016,\n      \"properties\": {\n        \"dtype\": \"number\",\n        \"std\": 41170,\n        \"min\": 20000,\n        \"max\": 125000,\n        \"num_unique_values\": 5,\n        \"samples\": [\n          50000,\n          125000,\n          70000\n        ],\n        \"semantic_type\": \"\",\n        \"description\": \"\"\n      }\n    },\n    {\n      \"column\": 2017,\n      \"properties\": {\n        \"dtype\": \"number\",\n        \"std\": 15811,\n        \"min\": 50000,\n        \"max\": 90000,\n        \"num_unique_values\": 5,\n        \"samples\": [\n          60000,\n          90000,\n          70000\n        ],\n        \"semantic_type\": \"\",\n        \"description\": \"\"\n      }\n    }\n  ]\n}"
            }
          },
          "metadata": {},
          "execution_count": 53
        }
      ]
    },
    {
      "cell_type": "code",
      "source": [
        "dict={2018:[160000,110000,500000,340000,900000]}\n",
        "sales2=pd.DataFrame(dict,index=['Madhu','kusum','kinshuk','ankith','shruthi'])\n",
        "print(sales2)"
      ],
      "metadata": {
        "id": "V2jJLd0nSCT6",
        "colab": {
          "base_uri": "https://localhost:8080/"
        },
        "outputId": "569c6807-1a3b-4d8b-ae0c-9fb93484cfae"
      },
      "execution_count": null,
      "outputs": [
        {
          "output_type": "stream",
          "name": "stdout",
          "text": [
            "           2018\n",
            "Madhu    160000\n",
            "kusum    110000\n",
            "kinshuk  500000\n",
            "ankith   340000\n",
            "shruthi  900000\n"
          ]
        }
      ]
    },
    {
      "cell_type": "code",
      "source": [
        "sales2.empty"
      ],
      "metadata": {
        "id": "D_xNzwxpSCRR",
        "colab": {
          "base_uri": "https://localhost:8080/"
        },
        "outputId": "d1c79395-bd78-4a5e-b82b-da8112031564"
      },
      "execution_count": null,
      "outputs": [
        {
          "output_type": "execute_result",
          "data": {
            "text/plain": [
              "False"
            ]
          },
          "metadata": {},
          "execution_count": 55
        }
      ]
    },
    {
      "cell_type": "markdown",
      "source": [
        "11th Question"
      ],
      "metadata": {
        "id": "vemPQzqMSU13"
      }
    },
    {
      "cell_type": "code",
      "source": [
        "sales=pd.concat([sales,sales2],axis=1)\n",
        "print(sales)"
      ],
      "metadata": {
        "id": "22s3gQZLSCOs",
        "colab": {
          "base_uri": "https://localhost:8080/"
        },
        "outputId": "d5bde0d6-02f4-4118-acd8-a7bef425ac6e"
      },
      "execution_count": null,
      "outputs": [
        {
          "output_type": "stream",
          "name": "stdout",
          "text": [
            "            2014     2015      2016     2017      2018\n",
            "Madhu      100.5  12000.0   20000.0  50000.0  160000.0\n",
            "Kusum      150.8  18000.0   50000.0  60000.0       NaN\n",
            "Kinshuk    200.9  22000.0   70000.0  70000.0       NaN\n",
            "Ankit    30000.0  30000.0  100000.0  80000.0       NaN\n",
            "Shruti   40000.0  45000.0  125000.0  90000.0       NaN\n",
            "kusum        NaN      NaN       NaN      NaN  110000.0\n",
            "kinshuk      NaN      NaN       NaN      NaN  500000.0\n",
            "ankith       NaN      NaN       NaN      NaN  340000.0\n",
            "shruthi      NaN      NaN       NaN      NaN  900000.0\n"
          ]
        }
      ]
    },
    {
      "cell_type": "code",
      "source": [
        "del sales[2018]"
      ],
      "metadata": {
        "id": "JhBGjUTzSCLR"
      },
      "execution_count": null,
      "outputs": []
    },
    {
      "cell_type": "code",
      "source": [
        "sales=sales.T\n",
        "print(sales)"
      ],
      "metadata": {
        "id": "x4msx1PzSed9",
        "colab": {
          "base_uri": "https://localhost:8080/"
        },
        "outputId": "a455ccf9-0dd3-4bea-d7db-e6886cc1e36b"
      },
      "execution_count": null,
      "outputs": [
        {
          "output_type": "stream",
          "name": "stdout",
          "text": [
            "        Madhu    Kusum  Kinshuk     Ankit    Shruti  kusum  kinshuk  ankith  \\\n",
            "2014    100.5    150.8    200.9   30000.0   40000.0    NaN      NaN     NaN   \n",
            "2015  12000.0  18000.0  22000.0   30000.0   45000.0    NaN      NaN     NaN   \n",
            "2016  20000.0  50000.0  70000.0  100000.0  125000.0    NaN      NaN     NaN   \n",
            "2017  50000.0  60000.0  70000.0   80000.0   90000.0    NaN      NaN     NaN   \n",
            "\n",
            "      shruthi  \n",
            "2014      NaN  \n",
            "2015      NaN  \n",
            "2016      NaN  \n",
            "2017      NaN  \n"
          ]
        }
      ]
    },
    {
      "cell_type": "code",
      "source": [
        "print(sales.loc[2017])"
      ],
      "metadata": {
        "id": "TVhVE8e9SeaX",
        "colab": {
          "base_uri": "https://localhost:8080/"
        },
        "outputId": "2de0f6de-51b0-4ea4-8c88-cfc33dcf6f0e"
      },
      "execution_count": null,
      "outputs": [
        {
          "output_type": "stream",
          "name": "stdout",
          "text": [
            "Madhu      50000.0\n",
            "Kusum      60000.0\n",
            "Kinshuk    70000.0\n",
            "Ankit      80000.0\n",
            "Shruti     90000.0\n",
            "kusum          NaN\n",
            "kinshuk        NaN\n",
            "ankith         NaN\n",
            "shruthi        NaN\n",
            "Name: 2017, dtype: float64\n"
          ]
        }
      ]
    },
    {
      "cell_type": "code",
      "source": [
        "display(sales.loc[[2017], ['Madhu', 'Ankit']])"
      ],
      "metadata": {
        "id": "Coih8cZPSeXk",
        "colab": {
          "base_uri": "https://localhost:8080/",
          "height": 81
        },
        "outputId": "4b05ea56-5d0c-4b6d-8d60-1bd0c11358e5"
      },
      "execution_count": null,
      "outputs": [
        {
          "output_type": "display_data",
          "data": {
            "text/plain": [
              "        Madhu    Ankit\n",
              "2017  50000.0  80000.0"
            ],
            "text/html": [
              "\n",
              "  <div id=\"df-f881be87-dbb0-45c2-9bf8-ebc0da5802df\" class=\"colab-df-container\">\n",
              "    <div>\n",
              "<style scoped>\n",
              "    .dataframe tbody tr th:only-of-type {\n",
              "        vertical-align: middle;\n",
              "    }\n",
              "\n",
              "    .dataframe tbody tr th {\n",
              "        vertical-align: top;\n",
              "    }\n",
              "\n",
              "    .dataframe thead th {\n",
              "        text-align: right;\n",
              "    }\n",
              "</style>\n",
              "<table border=\"1\" class=\"dataframe\">\n",
              "  <thead>\n",
              "    <tr style=\"text-align: right;\">\n",
              "      <th></th>\n",
              "      <th>Madhu</th>\n",
              "      <th>Ankit</th>\n",
              "    </tr>\n",
              "  </thead>\n",
              "  <tbody>\n",
              "    <tr>\n",
              "      <th>2017</th>\n",
              "      <td>50000.0</td>\n",
              "      <td>80000.0</td>\n",
              "    </tr>\n",
              "  </tbody>\n",
              "</table>\n",
              "</div>\n",
              "    <div class=\"colab-df-buttons\">\n",
              "\n",
              "  <div class=\"colab-df-container\">\n",
              "    <button class=\"colab-df-convert\" onclick=\"convertToInteractive('df-f881be87-dbb0-45c2-9bf8-ebc0da5802df')\"\n",
              "            title=\"Convert this dataframe to an interactive table.\"\n",
              "            style=\"display:none;\">\n",
              "\n",
              "  <svg xmlns=\"http://www.w3.org/2000/svg\" height=\"24px\" viewBox=\"0 -960 960 960\">\n",
              "    <path d=\"M120-120v-720h720v720H120Zm60-500h600v-160H180v160Zm220 220h160v-160H400v160Zm0 220h160v-160H400v160ZM180-400h160v-160H180v160Zm440 0h160v-160H620v160ZM180-180h160v-160H180v160Zm440 0h160v-160H620v160Z\"/>\n",
              "  </svg>\n",
              "    </button>\n",
              "\n",
              "  <style>\n",
              "    .colab-df-container {\n",
              "      display:flex;\n",
              "      gap: 12px;\n",
              "    }\n",
              "\n",
              "    .colab-df-convert {\n",
              "      background-color: #E8F0FE;\n",
              "      border: none;\n",
              "      border-radius: 50%;\n",
              "      cursor: pointer;\n",
              "      display: none;\n",
              "      fill: #1967D2;\n",
              "      height: 32px;\n",
              "      padding: 0 0 0 0;\n",
              "      width: 32px;\n",
              "    }\n",
              "\n",
              "    .colab-df-convert:hover {\n",
              "      background-color: #E2EBFA;\n",
              "      box-shadow: 0px 1px 2px rgba(60, 64, 67, 0.3), 0px 1px 3px 1px rgba(60, 64, 67, 0.15);\n",
              "      fill: #174EA6;\n",
              "    }\n",
              "\n",
              "    .colab-df-buttons div {\n",
              "      margin-bottom: 4px;\n",
              "    }\n",
              "\n",
              "    [theme=dark] .colab-df-convert {\n",
              "      background-color: #3B4455;\n",
              "      fill: #D2E3FC;\n",
              "    }\n",
              "\n",
              "    [theme=dark] .colab-df-convert:hover {\n",
              "      background-color: #434B5C;\n",
              "      box-shadow: 0px 1px 3px 1px rgba(0, 0, 0, 0.15);\n",
              "      filter: drop-shadow(0px 1px 2px rgba(0, 0, 0, 0.3));\n",
              "      fill: #FFFFFF;\n",
              "    }\n",
              "  </style>\n",
              "\n",
              "    <script>\n",
              "      const buttonEl =\n",
              "        document.querySelector('#df-f881be87-dbb0-45c2-9bf8-ebc0da5802df button.colab-df-convert');\n",
              "      buttonEl.style.display =\n",
              "        google.colab.kernel.accessAllowed ? 'block' : 'none';\n",
              "\n",
              "      async function convertToInteractive(key) {\n",
              "        const element = document.querySelector('#df-f881be87-dbb0-45c2-9bf8-ebc0da5802df');\n",
              "        const dataTable =\n",
              "          await google.colab.kernel.invokeFunction('convertToInteractive',\n",
              "                                                    [key], {});\n",
              "        if (!dataTable) return;\n",
              "\n",
              "        const docLinkHtml = 'Like what you see? Visit the ' +\n",
              "          '<a target=\"_blank\" href=https://colab.research.google.com/notebooks/data_table.ipynb>data table notebook</a>'\n",
              "          + ' to learn more about interactive tables.';\n",
              "        element.innerHTML = '';\n",
              "        dataTable['output_type'] = 'display_data';\n",
              "        await google.colab.output.renderOutput(dataTable, element);\n",
              "        const docLink = document.createElement('div');\n",
              "        docLink.innerHTML = docLinkHtml;\n",
              "        element.appendChild(docLink);\n",
              "      }\n",
              "    </script>\n",
              "  </div>\n",
              "\n",
              "\n",
              "    </div>\n",
              "  </div>\n"
            ],
            "application/vnd.google.colaboratory.intrinsic+json": {
              "type": "dataframe",
              "summary": "{\n  \"name\": \"display(sales\",\n  \"rows\": 1,\n  \"fields\": [\n    {\n      \"column\": \"Madhu\",\n      \"properties\": {\n        \"dtype\": \"number\",\n        \"std\": null,\n        \"min\": 50000.0,\n        \"max\": 50000.0,\n        \"num_unique_values\": 1,\n        \"samples\": [\n          50000.0\n        ],\n        \"semantic_type\": \"\",\n        \"description\": \"\"\n      }\n    },\n    {\n      \"column\": \"Ankit\",\n      \"properties\": {\n        \"dtype\": \"number\",\n        \"std\": null,\n        \"min\": 80000.0,\n        \"max\": 80000.0,\n        \"num_unique_values\": 1,\n        \"samples\": [\n          80000.0\n        ],\n        \"semantic_type\": \"\",\n        \"description\": \"\"\n      }\n    }\n  ]\n}"
            }
          },
          "metadata": {}
        }
      ]
    },
    {
      "cell_type": "code",
      "source": [
        "display(sales.loc[[2016], ['Shruti']])"
      ],
      "metadata": {
        "id": "kZxreRDlSeUy",
        "colab": {
          "base_uri": "https://localhost:8080/",
          "height": 81
        },
        "outputId": "bd5fea65-f042-46c4-b886-6e5f7013fac1"
      },
      "execution_count": null,
      "outputs": [
        {
          "output_type": "display_data",
          "data": {
            "text/plain": [
              "        Shruti\n",
              "2016  125000.0"
            ],
            "text/html": [
              "\n",
              "  <div id=\"df-36e9fb12-69fb-49d2-9fe7-d5822c749441\" class=\"colab-df-container\">\n",
              "    <div>\n",
              "<style scoped>\n",
              "    .dataframe tbody tr th:only-of-type {\n",
              "        vertical-align: middle;\n",
              "    }\n",
              "\n",
              "    .dataframe tbody tr th {\n",
              "        vertical-align: top;\n",
              "    }\n",
              "\n",
              "    .dataframe thead th {\n",
              "        text-align: right;\n",
              "    }\n",
              "</style>\n",
              "<table border=\"1\" class=\"dataframe\">\n",
              "  <thead>\n",
              "    <tr style=\"text-align: right;\">\n",
              "      <th></th>\n",
              "      <th>Shruti</th>\n",
              "    </tr>\n",
              "  </thead>\n",
              "  <tbody>\n",
              "    <tr>\n",
              "      <th>2016</th>\n",
              "      <td>125000.0</td>\n",
              "    </tr>\n",
              "  </tbody>\n",
              "</table>\n",
              "</div>\n",
              "    <div class=\"colab-df-buttons\">\n",
              "\n",
              "  <div class=\"colab-df-container\">\n",
              "    <button class=\"colab-df-convert\" onclick=\"convertToInteractive('df-36e9fb12-69fb-49d2-9fe7-d5822c749441')\"\n",
              "            title=\"Convert this dataframe to an interactive table.\"\n",
              "            style=\"display:none;\">\n",
              "\n",
              "  <svg xmlns=\"http://www.w3.org/2000/svg\" height=\"24px\" viewBox=\"0 -960 960 960\">\n",
              "    <path d=\"M120-120v-720h720v720H120Zm60-500h600v-160H180v160Zm220 220h160v-160H400v160Zm0 220h160v-160H400v160ZM180-400h160v-160H180v160Zm440 0h160v-160H620v160ZM180-180h160v-160H180v160Zm440 0h160v-160H620v160Z\"/>\n",
              "  </svg>\n",
              "    </button>\n",
              "\n",
              "  <style>\n",
              "    .colab-df-container {\n",
              "      display:flex;\n",
              "      gap: 12px;\n",
              "    }\n",
              "\n",
              "    .colab-df-convert {\n",
              "      background-color: #E8F0FE;\n",
              "      border: none;\n",
              "      border-radius: 50%;\n",
              "      cursor: pointer;\n",
              "      display: none;\n",
              "      fill: #1967D2;\n",
              "      height: 32px;\n",
              "      padding: 0 0 0 0;\n",
              "      width: 32px;\n",
              "    }\n",
              "\n",
              "    .colab-df-convert:hover {\n",
              "      background-color: #E2EBFA;\n",
              "      box-shadow: 0px 1px 2px rgba(60, 64, 67, 0.3), 0px 1px 3px 1px rgba(60, 64, 67, 0.15);\n",
              "      fill: #174EA6;\n",
              "    }\n",
              "\n",
              "    .colab-df-buttons div {\n",
              "      margin-bottom: 4px;\n",
              "    }\n",
              "\n",
              "    [theme=dark] .colab-df-convert {\n",
              "      background-color: #3B4455;\n",
              "      fill: #D2E3FC;\n",
              "    }\n",
              "\n",
              "    [theme=dark] .colab-df-convert:hover {\n",
              "      background-color: #434B5C;\n",
              "      box-shadow: 0px 1px 3px 1px rgba(0, 0, 0, 0.15);\n",
              "      filter: drop-shadow(0px 1px 2px rgba(0, 0, 0, 0.3));\n",
              "      fill: #FFFFFF;\n",
              "    }\n",
              "  </style>\n",
              "\n",
              "    <script>\n",
              "      const buttonEl =\n",
              "        document.querySelector('#df-36e9fb12-69fb-49d2-9fe7-d5822c749441 button.colab-df-convert');\n",
              "      buttonEl.style.display =\n",
              "        google.colab.kernel.accessAllowed ? 'block' : 'none';\n",
              "\n",
              "      async function convertToInteractive(key) {\n",
              "        const element = document.querySelector('#df-36e9fb12-69fb-49d2-9fe7-d5822c749441');\n",
              "        const dataTable =\n",
              "          await google.colab.kernel.invokeFunction('convertToInteractive',\n",
              "                                                    [key], {});\n",
              "        if (!dataTable) return;\n",
              "\n",
              "        const docLinkHtml = 'Like what you see? Visit the ' +\n",
              "          '<a target=\"_blank\" href=https://colab.research.google.com/notebooks/data_table.ipynb>data table notebook</a>'\n",
              "          + ' to learn more about interactive tables.';\n",
              "        element.innerHTML = '';\n",
              "        dataTable['output_type'] = 'display_data';\n",
              "        await google.colab.output.renderOutput(dataTable, element);\n",
              "        const docLink = document.createElement('div');\n",
              "        docLink.innerHTML = docLinkHtml;\n",
              "        element.appendChild(docLink);\n",
              "      }\n",
              "    </script>\n",
              "  </div>\n",
              "\n",
              "\n",
              "    </div>\n",
              "  </div>\n"
            ],
            "application/vnd.google.colaboratory.intrinsic+json": {
              "type": "dataframe",
              "summary": "{\n  \"name\": \"display(sales\",\n  \"rows\": 1,\n  \"fields\": [\n    {\n      \"column\": \"Shruti\",\n      \"properties\": {\n        \"dtype\": \"number\",\n        \"std\": null,\n        \"min\": 125000.0,\n        \"max\": 125000.0,\n        \"num_unique_values\": 1,\n        \"samples\": [\n          125000.0\n        ],\n        \"semantic_type\": \"\",\n        \"description\": \"\"\n      }\n    }\n  ]\n}"
            }
          },
          "metadata": {}
        }
      ]
    },
    {
      "cell_type": "code",
      "source": [
        "print(sales)"
      ],
      "metadata": {
        "id": "EZ27qzluSeR_",
        "colab": {
          "base_uri": "https://localhost:8080/"
        },
        "outputId": "477a71c7-6f8c-4c45-a2b2-1ebd0af5a8cd"
      },
      "execution_count": null,
      "outputs": [
        {
          "output_type": "stream",
          "name": "stdout",
          "text": [
            "        Madhu    Kusum  Kinshuk     Ankit    Shruti  kusum  kinshuk  ankith  \\\n",
            "2014    100.5    150.8    200.9   30000.0   40000.0    NaN      NaN     NaN   \n",
            "2015  12000.0  18000.0  22000.0   30000.0   45000.0    NaN      NaN     NaN   \n",
            "2016  20000.0  50000.0  70000.0  100000.0  125000.0    NaN      NaN     NaN   \n",
            "2017  50000.0  60000.0  70000.0   80000.0   90000.0    NaN      NaN     NaN   \n",
            "\n",
            "      shruthi  \n",
            "2014      NaN  \n",
            "2015      NaN  \n",
            "2016      NaN  \n",
            "2017      NaN  \n"
          ]
        }
      ]
    },
    {
      "cell_type": "code",
      "source": [
        "sales.loc['Sumeet'] = [196.2, 37800, 52000, 78438, 38852, 0, 0, 0, 0]\n",
        "print(sales)"
      ],
      "metadata": {
        "id": "IeDXDurlSePP",
        "colab": {
          "base_uri": "https://localhost:8080/"
        },
        "outputId": "e3574afd-8643-4aa5-f04e-49e77966899a"
      },
      "execution_count": null,
      "outputs": [
        {
          "output_type": "stream",
          "name": "stdout",
          "text": [
            "          Madhu    Kusum  Kinshuk     Ankit    Shruti  kusum  kinshuk  ankith  \\\n",
            "2014      100.5    150.8    200.9   30000.0   40000.0    NaN      NaN     NaN   \n",
            "2015    12000.0  18000.0  22000.0   30000.0   45000.0    NaN      NaN     NaN   \n",
            "2016    20000.0  50000.0  70000.0  100000.0  125000.0    NaN      NaN     NaN   \n",
            "2017    50000.0  60000.0  70000.0   80000.0   90000.0    NaN      NaN     NaN   \n",
            "Sumeet    196.2  37800.0  52000.0   78438.0   38852.0    0.0      0.0     0.0   \n",
            "\n",
            "        shruthi  \n",
            "2014        NaN  \n",
            "2015        NaN  \n",
            "2016        NaN  \n",
            "2017        NaN  \n",
            "Sumeet      0.0  \n"
          ]
        }
      ]
    },
    {
      "cell_type": "code",
      "source": [
        "sales.drop(2014, axis=0, inplace=True)\n",
        "print(sales)"
      ],
      "metadata": {
        "id": "IKzPUtT8SeMs",
        "colab": {
          "base_uri": "https://localhost:8080/"
        },
        "outputId": "a0da79f9-a260-4e3c-a026-ce758b487217"
      },
      "execution_count": null,
      "outputs": [
        {
          "output_type": "stream",
          "name": "stdout",
          "text": [
            "          Madhu    Kusum  Kinshuk     Ankit    Shruti  kusum  kinshuk  ankith  \\\n",
            "2015    12000.0  18000.0  22000.0   30000.0   45000.0    NaN      NaN     NaN   \n",
            "2016    20000.0  50000.0  70000.0  100000.0  125000.0    NaN      NaN     NaN   \n",
            "2017    50000.0  60000.0  70000.0   80000.0   90000.0    NaN      NaN     NaN   \n",
            "Sumeet    196.2  37800.0  52000.0   78438.0   38852.0    0.0      0.0     0.0   \n",
            "\n",
            "        shruthi  \n",
            "2015        NaN  \n",
            "2016        NaN  \n",
            "2017        NaN  \n",
            "Sumeet      0.0  \n"
          ]
        }
      ]
    },
    {
      "cell_type": "code",
      "source": [
        "sales.drop('Kinshuk', axis=1, inplace=True)\n",
        "print(sales)"
      ],
      "metadata": {
        "id": "AElsDT_LTStY",
        "colab": {
          "base_uri": "https://localhost:8080/"
        },
        "outputId": "2e9610d9-aa31-42e1-8000-e61319b51cfc"
      },
      "execution_count": null,
      "outputs": [
        {
          "output_type": "stream",
          "name": "stdout",
          "text": [
            "          Madhu    Kusum     Ankit    Shruti  kusum  kinshuk  ankith  shruthi\n",
            "2015    12000.0  18000.0   30000.0   45000.0    NaN      NaN     NaN      NaN\n",
            "2016    20000.0  50000.0  100000.0  125000.0    NaN      NaN     NaN      NaN\n",
            "2017    50000.0  60000.0   80000.0   90000.0    NaN      NaN     NaN      NaN\n",
            "Sumeet    196.2  37800.0   78438.0   38852.0    0.0      0.0     0.0      0.0\n"
          ]
        }
      ]
    },
    {
      "cell_type": "code",
      "source": [
        "sales.rename(index={'Madhu':'shailesh','ankith':'vivaan'},inplace=True)\n",
        "print(sales)"
      ],
      "metadata": {
        "id": "pPUFjzpIUnHn",
        "colab": {
          "base_uri": "https://localhost:8080/"
        },
        "outputId": "ec168c5d-ebe6-4a93-dd96-6c53e8d9e6f4"
      },
      "execution_count": null,
      "outputs": [
        {
          "output_type": "stream",
          "name": "stdout",
          "text": [
            "          Madhu    Kusum     Ankit    Shruti  kusum  kinshuk  ankith  shruthi\n",
            "2015    12000.0  18000.0   30000.0   45000.0    NaN      NaN     NaN      NaN\n",
            "2016    20000.0  50000.0  100000.0  125000.0    NaN      NaN     NaN      NaN\n",
            "2017    50000.0  60000.0   80000.0   90000.0    NaN      NaN     NaN      NaN\n",
            "Sumeet    196.2  37800.0   78438.0   38852.0    0.0      0.0     0.0      0.0\n"
          ]
        }
      ]
    },
    {
      "cell_type": "code",
      "source": [
        "sales.loc['shailesh',2018]=1000000\n",
        "print(sales)"
      ],
      "metadata": {
        "id": "h3LfGfZuTSm5",
        "colab": {
          "base_uri": "https://localhost:8080/"
        },
        "outputId": "1535fb4e-cc4d-467b-cc61-58e0bcc748c7"
      },
      "execution_count": null,
      "outputs": [
        {
          "output_type": "stream",
          "name": "stdout",
          "text": [
            "            Madhu    Kusum     Ankit    Shruti  kusum  kinshuk  ankith  \\\n",
            "2015      12000.0  18000.0   30000.0   45000.0    NaN      NaN     NaN   \n",
            "2016      20000.0  50000.0  100000.0  125000.0    NaN      NaN     NaN   \n",
            "2017      50000.0  60000.0   80000.0   90000.0    NaN      NaN     NaN   \n",
            "Sumeet      196.2  37800.0   78438.0   38852.0    0.0      0.0     0.0   \n",
            "shailesh      NaN      NaN       NaN       NaN    NaN      NaN     NaN   \n",
            "\n",
            "          shruthi       2018  \n",
            "2015          NaN        NaN  \n",
            "2016          NaN        NaN  \n",
            "2017          NaN        NaN  \n",
            "Sumeet        0.0        NaN  \n",
            "shailesh      NaN  1000000.0  \n"
          ]
        }
      ]
    },
    {
      "cell_type": "code",
      "source": [
        "sales.to_csv('SalesFigures.csv', index=False, header=False)"
      ],
      "metadata": {
        "id": "U_R5APmmTSkT"
      },
      "execution_count": null,
      "outputs": []
    },
    {
      "cell_type": "code",
      "source": [
        "SalesRetrieved = pd.read_csv('SalesFigures.csv', header=None)\n",
        "SalesRetrieved.index = sales.index\n",
        "SalesRetrieved.columns = sales.columns\n",
        "print(SalesRetrieved)"
      ],
      "metadata": {
        "id": "moS495mNTShm",
        "colab": {
          "base_uri": "https://localhost:8080/"
        },
        "outputId": "d00c580d-486c-4732-a7d0-c717abd52e20"
      },
      "execution_count": null,
      "outputs": [
        {
          "output_type": "stream",
          "name": "stdout",
          "text": [
            "            Madhu    Kusum     Ankit    Shruti  kusum  kinshuk  ankith  \\\n",
            "2015      12000.0  18000.0   30000.0   45000.0    NaN      NaN     NaN   \n",
            "2016      20000.0  50000.0  100000.0  125000.0    NaN      NaN     NaN   \n",
            "2017      50000.0  60000.0   80000.0   90000.0    NaN      NaN     NaN   \n",
            "Sumeet      196.2  37800.0   78438.0   38852.0    0.0      0.0     0.0   \n",
            "shailesh      NaN      NaN       NaN       NaN    NaN      NaN     NaN   \n",
            "\n",
            "          shruthi       2018  \n",
            "2015          NaN        NaN  \n",
            "2016          NaN        NaN  \n",
            "2017          NaN        NaN  \n",
            "Sumeet        0.0        NaN  \n",
            "shailesh      NaN  1000000.0  \n"
          ]
        }
      ]
    },
    {
      "cell_type": "code",
      "source": [],
      "metadata": {
        "id": "OThIq-8UTSe0"
      },
      "execution_count": null,
      "outputs": []
    },
    {
      "cell_type": "code",
      "source": [],
      "metadata": {
        "id": "35oQvfvsTScO"
      },
      "execution_count": null,
      "outputs": []
    },
    {
      "cell_type": "code",
      "source": [],
      "metadata": {
        "id": "mnLmhWFaTSZ0"
      },
      "execution_count": null,
      "outputs": []
    },
    {
      "cell_type": "markdown",
      "source": [
        "**Pandas Exrecise-02**"
      ],
      "metadata": {
        "id": "XYYsC5_wVduR"
      }
    },
    {
      "cell_type": "markdown",
      "source": [
        "13th question"
      ],
      "metadata": {
        "id": "BDmIES_-Vm3-"
      }
    },
    {
      "cell_type": "code",
      "source": [
        "import pandas as pd\n",
        "data = {\"Item\": [\"TV\", \"TV\", \"TV\", \"AC\"],\"Company\": [\"LG\", \"VIDEOCON\", \"LG\", \"SONY\"],\"Rupees\": [12000, 10000, 15000, 14000],\"USD\": [700,650,800,750]}\n",
        "df = pd.DataFrame(data)\n",
        "print(df)"
      ],
      "metadata": {
        "id": "19sPF4kfVdX-",
        "colab": {
          "base_uri": "https://localhost:8080/"
        },
        "outputId": "8c5c1f1c-146c-4aa7-fca1-0159e9dd2363"
      },
      "execution_count": null,
      "outputs": [
        {
          "output_type": "stream",
          "name": "stdout",
          "text": [
            "  Item   Company  Rupees  USD\n",
            "0   TV        LG   12000  700\n",
            "1   TV  VIDEOCON   10000  650\n",
            "2   TV        LG   15000  800\n",
            "3   AC      SONY   14000  750\n"
          ]
        }
      ]
    },
    {
      "cell_type": "code",
      "source": [
        "new_data = pd.DataFrame([\n",
        "{\"Item\": \"TV\", \"Company\": \"SAMSUNG\", \"Rupees\": 13000, \"USD\": 670},\n",
        "{\"Item\": \"AC\", \"Company\": \"Apple\", \"Rupees\": 16000, \"USD\": 900}\n",
        "])\n",
        "df = pd.concat([df, new_data], ignore_index=True)\n",
        "print(df)\n"
      ],
      "metadata": {
        "id": "oNsMJzh9VdUd",
        "colab": {
          "base_uri": "https://localhost:8080/"
        },
        "outputId": "e791fb78-46a0-4ac8-bee7-812b23bd4f2b"
      },
      "execution_count": null,
      "outputs": [
        {
          "output_type": "stream",
          "name": "stdout",
          "text": [
            "  Item   Company  Rupees  USD\n",
            "0   TV        LG   12000  700\n",
            "1   TV  VIDEOCON   10000  650\n",
            "2   TV        LG   15000  800\n",
            "3   AC      SONY   14000  750\n",
            "4   TV   SAMSUNG   13000  670\n",
            "5   AC     Apple   16000  900\n"
          ]
        }
      ]
    },
    {
      "cell_type": "code",
      "source": [
        "lg_tv_max = df[(df['Item'] == 'TV') & (df['Company'] == 'LG')]['Rupees'].max()\n",
        "print(\"Maximum price of LG TV:\", lg_tv_max)"
      ],
      "metadata": {
        "id": "gp4qhOVIWXHh",
        "colab": {
          "base_uri": "https://localhost:8080/"
        },
        "outputId": "784e71e0-cbc6-47ca-b3f4-f0a6eb0b66c2"
      },
      "execution_count": null,
      "outputs": [
        {
          "output_type": "stream",
          "name": "stdout",
          "text": [
            "Maximum price of LG TV: 15000\n"
          ]
        }
      ]
    },
    {
      "cell_type": "code",
      "source": [
        "total_rupees = df['Rupees'].sum()\n",
        "print(\"Total sum of all products in Rupees:\", total_rupees)"
      ],
      "metadata": {
        "id": "1ZpPYJrvVdSF",
        "colab": {
          "base_uri": "https://localhost:8080/"
        },
        "outputId": "84f2c3df-9eb8-452f-c420-b7aaf595a7c9"
      },
      "execution_count": null,
      "outputs": [
        {
          "output_type": "stream",
          "name": "stdout",
          "text": [
            "Total sum of all products in Rupees: 80000\n"
          ]
        }
      ]
    },
    {
      "cell_type": "code",
      "source": [
        "sony_median_usd = df[df['Company'] == 'SONY']['USD'].median()\n",
        "print(\"Median USD for SONY products:\", sony_median_usd)"
      ],
      "metadata": {
        "id": "sOGsWiFtVdPW",
        "colab": {
          "base_uri": "https://localhost:8080/"
        },
        "outputId": "513be504-83db-4d16-d7f9-b7996b317398"
      },
      "execution_count": null,
      "outputs": [
        {
          "output_type": "stream",
          "name": "stdout",
          "text": [
            "Median USD for SONY products: 750.0\n"
          ]
        }
      ]
    },
    {
      "cell_type": "code",
      "source": [
        "sorted_df = df.sort_values(by='Rupees')\n",
        "print(sorted_df)"
      ],
      "metadata": {
        "id": "fS79oJBVVdMi",
        "colab": {
          "base_uri": "https://localhost:8080/"
        },
        "outputId": "fd2667d6-ef9f-4767-ac50-abad88286747"
      },
      "execution_count": null,
      "outputs": [
        {
          "output_type": "stream",
          "name": "stdout",
          "text": [
            "  Item   Company  Rupees  USD\n",
            "1   TV  VIDEOCON   10000  650\n",
            "0   TV        LG   12000  700\n",
            "4   TV   SAMSUNG   13000  670\n",
            "3   AC      SONY   14000  750\n",
            "2   TV        LG   15000  800\n",
            "5   AC     Apple   16000  900\n"
          ]
        }
      ]
    },
    {
      "cell_type": "code",
      "source": [
        "sorted_df = df.sort_values(by='Rupees')\n",
        "print(sorted_df)\n"
      ],
      "metadata": {
        "id": "oJmtS8XWVdKE",
        "colab": {
          "base_uri": "https://localhost:8080/"
        },
        "outputId": "3a2368cc-5bfe-4e59-ff5f-9214120a7860"
      },
      "execution_count": null,
      "outputs": [
        {
          "output_type": "stream",
          "name": "stdout",
          "text": [
            "  Item   Company  Rupees  USD\n",
            "1   TV  VIDEOCON   10000  650\n",
            "0   TV        LG   12000  700\n",
            "4   TV   SAMSUNG   13000  670\n",
            "3   AC      SONY   14000  750\n",
            "2   TV        LG   15000  800\n",
            "5   AC     Apple   16000  900\n"
          ]
        }
      ]
    },
    {
      "cell_type": "markdown",
      "source": [
        "14th question"
      ],
      "metadata": {
        "id": "8Zi7JHLuYMSC"
      }
    },
    {
      "cell_type": "code",
      "source": [
        "import numpy as np\n",
        "data = {\"Name\": [\"Aparna\", \"Pankaj\", \"Ram\", \"Ramesh\", \"Naveen\", \"Krrishnav\", \"Bhawna\"],\"Degree\": [\"MBA\", \"BCA\", \"M.Tech\", \"MBA\", \"NaN\",\"BCA\",\"MBA\"],\"Score\":[90.0,\"NaN\",80.0,98.0,97.0,78.0,89.0]}\n",
        "df2 = pd.DataFrame(data)\n",
        "print(df2)\n"
      ],
      "metadata": {
        "id": "EFwb4v35VdHV",
        "colab": {
          "base_uri": "https://localhost:8080/"
        },
        "outputId": "e346ab76-5650-4327-cdf1-41c38e11d7f0"
      },
      "execution_count": null,
      "outputs": [
        {
          "output_type": "stream",
          "name": "stdout",
          "text": [
            "        Name  Degree Score\n",
            "0     Aparna     MBA  90.0\n",
            "1     Pankaj     BCA   NaN\n",
            "2        Ram  M.Tech  80.0\n",
            "3     Ramesh     MBA  98.0\n",
            "4     Naveen     NaN  97.0\n",
            "5  Krrishnav     BCA  78.0\n",
            "6     Bhawna     MBA  89.0\n"
          ]
        }
      ]
    },
    {
      "cell_type": "code",
      "source": [
        "df2['Score'] = pd.to_numeric(df2['Score'], errors='coerce')\n",
        "print(df2.groupby(\"Degree\")[\"Score\"].max())"
      ],
      "metadata": {
        "id": "faea3ZqNVdEp",
        "colab": {
          "base_uri": "https://localhost:8080/"
        },
        "outputId": "9103136c-094a-4f44-9770-c3e1f63f246e"
      },
      "execution_count": null,
      "outputs": [
        {
          "output_type": "stream",
          "name": "stdout",
          "text": [
            "Degree\n",
            "BCA       78.0\n",
            "M.Tech    80.0\n",
            "MBA       98.0\n",
            "NaN       97.0\n",
            "Name: Score, dtype: float64\n"
          ]
        }
      ]
    },
    {
      "cell_type": "code",
      "source": [
        "df_filled = df2[\"Score\"].fillna(76)\n",
        "print(df_filled)"
      ],
      "metadata": {
        "id": "GE3W4bhuXfPr",
        "colab": {
          "base_uri": "https://localhost:8080/"
        },
        "outputId": "f3172e2f-3d14-413a-9e56-287b05f76f8a"
      },
      "execution_count": null,
      "outputs": [
        {
          "output_type": "stream",
          "name": "stdout",
          "text": [
            "0    90.0\n",
            "1    76.0\n",
            "2    80.0\n",
            "3    98.0\n",
            "4    97.0\n",
            "5    78.0\n",
            "6    89.0\n",
            "Name: Score, dtype: float64\n"
          ]
        }
      ]
    },
    {
      "cell_type": "code",
      "source": [
        "df2.set_index(\"Name\", inplace=True)\n",
        "print(df2)"
      ],
      "metadata": {
        "id": "ZY3FQBQEXfMS",
        "colab": {
          "base_uri": "https://localhost:8080/"
        },
        "outputId": "75485265-ebea-4286-96e6-0a199139bdcc"
      },
      "execution_count": null,
      "outputs": [
        {
          "output_type": "stream",
          "name": "stdout",
          "text": [
            "           Degree  Score\n",
            "Name                    \n",
            "Aparna        MBA   90.0\n",
            "Pankaj        BCA    NaN\n",
            "Ram        M.Tech   80.0\n",
            "Ramesh        MBA   98.0\n",
            "Naveen        NaN   97.0\n",
            "Krrishnav     BCA   78.0\n",
            "Bhawna        MBA   89.0\n"
          ]
        }
      ]
    },
    {
      "cell_type": "code",
      "source": [
        "df2.reset_index(inplace=True)\n",
        "avg_scores = df2.groupby([\"Name\", \"Degree\"])[\"Score\"].mean()\n",
        "print(avg_scores)\n"
      ],
      "metadata": {
        "id": "h9GGPhgvXfJ6",
        "colab": {
          "base_uri": "https://localhost:8080/"
        },
        "outputId": "845b111e-a322-4deb-b930-a68265684c30"
      },
      "execution_count": null,
      "outputs": [
        {
          "output_type": "stream",
          "name": "stdout",
          "text": [
            "Name       Degree\n",
            "Aparna     MBA       90.0\n",
            "Bhawna     MBA       89.0\n",
            "Krrishnav  BCA       78.0\n",
            "Naveen     NaN       97.0\n",
            "Pankaj     BCA        NaN\n",
            "Ram        M.Tech    80.0\n",
            "Ramesh     MBA       98.0\n",
            "Name: Score, dtype: float64\n"
          ]
        }
      ]
    },
    {
      "cell_type": "code",
      "source": [
        "mba_count = df2[df2[\"Degree\"] == \"MBA\"].shape[0]\n",
        "print(\"Number of MBA students:\", mba_count)\n"
      ],
      "metadata": {
        "id": "7JrFwo4nXfH_",
        "colab": {
          "base_uri": "https://localhost:8080/"
        },
        "outputId": "e6ab5887-81a4-4b53-eaa4-78e5eb09cf17"
      },
      "execution_count": null,
      "outputs": [
        {
          "output_type": "stream",
          "name": "stdout",
          "text": [
            "Number of MBA students: 3\n"
          ]
        }
      ]
    },
    {
      "cell_type": "code",
      "source": [
        "bca_mode = df2[df2[\"Degree\"] == \"BCA\"][\"Score\"].mode()\n",
        "print(\"Mode of BCA scores:\", bca_mode.values)\n"
      ],
      "metadata": {
        "id": "VnQ_cK_LXfEx",
        "colab": {
          "base_uri": "https://localhost:8080/"
        },
        "outputId": "ef5b87ff-cc22-4468-91c2-bc7f2fe2f386"
      },
      "execution_count": null,
      "outputs": [
        {
          "output_type": "stream",
          "name": "stdout",
          "text": [
            "Mode of BCA scores: [78.]\n"
          ]
        }
      ]
    },
    {
      "cell_type": "code",
      "source": [],
      "metadata": {
        "id": "kLzU1sHgXfCY"
      },
      "execution_count": null,
      "outputs": []
    },
    {
      "cell_type": "code",
      "source": [],
      "metadata": {
        "id": "1w1pJ2weXe_7"
      },
      "execution_count": null,
      "outputs": []
    },
    {
      "cell_type": "code",
      "source": [
        "import pandas as pd\n",
        "import numpy as np\n",
        "from sklearn.model_selection import train_test_split\n",
        "from sklearn.feature_selection import VarianceThreshold"
      ],
      "metadata": {
        "id": "xSNL4rbXnb32"
      },
      "execution_count": 4,
      "outputs": []
    },
    {
      "cell_type": "code",
      "source": [
        "df=pd.read_csv('favorite_music_dataset.csv')\n",
        "print(df.ndim)    #output 1 for series 2 for dataframe\n",
        "print(df.shape)   #no.of rows and columns\n",
        "print(df.size)    #rows*columns"
      ],
      "metadata": {
        "id": "rIZ2FUMVnb0_",
        "colab": {
          "base_uri": "https://localhost:8080/"
        },
        "outputId": "665720a1-0d43-444b-f8ba-eb60e399dce0"
      },
      "execution_count": 5,
      "outputs": [
        {
          "output_type": "stream",
          "name": "stdout",
          "text": [
            "2\n",
            "(100, 7)\n",
            "700\n"
          ]
        }
      ]
    },
    {
      "cell_type": "code",
      "source": [
        "print(df.head(10))"
      ],
      "metadata": {
        "id": "bpq_pT89r6Yf",
        "outputId": "b6a3f2f6-52a0-441f-b093-2782a69456da",
        "colab": {
          "base_uri": "https://localhost:8080/"
        }
      },
      "execution_count": 6,
      "outputs": [
        {
          "output_type": "stream",
          "name": "stdout",
          "text": [
            "          Song_Title       Artist       Genre  Release_Year  Duration_Minutes  \\\n",
            "0              Faded  Alan Walker  Electronic          2024              4.02   \n",
            "1    Blinding Lights   The Weeknd   Synth-pop          2018              4.45   \n",
            "2              Faded  Alan Walker  Electronic          2024              4.86   \n",
            "3              Faded  Alan Walker  Electronic          2012              4.92   \n",
            "4  Bohemian Rhapsody        Queen        Rock          2023              3.90   \n",
            "5            Perfect   Ed Sheeran  Pop Ballad          2014              4.65   \n",
            "6         Let Her Go    Passenger       Indie          2020              3.39   \n",
            "7    Blinding Lights   The Weeknd   Synth-pop          2011              2.67   \n",
            "8         Let Her Go    Passenger       Indie          2016              4.05   \n",
            "9  Bohemian Rhapsody        Queen        Rock          2015              3.98   \n",
            "\n",
            "  Listened_Date     Platform  \n",
            "0    2024-02-10  Apple Music  \n",
            "1    2024-05-30     Zing MP3  \n",
            "2    2024-05-07     Zing MP3  \n",
            "3    2024-03-19      YouTube  \n",
            "4    2024-01-16  Apple Music  \n",
            "5    2024-01-24  Apple Music  \n",
            "6    2024-03-03      Spotify  \n",
            "7    2024-06-05      YouTube  \n",
            "8    2024-06-26      YouTube  \n",
            "9    2024-02-10      Spotify  \n"
          ]
        }
      ]
    },
    {
      "cell_type": "code",
      "source": [
        "print(df.tail(5))"
      ],
      "metadata": {
        "id": "zEZbALPasaeH",
        "colab": {
          "base_uri": "https://localhost:8080/"
        },
        "outputId": "a09ee9fa-a861-4760-beda-8d648f8b8d23"
      },
      "execution_count": 7,
      "outputs": [
        {
          "output_type": "stream",
          "name": "stdout",
          "text": [
            "         Song_Title                         Artist      Genre  Release_Year  \\\n",
            "95   Counting Stars                    OneRepublic   Pop Rock          2013   \n",
            "96         Senorita  Shawn Mendes & Camila Cabello  Latin Pop          2024   \n",
            "97   Counting Stars                    OneRepublic   Pop Rock          2010   \n",
            "98  Blinding Lights                     The Weeknd  Synth-pop          2012   \n",
            "99       Let Her Go                      Passenger      Indie          2013   \n",
            "\n",
            "    Duration_Minutes Listened_Date     Platform  \n",
            "95              3.40    2024-05-30      Spotify  \n",
            "96              2.75    2024-06-11  Apple Music  \n",
            "97              3.57    2024-01-03     Zing MP3  \n",
            "98              4.04    2024-06-13  Apple Music  \n",
            "99              4.61    2024-01-04  Apple Music  \n"
          ]
        }
      ]
    },
    {
      "cell_type": "code",
      "source": [
        "[col for col in df.columns if df[col].isnull().sum()>0]     #checks if null values present or not"
      ],
      "metadata": {
        "id": "XIKgRRVJsen_",
        "colab": {
          "base_uri": "https://localhost:8080/"
        },
        "outputId": "0b069b33-a346-4ae8-b4b8-79ab16698c5b"
      },
      "execution_count": 8,
      "outputs": [
        {
          "output_type": "execute_result",
          "data": {
            "text/plain": [
              "[]"
            ]
          },
          "metadata": {},
          "execution_count": 8
        }
      ]
    },
    {
      "cell_type": "code",
      "source": [
        "x_train,x_test,y_train,y_test=train_test_split(\n",
        "    df.drop(labels=['Platform'],axis=1),      #axis=1 is column\n",
        "    df['Platform'],\n",
        "    test_size=0.3,\n",
        "    random_state=0\n",
        ")"
      ],
      "metadata": {
        "id": "kX-bq0AYsehX"
      },
      "execution_count": 12,
      "outputs": []
    },
    {
      "cell_type": "code",
      "source": [
        "constant_features=[\n",
        "    features for features in x_train.columns if x_train[features].std==0\n",
        "]\n",
        "len(constant_features)\n"
      ],
      "metadata": {
        "id": "4YPQXUuzyWl5",
        "colab": {
          "base_uri": "https://localhost:8080/"
        },
        "outputId": "d1fa4068-7dd5-45b4-c52a-e7b106491fa4"
      },
      "execution_count": 13,
      "outputs": [
        {
          "output_type": "execute_result",
          "data": {
            "text/plain": [
              "0"
            ]
          },
          "metadata": {},
          "execution_count": 13
        }
      ]
    },
    {
      "cell_type": "code",
      "source": [
        "print(constant_features)"
      ],
      "metadata": {
        "id": "5eM0Rfb9yWjI",
        "colab": {
          "base_uri": "https://localhost:8080/"
        },
        "outputId": "b826b5c5-590d-45fb-ae6f-39e0d18cb6bb"
      },
      "execution_count": 14,
      "outputs": [
        {
          "output_type": "stream",
          "name": "stdout",
          "text": [
            "[]\n"
          ]
        }
      ]
    },
    {
      "cell_type": "code",
      "source": [
        "# Add a specific column to the constant_features list\n",
        "constant_features.append('Artist')\n",
        "\n",
        "# Print the updated list\n",
        "print(constant_features)"
      ],
      "metadata": {
        "id": "dyL_AHRqyWgA",
        "colab": {
          "base_uri": "https://localhost:8080/"
        },
        "outputId": "647c5b73-de07-4630-9148-70cfa42f4ac2"
      },
      "execution_count": 15,
      "outputs": [
        {
          "output_type": "stream",
          "name": "stdout",
          "text": [
            "['Artist']\n"
          ]
        }
      ]
    },
    {
      "cell_type": "code",
      "source": [
        "x_train.drop(labels=constant_features,axis=1,inplace=True)\n",
        "x_test.drop(labels=constant_features,axis=1,inplace=True)"
      ],
      "metadata": {
        "id": "jL0h03rb062h"
      },
      "execution_count": 16,
      "outputs": []
    },
    {
      "cell_type": "code",
      "source": [
        "import pandas as pd\n",
        "import numpy as np"
      ],
      "metadata": {
        "id": "NSsZGhV8Cijv"
      },
      "execution_count": null,
      "outputs": []
    },
    {
      "cell_type": "markdown",
      "source": [
        "# WEEK-**2**"
      ],
      "metadata": {
        "id": "SnoPRIMSEnjz"
      }
    },
    {
      "cell_type": "code",
      "source": [
        "import pandas as pd\n",
        "import numpy as np\n",
        "from sklearn.model_selection import train_test_split\n",
        "from sklearn.feature_selection import VarianceThreshold"
      ],
      "metadata": {
        "id": "l41MxBn_Cia2"
      },
      "execution_count": 17,
      "outputs": []
    },
    {
      "cell_type": "code",
      "source": [
        "df=pd.read_csv(\"/content/games.csv\")\n",
        "df.shape"
      ],
      "metadata": {
        "id": "AuX239U5CiYC",
        "colab": {
          "base_uri": "https://localhost:8080/"
        },
        "outputId": "64bb6393-421b-44e2-9902-8e56e200d9fa"
      },
      "execution_count": null,
      "outputs": [
        {
          "output_type": "execute_result",
          "data": {
            "text/plain": [
              "(20058, 16)"
            ]
          },
          "metadata": {},
          "execution_count": 93
        }
      ]
    },
    {
      "cell_type": "code",
      "source": [
        "df"
      ],
      "metadata": {
        "id": "FJ7vYZm4CiVN",
        "colab": {
          "base_uri": "https://localhost:8080/",
          "height": 1000
        },
        "outputId": "ef4f0970-35d1-4c8a-ffc1-2430cd35756c"
      },
      "execution_count": null,
      "outputs": [
        {
          "output_type": "execute_result",
          "data": {
            "text/plain": [
              "             id  rated    created_at  last_move_at  turns victory_status  \\\n",
              "0      TZJHLljE  False  1.504210e+12  1.504210e+12     13      outoftime   \n",
              "1      l1NXvwaE   True  1.504130e+12  1.504130e+12     16         resign   \n",
              "2      mIICvQHh   True  1.504130e+12  1.504130e+12     61           mate   \n",
              "3      kWKvrqYL   True  1.504110e+12  1.504110e+12     61           mate   \n",
              "4      9tXo1AUZ   True  1.504030e+12  1.504030e+12     95           mate   \n",
              "...         ...    ...           ...           ...    ...            ...   \n",
              "20053  EfqH7VVH   True  1.499791e+12  1.499791e+12     24         resign   \n",
              "20054  WSJDhbPl   True  1.499698e+12  1.499699e+12     82           mate   \n",
              "20055  yrAas0Kj   True  1.499698e+12  1.499698e+12     35           mate   \n",
              "20056  b0v4tRyF   True  1.499696e+12  1.499697e+12    109         resign   \n",
              "20057  N8G2JHGG   True  1.499643e+12  1.499644e+12     78           mate   \n",
              "\n",
              "      winner increment_code       white_id  white_rating            black_id  \\\n",
              "0      white           15+2       bourgris          1500                a-00   \n",
              "1      black           5+10           a-00          1322           skinnerua   \n",
              "2      white           5+10         ischia          1496                a-00   \n",
              "3      white           20+0  daniamurashov          1439        adivanov2009   \n",
              "4      white           30+3      nik221107          1523        adivanov2009   \n",
              "...      ...            ...            ...           ...                 ...   \n",
              "20053  white          10+10        belcolt          1691            jamboger   \n",
              "20054  black           10+0       jamboger          1233  farrukhasomiddinov   \n",
              "20055  white           10+0       jamboger          1219        schaaksmurf3   \n",
              "20056  white           10+0   marcodisogno          1360            jamboger   \n",
              "20057  black           10+0       jamboger          1235               ffbob   \n",
              "\n",
              "       black_rating                                              moves  \\\n",
              "0              1191  d4 d5 c4 c6 cxd5 e6 dxe6 fxe6 Nf3 Bb4+ Nc3 Ba5...   \n",
              "1              1261  d4 Nc6 e4 e5 f4 f6 dxe5 fxe5 fxe5 Nxe5 Qd4 Nc6...   \n",
              "2              1500  e4 e5 d3 d6 Be3 c6 Be2 b5 Nd2 a5 a4 c5 axb5 Nc...   \n",
              "3              1454  d4 d5 Nf3 Bf5 Nc3 Nf6 Bf4 Ng4 e3 Nc6 Be2 Qd7 O...   \n",
              "4              1469  e4 e5 Nf3 d6 d4 Nc6 d5 Nb4 a3 Na6 Nc3 Be7 b4 N...   \n",
              "...             ...                                                ...   \n",
              "20053          1220  d4 f5 e3 e6 Nf3 Nf6 Nc3 b6 Be2 Bb7 O-O Be7 Ne5...   \n",
              "20054          1196  d4 d6 Bf4 e5 Bg3 Nf6 e3 exd4 exd4 d5 c3 Bd6 Bd...   \n",
              "20055          1286  d4 d5 Bf4 Nc6 e3 Nf6 c3 e6 Nf3 Be7 Bd3 O-O Nbd...   \n",
              "20056          1227  e4 d6 d4 Nf6 e5 dxe5 dxe5 Qxd1+ Kxd1 Nd5 c4 Nb...   \n",
              "20057          1339  d4 d5 Bf4 Na6 e3 e6 c3 Nf6 Nf3 Bd7 Nbd2 b5 Bd3...   \n",
              "\n",
              "      opening_eco                            opening_name  opening_ply  \n",
              "0             D10        Slav Defense: Exchange Variation            5  \n",
              "1             B00  Nimzowitsch Defense: Kennedy Variation            4  \n",
              "2             C20   King's Pawn Game: Leonardis Variation            3  \n",
              "3             D02  Queen's Pawn Game: Zukertort Variation            3  \n",
              "4             C41                        Philidor Defense            5  \n",
              "...           ...                                     ...          ...  \n",
              "20053         A80                           Dutch Defense            2  \n",
              "20054         A41                            Queen's Pawn            2  \n",
              "20055         D00         Queen's Pawn Game: Mason Attack            3  \n",
              "20056         B07                            Pirc Defense            4  \n",
              "20057         D00         Queen's Pawn Game: Mason Attack            3  \n",
              "\n",
              "[20058 rows x 16 columns]"
            ],
            "text/html": [
              "\n",
              "  <div id=\"df-9212b131-43cf-4efc-9aa9-6e9c520c52a8\" class=\"colab-df-container\">\n",
              "    <div>\n",
              "<style scoped>\n",
              "    .dataframe tbody tr th:only-of-type {\n",
              "        vertical-align: middle;\n",
              "    }\n",
              "\n",
              "    .dataframe tbody tr th {\n",
              "        vertical-align: top;\n",
              "    }\n",
              "\n",
              "    .dataframe thead th {\n",
              "        text-align: right;\n",
              "    }\n",
              "</style>\n",
              "<table border=\"1\" class=\"dataframe\">\n",
              "  <thead>\n",
              "    <tr style=\"text-align: right;\">\n",
              "      <th></th>\n",
              "      <th>id</th>\n",
              "      <th>rated</th>\n",
              "      <th>created_at</th>\n",
              "      <th>last_move_at</th>\n",
              "      <th>turns</th>\n",
              "      <th>victory_status</th>\n",
              "      <th>winner</th>\n",
              "      <th>increment_code</th>\n",
              "      <th>white_id</th>\n",
              "      <th>white_rating</th>\n",
              "      <th>black_id</th>\n",
              "      <th>black_rating</th>\n",
              "      <th>moves</th>\n",
              "      <th>opening_eco</th>\n",
              "      <th>opening_name</th>\n",
              "      <th>opening_ply</th>\n",
              "    </tr>\n",
              "  </thead>\n",
              "  <tbody>\n",
              "    <tr>\n",
              "      <th>0</th>\n",
              "      <td>TZJHLljE</td>\n",
              "      <td>False</td>\n",
              "      <td>1.504210e+12</td>\n",
              "      <td>1.504210e+12</td>\n",
              "      <td>13</td>\n",
              "      <td>outoftime</td>\n",
              "      <td>white</td>\n",
              "      <td>15+2</td>\n",
              "      <td>bourgris</td>\n",
              "      <td>1500</td>\n",
              "      <td>a-00</td>\n",
              "      <td>1191</td>\n",
              "      <td>d4 d5 c4 c6 cxd5 e6 dxe6 fxe6 Nf3 Bb4+ Nc3 Ba5...</td>\n",
              "      <td>D10</td>\n",
              "      <td>Slav Defense: Exchange Variation</td>\n",
              "      <td>5</td>\n",
              "    </tr>\n",
              "    <tr>\n",
              "      <th>1</th>\n",
              "      <td>l1NXvwaE</td>\n",
              "      <td>True</td>\n",
              "      <td>1.504130e+12</td>\n",
              "      <td>1.504130e+12</td>\n",
              "      <td>16</td>\n",
              "      <td>resign</td>\n",
              "      <td>black</td>\n",
              "      <td>5+10</td>\n",
              "      <td>a-00</td>\n",
              "      <td>1322</td>\n",
              "      <td>skinnerua</td>\n",
              "      <td>1261</td>\n",
              "      <td>d4 Nc6 e4 e5 f4 f6 dxe5 fxe5 fxe5 Nxe5 Qd4 Nc6...</td>\n",
              "      <td>B00</td>\n",
              "      <td>Nimzowitsch Defense: Kennedy Variation</td>\n",
              "      <td>4</td>\n",
              "    </tr>\n",
              "    <tr>\n",
              "      <th>2</th>\n",
              "      <td>mIICvQHh</td>\n",
              "      <td>True</td>\n",
              "      <td>1.504130e+12</td>\n",
              "      <td>1.504130e+12</td>\n",
              "      <td>61</td>\n",
              "      <td>mate</td>\n",
              "      <td>white</td>\n",
              "      <td>5+10</td>\n",
              "      <td>ischia</td>\n",
              "      <td>1496</td>\n",
              "      <td>a-00</td>\n",
              "      <td>1500</td>\n",
              "      <td>e4 e5 d3 d6 Be3 c6 Be2 b5 Nd2 a5 a4 c5 axb5 Nc...</td>\n",
              "      <td>C20</td>\n",
              "      <td>King's Pawn Game: Leonardis Variation</td>\n",
              "      <td>3</td>\n",
              "    </tr>\n",
              "    <tr>\n",
              "      <th>3</th>\n",
              "      <td>kWKvrqYL</td>\n",
              "      <td>True</td>\n",
              "      <td>1.504110e+12</td>\n",
              "      <td>1.504110e+12</td>\n",
              "      <td>61</td>\n",
              "      <td>mate</td>\n",
              "      <td>white</td>\n",
              "      <td>20+0</td>\n",
              "      <td>daniamurashov</td>\n",
              "      <td>1439</td>\n",
              "      <td>adivanov2009</td>\n",
              "      <td>1454</td>\n",
              "      <td>d4 d5 Nf3 Bf5 Nc3 Nf6 Bf4 Ng4 e3 Nc6 Be2 Qd7 O...</td>\n",
              "      <td>D02</td>\n",
              "      <td>Queen's Pawn Game: Zukertort Variation</td>\n",
              "      <td>3</td>\n",
              "    </tr>\n",
              "    <tr>\n",
              "      <th>4</th>\n",
              "      <td>9tXo1AUZ</td>\n",
              "      <td>True</td>\n",
              "      <td>1.504030e+12</td>\n",
              "      <td>1.504030e+12</td>\n",
              "      <td>95</td>\n",
              "      <td>mate</td>\n",
              "      <td>white</td>\n",
              "      <td>30+3</td>\n",
              "      <td>nik221107</td>\n",
              "      <td>1523</td>\n",
              "      <td>adivanov2009</td>\n",
              "      <td>1469</td>\n",
              "      <td>e4 e5 Nf3 d6 d4 Nc6 d5 Nb4 a3 Na6 Nc3 Be7 b4 N...</td>\n",
              "      <td>C41</td>\n",
              "      <td>Philidor Defense</td>\n",
              "      <td>5</td>\n",
              "    </tr>\n",
              "    <tr>\n",
              "      <th>...</th>\n",
              "      <td>...</td>\n",
              "      <td>...</td>\n",
              "      <td>...</td>\n",
              "      <td>...</td>\n",
              "      <td>...</td>\n",
              "      <td>...</td>\n",
              "      <td>...</td>\n",
              "      <td>...</td>\n",
              "      <td>...</td>\n",
              "      <td>...</td>\n",
              "      <td>...</td>\n",
              "      <td>...</td>\n",
              "      <td>...</td>\n",
              "      <td>...</td>\n",
              "      <td>...</td>\n",
              "      <td>...</td>\n",
              "    </tr>\n",
              "    <tr>\n",
              "      <th>20053</th>\n",
              "      <td>EfqH7VVH</td>\n",
              "      <td>True</td>\n",
              "      <td>1.499791e+12</td>\n",
              "      <td>1.499791e+12</td>\n",
              "      <td>24</td>\n",
              "      <td>resign</td>\n",
              "      <td>white</td>\n",
              "      <td>10+10</td>\n",
              "      <td>belcolt</td>\n",
              "      <td>1691</td>\n",
              "      <td>jamboger</td>\n",
              "      <td>1220</td>\n",
              "      <td>d4 f5 e3 e6 Nf3 Nf6 Nc3 b6 Be2 Bb7 O-O Be7 Ne5...</td>\n",
              "      <td>A80</td>\n",
              "      <td>Dutch Defense</td>\n",
              "      <td>2</td>\n",
              "    </tr>\n",
              "    <tr>\n",
              "      <th>20054</th>\n",
              "      <td>WSJDhbPl</td>\n",
              "      <td>True</td>\n",
              "      <td>1.499698e+12</td>\n",
              "      <td>1.499699e+12</td>\n",
              "      <td>82</td>\n",
              "      <td>mate</td>\n",
              "      <td>black</td>\n",
              "      <td>10+0</td>\n",
              "      <td>jamboger</td>\n",
              "      <td>1233</td>\n",
              "      <td>farrukhasomiddinov</td>\n",
              "      <td>1196</td>\n",
              "      <td>d4 d6 Bf4 e5 Bg3 Nf6 e3 exd4 exd4 d5 c3 Bd6 Bd...</td>\n",
              "      <td>A41</td>\n",
              "      <td>Queen's Pawn</td>\n",
              "      <td>2</td>\n",
              "    </tr>\n",
              "    <tr>\n",
              "      <th>20055</th>\n",
              "      <td>yrAas0Kj</td>\n",
              "      <td>True</td>\n",
              "      <td>1.499698e+12</td>\n",
              "      <td>1.499698e+12</td>\n",
              "      <td>35</td>\n",
              "      <td>mate</td>\n",
              "      <td>white</td>\n",
              "      <td>10+0</td>\n",
              "      <td>jamboger</td>\n",
              "      <td>1219</td>\n",
              "      <td>schaaksmurf3</td>\n",
              "      <td>1286</td>\n",
              "      <td>d4 d5 Bf4 Nc6 e3 Nf6 c3 e6 Nf3 Be7 Bd3 O-O Nbd...</td>\n",
              "      <td>D00</td>\n",
              "      <td>Queen's Pawn Game: Mason Attack</td>\n",
              "      <td>3</td>\n",
              "    </tr>\n",
              "    <tr>\n",
              "      <th>20056</th>\n",
              "      <td>b0v4tRyF</td>\n",
              "      <td>True</td>\n",
              "      <td>1.499696e+12</td>\n",
              "      <td>1.499697e+12</td>\n",
              "      <td>109</td>\n",
              "      <td>resign</td>\n",
              "      <td>white</td>\n",
              "      <td>10+0</td>\n",
              "      <td>marcodisogno</td>\n",
              "      <td>1360</td>\n",
              "      <td>jamboger</td>\n",
              "      <td>1227</td>\n",
              "      <td>e4 d6 d4 Nf6 e5 dxe5 dxe5 Qxd1+ Kxd1 Nd5 c4 Nb...</td>\n",
              "      <td>B07</td>\n",
              "      <td>Pirc Defense</td>\n",
              "      <td>4</td>\n",
              "    </tr>\n",
              "    <tr>\n",
              "      <th>20057</th>\n",
              "      <td>N8G2JHGG</td>\n",
              "      <td>True</td>\n",
              "      <td>1.499643e+12</td>\n",
              "      <td>1.499644e+12</td>\n",
              "      <td>78</td>\n",
              "      <td>mate</td>\n",
              "      <td>black</td>\n",
              "      <td>10+0</td>\n",
              "      <td>jamboger</td>\n",
              "      <td>1235</td>\n",
              "      <td>ffbob</td>\n",
              "      <td>1339</td>\n",
              "      <td>d4 d5 Bf4 Na6 e3 e6 c3 Nf6 Nf3 Bd7 Nbd2 b5 Bd3...</td>\n",
              "      <td>D00</td>\n",
              "      <td>Queen's Pawn Game: Mason Attack</td>\n",
              "      <td>3</td>\n",
              "    </tr>\n",
              "  </tbody>\n",
              "</table>\n",
              "<p>20058 rows × 16 columns</p>\n",
              "</div>\n",
              "    <div class=\"colab-df-buttons\">\n",
              "\n",
              "  <div class=\"colab-df-container\">\n",
              "    <button class=\"colab-df-convert\" onclick=\"convertToInteractive('df-9212b131-43cf-4efc-9aa9-6e9c520c52a8')\"\n",
              "            title=\"Convert this dataframe to an interactive table.\"\n",
              "            style=\"display:none;\">\n",
              "\n",
              "  <svg xmlns=\"http://www.w3.org/2000/svg\" height=\"24px\" viewBox=\"0 -960 960 960\">\n",
              "    <path d=\"M120-120v-720h720v720H120Zm60-500h600v-160H180v160Zm220 220h160v-160H400v160Zm0 220h160v-160H400v160ZM180-400h160v-160H180v160Zm440 0h160v-160H620v160ZM180-180h160v-160H180v160Zm440 0h160v-160H620v160Z\"/>\n",
              "  </svg>\n",
              "    </button>\n",
              "\n",
              "  <style>\n",
              "    .colab-df-container {\n",
              "      display:flex;\n",
              "      gap: 12px;\n",
              "    }\n",
              "\n",
              "    .colab-df-convert {\n",
              "      background-color: #E8F0FE;\n",
              "      border: none;\n",
              "      border-radius: 50%;\n",
              "      cursor: pointer;\n",
              "      display: none;\n",
              "      fill: #1967D2;\n",
              "      height: 32px;\n",
              "      padding: 0 0 0 0;\n",
              "      width: 32px;\n",
              "    }\n",
              "\n",
              "    .colab-df-convert:hover {\n",
              "      background-color: #E2EBFA;\n",
              "      box-shadow: 0px 1px 2px rgba(60, 64, 67, 0.3), 0px 1px 3px 1px rgba(60, 64, 67, 0.15);\n",
              "      fill: #174EA6;\n",
              "    }\n",
              "\n",
              "    .colab-df-buttons div {\n",
              "      margin-bottom: 4px;\n",
              "    }\n",
              "\n",
              "    [theme=dark] .colab-df-convert {\n",
              "      background-color: #3B4455;\n",
              "      fill: #D2E3FC;\n",
              "    }\n",
              "\n",
              "    [theme=dark] .colab-df-convert:hover {\n",
              "      background-color: #434B5C;\n",
              "      box-shadow: 0px 1px 3px 1px rgba(0, 0, 0, 0.15);\n",
              "      filter: drop-shadow(0px 1px 2px rgba(0, 0, 0, 0.3));\n",
              "      fill: #FFFFFF;\n",
              "    }\n",
              "  </style>\n",
              "\n",
              "    <script>\n",
              "      const buttonEl =\n",
              "        document.querySelector('#df-9212b131-43cf-4efc-9aa9-6e9c520c52a8 button.colab-df-convert');\n",
              "      buttonEl.style.display =\n",
              "        google.colab.kernel.accessAllowed ? 'block' : 'none';\n",
              "\n",
              "      async function convertToInteractive(key) {\n",
              "        const element = document.querySelector('#df-9212b131-43cf-4efc-9aa9-6e9c520c52a8');\n",
              "        const dataTable =\n",
              "          await google.colab.kernel.invokeFunction('convertToInteractive',\n",
              "                                                    [key], {});\n",
              "        if (!dataTable) return;\n",
              "\n",
              "        const docLinkHtml = 'Like what you see? Visit the ' +\n",
              "          '<a target=\"_blank\" href=https://colab.research.google.com/notebooks/data_table.ipynb>data table notebook</a>'\n",
              "          + ' to learn more about interactive tables.';\n",
              "        element.innerHTML = '';\n",
              "        dataTable['output_type'] = 'display_data';\n",
              "        await google.colab.output.renderOutput(dataTable, element);\n",
              "        const docLink = document.createElement('div');\n",
              "        docLink.innerHTML = docLinkHtml;\n",
              "        element.appendChild(docLink);\n",
              "      }\n",
              "    </script>\n",
              "  </div>\n",
              "\n",
              "\n",
              "    <div id=\"df-549ff154-81ca-437f-b145-3c9c0aa6d6a2\">\n",
              "      <button class=\"colab-df-quickchart\" onclick=\"quickchart('df-549ff154-81ca-437f-b145-3c9c0aa6d6a2')\"\n",
              "                title=\"Suggest charts\"\n",
              "                style=\"display:none;\">\n",
              "\n",
              "<svg xmlns=\"http://www.w3.org/2000/svg\" height=\"24px\"viewBox=\"0 0 24 24\"\n",
              "     width=\"24px\">\n",
              "    <g>\n",
              "        <path d=\"M19 3H5c-1.1 0-2 .9-2 2v14c0 1.1.9 2 2 2h14c1.1 0 2-.9 2-2V5c0-1.1-.9-2-2-2zM9 17H7v-7h2v7zm4 0h-2V7h2v10zm4 0h-2v-4h2v4z\"/>\n",
              "    </g>\n",
              "</svg>\n",
              "      </button>\n",
              "\n",
              "<style>\n",
              "  .colab-df-quickchart {\n",
              "      --bg-color: #E8F0FE;\n",
              "      --fill-color: #1967D2;\n",
              "      --hover-bg-color: #E2EBFA;\n",
              "      --hover-fill-color: #174EA6;\n",
              "      --disabled-fill-color: #AAA;\n",
              "      --disabled-bg-color: #DDD;\n",
              "  }\n",
              "\n",
              "  [theme=dark] .colab-df-quickchart {\n",
              "      --bg-color: #3B4455;\n",
              "      --fill-color: #D2E3FC;\n",
              "      --hover-bg-color: #434B5C;\n",
              "      --hover-fill-color: #FFFFFF;\n",
              "      --disabled-bg-color: #3B4455;\n",
              "      --disabled-fill-color: #666;\n",
              "  }\n",
              "\n",
              "  .colab-df-quickchart {\n",
              "    background-color: var(--bg-color);\n",
              "    border: none;\n",
              "    border-radius: 50%;\n",
              "    cursor: pointer;\n",
              "    display: none;\n",
              "    fill: var(--fill-color);\n",
              "    height: 32px;\n",
              "    padding: 0;\n",
              "    width: 32px;\n",
              "  }\n",
              "\n",
              "  .colab-df-quickchart:hover {\n",
              "    background-color: var(--hover-bg-color);\n",
              "    box-shadow: 0 1px 2px rgba(60, 64, 67, 0.3), 0 1px 3px 1px rgba(60, 64, 67, 0.15);\n",
              "    fill: var(--button-hover-fill-color);\n",
              "  }\n",
              "\n",
              "  .colab-df-quickchart-complete:disabled,\n",
              "  .colab-df-quickchart-complete:disabled:hover {\n",
              "    background-color: var(--disabled-bg-color);\n",
              "    fill: var(--disabled-fill-color);\n",
              "    box-shadow: none;\n",
              "  }\n",
              "\n",
              "  .colab-df-spinner {\n",
              "    border: 2px solid var(--fill-color);\n",
              "    border-color: transparent;\n",
              "    border-bottom-color: var(--fill-color);\n",
              "    animation:\n",
              "      spin 1s steps(1) infinite;\n",
              "  }\n",
              "\n",
              "  @keyframes spin {\n",
              "    0% {\n",
              "      border-color: transparent;\n",
              "      border-bottom-color: var(--fill-color);\n",
              "      border-left-color: var(--fill-color);\n",
              "    }\n",
              "    20% {\n",
              "      border-color: transparent;\n",
              "      border-left-color: var(--fill-color);\n",
              "      border-top-color: var(--fill-color);\n",
              "    }\n",
              "    30% {\n",
              "      border-color: transparent;\n",
              "      border-left-color: var(--fill-color);\n",
              "      border-top-color: var(--fill-color);\n",
              "      border-right-color: var(--fill-color);\n",
              "    }\n",
              "    40% {\n",
              "      border-color: transparent;\n",
              "      border-right-color: var(--fill-color);\n",
              "      border-top-color: var(--fill-color);\n",
              "    }\n",
              "    60% {\n",
              "      border-color: transparent;\n",
              "      border-right-color: var(--fill-color);\n",
              "    }\n",
              "    80% {\n",
              "      border-color: transparent;\n",
              "      border-right-color: var(--fill-color);\n",
              "      border-bottom-color: var(--fill-color);\n",
              "    }\n",
              "    90% {\n",
              "      border-color: transparent;\n",
              "      border-bottom-color: var(--fill-color);\n",
              "    }\n",
              "  }\n",
              "</style>\n",
              "\n",
              "      <script>\n",
              "        async function quickchart(key) {\n",
              "          const quickchartButtonEl =\n",
              "            document.querySelector('#' + key + ' button');\n",
              "          quickchartButtonEl.disabled = true;  // To prevent multiple clicks.\n",
              "          quickchartButtonEl.classList.add('colab-df-spinner');\n",
              "          try {\n",
              "            const charts = await google.colab.kernel.invokeFunction(\n",
              "                'suggestCharts', [key], {});\n",
              "          } catch (error) {\n",
              "            console.error('Error during call to suggestCharts:', error);\n",
              "          }\n",
              "          quickchartButtonEl.classList.remove('colab-df-spinner');\n",
              "          quickchartButtonEl.classList.add('colab-df-quickchart-complete');\n",
              "        }\n",
              "        (() => {\n",
              "          let quickchartButtonEl =\n",
              "            document.querySelector('#df-549ff154-81ca-437f-b145-3c9c0aa6d6a2 button');\n",
              "          quickchartButtonEl.style.display =\n",
              "            google.colab.kernel.accessAllowed ? 'block' : 'none';\n",
              "        })();\n",
              "      </script>\n",
              "    </div>\n",
              "\n",
              "  <div id=\"id_3d562587-539e-4248-b31c-29824dcfbb24\">\n",
              "    <style>\n",
              "      .colab-df-generate {\n",
              "        background-color: #E8F0FE;\n",
              "        border: none;\n",
              "        border-radius: 50%;\n",
              "        cursor: pointer;\n",
              "        display: none;\n",
              "        fill: #1967D2;\n",
              "        height: 32px;\n",
              "        padding: 0 0 0 0;\n",
              "        width: 32px;\n",
              "      }\n",
              "\n",
              "      .colab-df-generate:hover {\n",
              "        background-color: #E2EBFA;\n",
              "        box-shadow: 0px 1px 2px rgba(60, 64, 67, 0.3), 0px 1px 3px 1px rgba(60, 64, 67, 0.15);\n",
              "        fill: #174EA6;\n",
              "      }\n",
              "\n",
              "      [theme=dark] .colab-df-generate {\n",
              "        background-color: #3B4455;\n",
              "        fill: #D2E3FC;\n",
              "      }\n",
              "\n",
              "      [theme=dark] .colab-df-generate:hover {\n",
              "        background-color: #434B5C;\n",
              "        box-shadow: 0px 1px 3px 1px rgba(0, 0, 0, 0.15);\n",
              "        filter: drop-shadow(0px 1px 2px rgba(0, 0, 0, 0.3));\n",
              "        fill: #FFFFFF;\n",
              "      }\n",
              "    </style>\n",
              "    <button class=\"colab-df-generate\" onclick=\"generateWithVariable('df')\"\n",
              "            title=\"Generate code using this dataframe.\"\n",
              "            style=\"display:none;\">\n",
              "\n",
              "  <svg xmlns=\"http://www.w3.org/2000/svg\" height=\"24px\"viewBox=\"0 0 24 24\"\n",
              "       width=\"24px\">\n",
              "    <path d=\"M7,19H8.4L18.45,9,17,7.55,7,17.6ZM5,21V16.75L18.45,3.32a2,2,0,0,1,2.83,0l1.4,1.43a1.91,1.91,0,0,1,.58,1.4,1.91,1.91,0,0,1-.58,1.4L9.25,21ZM18.45,9,17,7.55Zm-12,3A5.31,5.31,0,0,0,4.9,8.1,5.31,5.31,0,0,0,1,6.5,5.31,5.31,0,0,0,4.9,4.9,5.31,5.31,0,0,0,6.5,1,5.31,5.31,0,0,0,8.1,4.9,5.31,5.31,0,0,0,12,6.5,5.46,5.46,0,0,0,6.5,12Z\"/>\n",
              "  </svg>\n",
              "    </button>\n",
              "    <script>\n",
              "      (() => {\n",
              "      const buttonEl =\n",
              "        document.querySelector('#id_3d562587-539e-4248-b31c-29824dcfbb24 button.colab-df-generate');\n",
              "      buttonEl.style.display =\n",
              "        google.colab.kernel.accessAllowed ? 'block' : 'none';\n",
              "\n",
              "      buttonEl.onclick = () => {\n",
              "        google.colab.notebook.generateWithVariable('df');\n",
              "      }\n",
              "      })();\n",
              "    </script>\n",
              "  </div>\n",
              "\n",
              "    </div>\n",
              "  </div>\n"
            ],
            "application/vnd.google.colaboratory.intrinsic+json": {
              "type": "dataframe",
              "variable_name": "df",
              "summary": "{\n  \"name\": \"df\",\n  \"rows\": 20058,\n  \"fields\": [\n    {\n      \"column\": \"id\",\n      \"properties\": {\n        \"dtype\": \"string\",\n        \"num_unique_values\": 19113,\n        \"samples\": [\n          \"fh9mVD7Q\",\n          \"PrpX9Fne\",\n          \"xCYtQhhQ\"\n        ],\n        \"semantic_type\": \"\",\n        \"description\": \"\"\n      }\n    },\n    {\n      \"column\": \"rated\",\n      \"properties\": {\n        \"dtype\": \"boolean\",\n        \"num_unique_values\": 2,\n        \"samples\": [\n          true,\n          false\n        ],\n        \"semantic_type\": \"\",\n        \"description\": \"\"\n      }\n    },\n    {\n      \"column\": \"created_at\",\n      \"properties\": {\n        \"dtype\": \"number\",\n        \"std\": 28501509421.00487,\n        \"min\": 1376771633173.0,\n        \"max\": 1504493143790.0,\n        \"num_unique_values\": 13151,\n        \"samples\": [\n          1503822443541.0,\n          1400648327872.0\n        ],\n        \"semantic_type\": \"\",\n        \"description\": \"\"\n      }\n    },\n    {\n      \"column\": \"last_move_at\",\n      \"properties\": {\n        \"dtype\": \"number\",\n        \"std\": 28501400588.89014,\n        \"min\": 1376771863841.0,\n        \"max\": 1504493827262.0,\n        \"num_unique_values\": 13186,\n        \"samples\": [\n          1461210000000.0,\n          1414608954957.0\n        ],\n        \"semantic_type\": \"\",\n        \"description\": \"\"\n      }\n    },\n    {\n      \"column\": \"turns\",\n      \"properties\": {\n        \"dtype\": \"number\",\n        \"std\": 33,\n        \"min\": 1,\n        \"max\": 349,\n        \"num_unique_values\": 211,\n        \"samples\": [\n          37,\n          146\n        ],\n        \"semantic_type\": \"\",\n        \"description\": \"\"\n      }\n    },\n    {\n      \"column\": \"victory_status\",\n      \"properties\": {\n        \"dtype\": \"category\",\n        \"num_unique_values\": 4,\n        \"samples\": [\n          \"resign\",\n          \"draw\"\n        ],\n        \"semantic_type\": \"\",\n        \"description\": \"\"\n      }\n    },\n    {\n      \"column\": \"winner\",\n      \"properties\": {\n        \"dtype\": \"category\",\n        \"num_unique_values\": 3,\n        \"samples\": [\n          \"white\",\n          \"black\"\n        ],\n        \"semantic_type\": \"\",\n        \"description\": \"\"\n      }\n    },\n    {\n      \"column\": \"increment_code\",\n      \"properties\": {\n        \"dtype\": \"category\",\n        \"num_unique_values\": 400,\n        \"samples\": [\n          \"17+15\",\n          \"11+3\"\n        ],\n        \"semantic_type\": \"\",\n        \"description\": \"\"\n      }\n    },\n    {\n      \"column\": \"white_id\",\n      \"properties\": {\n        \"dtype\": \"category\",\n        \"num_unique_values\": 9438,\n        \"samples\": [\n          \"jotao\",\n          \"tosimiesseppo\"\n        ],\n        \"semantic_type\": \"\",\n        \"description\": \"\"\n      }\n    },\n    {\n      \"column\": \"white_rating\",\n      \"properties\": {\n        \"dtype\": \"number\",\n        \"std\": 291,\n        \"min\": 784,\n        \"max\": 2700,\n        \"num_unique_values\": 1516,\n        \"samples\": [\n          1571,\n          1232\n        ],\n        \"semantic_type\": \"\",\n        \"description\": \"\"\n      }\n    },\n    {\n      \"column\": \"black_id\",\n      \"properties\": {\n        \"dtype\": \"category\",\n        \"num_unique_values\": 9331,\n        \"samples\": [\n          \"tandemchess\",\n          \"ghaffari\"\n        ],\n        \"semantic_type\": \"\",\n        \"description\": \"\"\n      }\n    },\n    {\n      \"column\": \"black_rating\",\n      \"properties\": {\n        \"dtype\": \"number\",\n        \"std\": 291,\n        \"min\": 789,\n        \"max\": 2723,\n        \"num_unique_values\": 1521,\n        \"samples\": [\n          1811,\n          1817\n        ],\n        \"semantic_type\": \"\",\n        \"description\": \"\"\n      }\n    },\n    {\n      \"column\": \"moves\",\n      \"properties\": {\n        \"dtype\": \"string\",\n        \"num_unique_values\": 18920,\n        \"samples\": [\n          \"d4 Nf6 c4 e6 Nf3 d5 Nc3 Bb4 a3 Bxc3+ bxc3 c6 Bg5 O-O cxd5 cxd5 e3 Nbd7 Bd3 h6 Bf4 a6 Ne5 b5 a4 Bb7 axb5 axb5 Rxa8 Bxa8 Bxb5 Nxe5 Bxe5 Ne4 Qd3 Qa5 O-O Nxc3 Bd7 Rd8 Rc1 Rxd7 Qxc3 Qxc3 Rxc3 Ra7 Rc8+ Kh7 h3 Ra1+ Kh2 f6 Bd6 Ra6 Bf8 Kg8 Bc5+ Kh7 f3 h5 e4 dxe4 fxe4 Bxe4 Re8 Ra2 Rxe6 Rxg2+ Kh1 Bf3 Rd6\",\n          \"e4 c5 Nf3 Nc6 d4 cxd4 Nxd4 e5 Nxc6 bxc6 Nc3 Bb4 Bd2 Qf6 Qe2 a5 O-O-O Ba6 a3 Bxe2 Bxe2 Bxc3 Bxc3 Qxf2 Bf3 Nf6 Bxe5 O-O-O Rhf1 Qb6 Bd4 c5 Be3 d5 e5 d4 Bg5 Rhe8 exf6 gxf6 Bg4+ Kb7 Rxf6 Qb5 Bf3+ Ka7 Rxf7+ Ka6 Bxd8 Rxd8 Re1 Rb8 b3 a4 Be2 Qxe2 Rxe2 axb3 Re6+ Ka5 Ra7+ Kb5 cxb3 d3 Kd2 c4 bxc4+ Kxc4 Re4+ Kb3 Kxd3 Ka2 Rxh7 Rb3+ Kd4 Rxa3 Re2+ Kb3 Re3+ Ka4 Rxa3+ Kxa3 g4\"\n        ],\n        \"semantic_type\": \"\",\n        \"description\": \"\"\n      }\n    },\n    {\n      \"column\": \"opening_eco\",\n      \"properties\": {\n        \"dtype\": \"category\",\n        \"num_unique_values\": 365,\n        \"samples\": [\n          \"B25\",\n          \"A04\"\n        ],\n        \"semantic_type\": \"\",\n        \"description\": \"\"\n      }\n    },\n    {\n      \"column\": \"opening_name\",\n      \"properties\": {\n        \"dtype\": \"category\",\n        \"num_unique_values\": 1477,\n        \"samples\": [\n          \"Semi-Slav Defense: Marshall Gambit\",\n          \"Mikenas Defense\"\n        ],\n        \"semantic_type\": \"\",\n        \"description\": \"\"\n      }\n    },\n    {\n      \"column\": \"opening_ply\",\n      \"properties\": {\n        \"dtype\": \"number\",\n        \"std\": 2,\n        \"min\": 1,\n        \"max\": 28,\n        \"num_unique_values\": 23,\n        \"samples\": [\n          19,\n          7\n        ],\n        \"semantic_type\": \"\",\n        \"description\": \"\"\n      }\n    }\n  ]\n}"
            }
          },
          "metadata": {},
          "execution_count": 94
        }
      ]
    },
    {
      "cell_type": "code",
      "source": [
        "df['black_rating'].value_counts()"
      ],
      "metadata": {
        "id": "_0PAjA_MCiSS",
        "colab": {
          "base_uri": "https://localhost:8080/",
          "height": 490
        },
        "outputId": "ac6c0952-4080-45bc-9fa5-a98990391d6c"
      },
      "execution_count": null,
      "outputs": [
        {
          "output_type": "execute_result",
          "data": {
            "text/plain": [
              "black_rating\n",
              "1500    797\n",
              "1400     69\n",
              "1501     53\n",
              "1810     49\n",
              "1562     45\n",
              "       ... \n",
              "2468      1\n",
              "2524      1\n",
              "1059      1\n",
              "864       1\n",
              "2289      1\n",
              "Name: count, Length: 1521, dtype: int64"
            ],
            "text/html": [
              "<div>\n",
              "<style scoped>\n",
              "    .dataframe tbody tr th:only-of-type {\n",
              "        vertical-align: middle;\n",
              "    }\n",
              "\n",
              "    .dataframe tbody tr th {\n",
              "        vertical-align: top;\n",
              "    }\n",
              "\n",
              "    .dataframe thead th {\n",
              "        text-align: right;\n",
              "    }\n",
              "</style>\n",
              "<table border=\"1\" class=\"dataframe\">\n",
              "  <thead>\n",
              "    <tr style=\"text-align: right;\">\n",
              "      <th></th>\n",
              "      <th>count</th>\n",
              "    </tr>\n",
              "    <tr>\n",
              "      <th>black_rating</th>\n",
              "      <th></th>\n",
              "    </tr>\n",
              "  </thead>\n",
              "  <tbody>\n",
              "    <tr>\n",
              "      <th>1500</th>\n",
              "      <td>797</td>\n",
              "    </tr>\n",
              "    <tr>\n",
              "      <th>1400</th>\n",
              "      <td>69</td>\n",
              "    </tr>\n",
              "    <tr>\n",
              "      <th>1501</th>\n",
              "      <td>53</td>\n",
              "    </tr>\n",
              "    <tr>\n",
              "      <th>1810</th>\n",
              "      <td>49</td>\n",
              "    </tr>\n",
              "    <tr>\n",
              "      <th>1562</th>\n",
              "      <td>45</td>\n",
              "    </tr>\n",
              "    <tr>\n",
              "      <th>...</th>\n",
              "      <td>...</td>\n",
              "    </tr>\n",
              "    <tr>\n",
              "      <th>2468</th>\n",
              "      <td>1</td>\n",
              "    </tr>\n",
              "    <tr>\n",
              "      <th>2524</th>\n",
              "      <td>1</td>\n",
              "    </tr>\n",
              "    <tr>\n",
              "      <th>1059</th>\n",
              "      <td>1</td>\n",
              "    </tr>\n",
              "    <tr>\n",
              "      <th>864</th>\n",
              "      <td>1</td>\n",
              "    </tr>\n",
              "    <tr>\n",
              "      <th>2289</th>\n",
              "      <td>1</td>\n",
              "    </tr>\n",
              "  </tbody>\n",
              "</table>\n",
              "<p>1521 rows × 1 columns</p>\n",
              "</div><br><label><b>dtype:</b> int64</label>"
            ]
          },
          "metadata": {},
          "execution_count": 95
        }
      ]
    },
    {
      "cell_type": "code",
      "source": [
        "[col for col in df.columns if df[col].isnull().sum()>0]"
      ],
      "metadata": {
        "id": "8s8f1a7_CiPP",
        "colab": {
          "base_uri": "https://localhost:8080/"
        },
        "outputId": "0b8028c6-9b08-4b36-d5fa-923ce477eb07"
      },
      "execution_count": null,
      "outputs": [
        {
          "output_type": "execute_result",
          "data": {
            "text/plain": [
              "[]"
            ]
          },
          "metadata": {},
          "execution_count": 96
        }
      ]
    },
    {
      "cell_type": "code",
      "source": [
        "df[df['black_id'].isnull()]"
      ],
      "metadata": {
        "id": "YL1GHsICCiKy",
        "colab": {
          "base_uri": "https://localhost:8080/",
          "height": 73
        },
        "outputId": "cd40472c-0ce9-433c-f9cb-373c2e5140c0"
      },
      "execution_count": null,
      "outputs": [
        {
          "output_type": "execute_result",
          "data": {
            "text/plain": [
              "Empty DataFrame\n",
              "Columns: [id, rated, created_at, last_move_at, turns, victory_status, winner, increment_code, white_id, white_rating, black_id, black_rating, moves, opening_eco, opening_name, opening_ply]\n",
              "Index: []"
            ],
            "text/html": [
              "\n",
              "  <div id=\"df-22df65a2-346e-4b1f-b21c-2679ec7297f9\" class=\"colab-df-container\">\n",
              "    <div>\n",
              "<style scoped>\n",
              "    .dataframe tbody tr th:only-of-type {\n",
              "        vertical-align: middle;\n",
              "    }\n",
              "\n",
              "    .dataframe tbody tr th {\n",
              "        vertical-align: top;\n",
              "    }\n",
              "\n",
              "    .dataframe thead th {\n",
              "        text-align: right;\n",
              "    }\n",
              "</style>\n",
              "<table border=\"1\" class=\"dataframe\">\n",
              "  <thead>\n",
              "    <tr style=\"text-align: right;\">\n",
              "      <th></th>\n",
              "      <th>id</th>\n",
              "      <th>rated</th>\n",
              "      <th>created_at</th>\n",
              "      <th>last_move_at</th>\n",
              "      <th>turns</th>\n",
              "      <th>victory_status</th>\n",
              "      <th>winner</th>\n",
              "      <th>increment_code</th>\n",
              "      <th>white_id</th>\n",
              "      <th>white_rating</th>\n",
              "      <th>black_id</th>\n",
              "      <th>black_rating</th>\n",
              "      <th>moves</th>\n",
              "      <th>opening_eco</th>\n",
              "      <th>opening_name</th>\n",
              "      <th>opening_ply</th>\n",
              "    </tr>\n",
              "  </thead>\n",
              "  <tbody>\n",
              "  </tbody>\n",
              "</table>\n",
              "</div>\n",
              "    <div class=\"colab-df-buttons\">\n",
              "\n",
              "  <div class=\"colab-df-container\">\n",
              "    <button class=\"colab-df-convert\" onclick=\"convertToInteractive('df-22df65a2-346e-4b1f-b21c-2679ec7297f9')\"\n",
              "            title=\"Convert this dataframe to an interactive table.\"\n",
              "            style=\"display:none;\">\n",
              "\n",
              "  <svg xmlns=\"http://www.w3.org/2000/svg\" height=\"24px\" viewBox=\"0 -960 960 960\">\n",
              "    <path d=\"M120-120v-720h720v720H120Zm60-500h600v-160H180v160Zm220 220h160v-160H400v160Zm0 220h160v-160H400v160ZM180-400h160v-160H180v160Zm440 0h160v-160H620v160ZM180-180h160v-160H180v160Zm440 0h160v-160H620v160Z\"/>\n",
              "  </svg>\n",
              "    </button>\n",
              "\n",
              "  <style>\n",
              "    .colab-df-container {\n",
              "      display:flex;\n",
              "      gap: 12px;\n",
              "    }\n",
              "\n",
              "    .colab-df-convert {\n",
              "      background-color: #E8F0FE;\n",
              "      border: none;\n",
              "      border-radius: 50%;\n",
              "      cursor: pointer;\n",
              "      display: none;\n",
              "      fill: #1967D2;\n",
              "      height: 32px;\n",
              "      padding: 0 0 0 0;\n",
              "      width: 32px;\n",
              "    }\n",
              "\n",
              "    .colab-df-convert:hover {\n",
              "      background-color: #E2EBFA;\n",
              "      box-shadow: 0px 1px 2px rgba(60, 64, 67, 0.3), 0px 1px 3px 1px rgba(60, 64, 67, 0.15);\n",
              "      fill: #174EA6;\n",
              "    }\n",
              "\n",
              "    .colab-df-buttons div {\n",
              "      margin-bottom: 4px;\n",
              "    }\n",
              "\n",
              "    [theme=dark] .colab-df-convert {\n",
              "      background-color: #3B4455;\n",
              "      fill: #D2E3FC;\n",
              "    }\n",
              "\n",
              "    [theme=dark] .colab-df-convert:hover {\n",
              "      background-color: #434B5C;\n",
              "      box-shadow: 0px 1px 3px 1px rgba(0, 0, 0, 0.15);\n",
              "      filter: drop-shadow(0px 1px 2px rgba(0, 0, 0, 0.3));\n",
              "      fill: #FFFFFF;\n",
              "    }\n",
              "  </style>\n",
              "\n",
              "    <script>\n",
              "      const buttonEl =\n",
              "        document.querySelector('#df-22df65a2-346e-4b1f-b21c-2679ec7297f9 button.colab-df-convert');\n",
              "      buttonEl.style.display =\n",
              "        google.colab.kernel.accessAllowed ? 'block' : 'none';\n",
              "\n",
              "      async function convertToInteractive(key) {\n",
              "        const element = document.querySelector('#df-22df65a2-346e-4b1f-b21c-2679ec7297f9');\n",
              "        const dataTable =\n",
              "          await google.colab.kernel.invokeFunction('convertToInteractive',\n",
              "                                                    [key], {});\n",
              "        if (!dataTable) return;\n",
              "\n",
              "        const docLinkHtml = 'Like what you see? Visit the ' +\n",
              "          '<a target=\"_blank\" href=https://colab.research.google.com/notebooks/data_table.ipynb>data table notebook</a>'\n",
              "          + ' to learn more about interactive tables.';\n",
              "        element.innerHTML = '';\n",
              "        dataTable['output_type'] = 'display_data';\n",
              "        await google.colab.output.renderOutput(dataTable, element);\n",
              "        const docLink = document.createElement('div');\n",
              "        docLink.innerHTML = docLinkHtml;\n",
              "        element.appendChild(docLink);\n",
              "      }\n",
              "    </script>\n",
              "  </div>\n",
              "\n",
              "\n",
              "    </div>\n",
              "  </div>\n"
            ],
            "application/vnd.google.colaboratory.intrinsic+json": {
              "type": "dataframe",
              "repr_error": "Out of range float values are not JSON compliant: nan"
            }
          },
          "metadata": {},
          "execution_count": 97
        }
      ]
    },
    {
      "cell_type": "code",
      "source": [
        "df.columns"
      ],
      "metadata": {
        "id": "xuTEBxDAFZ6D",
        "colab": {
          "base_uri": "https://localhost:8080/"
        },
        "outputId": "860c011d-394e-489c-8a6c-ee0c3199363d"
      },
      "execution_count": null,
      "outputs": [
        {
          "output_type": "execute_result",
          "data": {
            "text/plain": [
              "Index(['id', 'rated', 'created_at', 'last_move_at', 'turns', 'victory_status',\n",
              "       'winner', 'increment_code', 'white_id', 'white_rating', 'black_id',\n",
              "       'black_rating', 'moves', 'opening_eco', 'opening_name', 'opening_ply'],\n",
              "      dtype='object')"
            ]
          },
          "metadata": {},
          "execution_count": 99
        }
      ]
    },
    {
      "cell_type": "code",
      "source": [
        "df = df.dropna(subset=['opening_ply'])"
      ],
      "metadata": {
        "id": "E7mJR_CfFZ2k"
      },
      "execution_count": null,
      "outputs": []
    },
    {
      "cell_type": "code",
      "source": [
        "[col for col in df.columns if df[col].isnull().sum()>0]"
      ],
      "metadata": {
        "id": "OQMc4YXDFZzm",
        "colab": {
          "base_uri": "https://localhost:8080/"
        },
        "outputId": "7ee22388-5e0e-4459-9801-53c41a154e75"
      },
      "execution_count": null,
      "outputs": [
        {
          "output_type": "execute_result",
          "data": {
            "text/plain": [
              "[]"
            ]
          },
          "metadata": {},
          "execution_count": 101
        }
      ]
    },
    {
      "cell_type": "code",
      "source": [
        "X= df.drop(labels=['opening_ply'],axis=1)\n",
        "y=df['opening_ply']"
      ],
      "metadata": {
        "id": "Fu36uMtUFZw7"
      },
      "execution_count": null,
      "outputs": []
    },
    {
      "cell_type": "code",
      "source": [
        "x_train,x_test,y_train,y_test=train_test_split(X,y,test_size=0.3,random_state=0)"
      ],
      "metadata": {
        "id": "9G8pFZjYFZuE"
      },
      "execution_count": null,
      "outputs": []
    },
    {
      "cell_type": "code",
      "source": [
        "# constant features\n",
        "constant_features=[features for features in x_train.columns if x_train[features].std()==0]\n",
        "print(constant_features)"
      ],
      "metadata": {
        "id": "EM68cahGFZrP",
        "colab": {
          "base_uri": "https://localhost:8080/",
          "height": 408
        },
        "outputId": "1f07d56e-3f41-46b1-cf83-e8269696f68f"
      },
      "execution_count": null,
      "outputs": [
        {
          "output_type": "error",
          "ename": "TypeError",
          "evalue": "could not convert string to float: 'E2ODizgR'",
          "traceback": [
            "\u001b[0;31m---------------------------------------------------------------------------\u001b[0m",
            "\u001b[0;31mValueError\u001b[0m                                Traceback (most recent call last)",
            "\u001b[0;32m/usr/local/lib/python3.11/dist-packages/pandas/core/nanops.py\u001b[0m in \u001b[0;36m_f\u001b[0;34m(*args, **kwargs)\u001b[0m\n\u001b[1;32m     84\u001b[0m             \u001b[0;32mtry\u001b[0m\u001b[0;34m:\u001b[0m\u001b[0;34m\u001b[0m\u001b[0;34m\u001b[0m\u001b[0m\n\u001b[0;32m---> 85\u001b[0;31m                 \u001b[0;32mreturn\u001b[0m \u001b[0mf\u001b[0m\u001b[0;34m(\u001b[0m\u001b[0;34m*\u001b[0m\u001b[0margs\u001b[0m\u001b[0;34m,\u001b[0m \u001b[0;34m**\u001b[0m\u001b[0mkwargs\u001b[0m\u001b[0;34m)\u001b[0m\u001b[0;34m\u001b[0m\u001b[0;34m\u001b[0m\u001b[0m\n\u001b[0m\u001b[1;32m     86\u001b[0m             \u001b[0;32mexcept\u001b[0m \u001b[0mValueError\u001b[0m \u001b[0;32mas\u001b[0m \u001b[0me\u001b[0m\u001b[0;34m:\u001b[0m\u001b[0;34m\u001b[0m\u001b[0;34m\u001b[0m\u001b[0m\n",
            "\u001b[0;32m/usr/local/lib/python3.11/dist-packages/pandas/core/nanops.py\u001b[0m in \u001b[0;36mf\u001b[0;34m(values, axis, skipna, **kwds)\u001b[0m\n\u001b[1;32m    146\u001b[0m             \u001b[0;32melse\u001b[0m\u001b[0;34m:\u001b[0m\u001b[0;34m\u001b[0m\u001b[0;34m\u001b[0m\u001b[0m\n\u001b[0;32m--> 147\u001b[0;31m                 \u001b[0mresult\u001b[0m \u001b[0;34m=\u001b[0m \u001b[0malt\u001b[0m\u001b[0;34m(\u001b[0m\u001b[0mvalues\u001b[0m\u001b[0;34m,\u001b[0m \u001b[0maxis\u001b[0m\u001b[0;34m=\u001b[0m\u001b[0maxis\u001b[0m\u001b[0;34m,\u001b[0m \u001b[0mskipna\u001b[0m\u001b[0;34m=\u001b[0m\u001b[0mskipna\u001b[0m\u001b[0;34m,\u001b[0m \u001b[0;34m**\u001b[0m\u001b[0mkwds\u001b[0m\u001b[0;34m)\u001b[0m\u001b[0;34m\u001b[0m\u001b[0;34m\u001b[0m\u001b[0m\n\u001b[0m\u001b[1;32m    148\u001b[0m \u001b[0;34m\u001b[0m\u001b[0m\n",
            "\u001b[0;32m/usr/local/lib/python3.11/dist-packages/pandas/core/nanops.py\u001b[0m in \u001b[0;36mnanvar\u001b[0;34m(values, axis, skipna, ddof, mask)\u001b[0m\n\u001b[1;32m   1012\u001b[0m     \u001b[0;31m# See https://en.wikipedia.org/wiki/Algorithms_for_calculating_variance\u001b[0m\u001b[0;34m\u001b[0m\u001b[0;34m\u001b[0m\u001b[0m\n\u001b[0;32m-> 1013\u001b[0;31m     \u001b[0mavg\u001b[0m \u001b[0;34m=\u001b[0m \u001b[0m_ensure_numeric\u001b[0m\u001b[0;34m(\u001b[0m\u001b[0mvalues\u001b[0m\u001b[0;34m.\u001b[0m\u001b[0msum\u001b[0m\u001b[0;34m(\u001b[0m\u001b[0maxis\u001b[0m\u001b[0;34m=\u001b[0m\u001b[0maxis\u001b[0m\u001b[0;34m,\u001b[0m \u001b[0mdtype\u001b[0m\u001b[0;34m=\u001b[0m\u001b[0mnp\u001b[0m\u001b[0;34m.\u001b[0m\u001b[0mfloat64\u001b[0m\u001b[0;34m)\u001b[0m\u001b[0;34m)\u001b[0m \u001b[0;34m/\u001b[0m \u001b[0mcount\u001b[0m\u001b[0;34m\u001b[0m\u001b[0;34m\u001b[0m\u001b[0m\n\u001b[0m\u001b[1;32m   1014\u001b[0m     \u001b[0;32mif\u001b[0m \u001b[0maxis\u001b[0m \u001b[0;32mis\u001b[0m \u001b[0;32mnot\u001b[0m \u001b[0;32mNone\u001b[0m\u001b[0;34m:\u001b[0m\u001b[0;34m\u001b[0m\u001b[0;34m\u001b[0m\u001b[0m\n",
            "\u001b[0;32m/usr/local/lib/python3.11/dist-packages/numpy/_core/_methods.py\u001b[0m in \u001b[0;36m_sum\u001b[0;34m(a, axis, dtype, out, keepdims, initial, where)\u001b[0m\n\u001b[1;32m     51\u001b[0m          initial=_NoValue, where=True):\n\u001b[0;32m---> 52\u001b[0;31m     \u001b[0;32mreturn\u001b[0m \u001b[0mumr_sum\u001b[0m\u001b[0;34m(\u001b[0m\u001b[0ma\u001b[0m\u001b[0;34m,\u001b[0m \u001b[0maxis\u001b[0m\u001b[0;34m,\u001b[0m \u001b[0mdtype\u001b[0m\u001b[0;34m,\u001b[0m \u001b[0mout\u001b[0m\u001b[0;34m,\u001b[0m \u001b[0mkeepdims\u001b[0m\u001b[0;34m,\u001b[0m \u001b[0minitial\u001b[0m\u001b[0;34m,\u001b[0m \u001b[0mwhere\u001b[0m\u001b[0;34m)\u001b[0m\u001b[0;34m\u001b[0m\u001b[0;34m\u001b[0m\u001b[0m\n\u001b[0m\u001b[1;32m     53\u001b[0m \u001b[0;34m\u001b[0m\u001b[0m\n",
            "\u001b[0;31mValueError\u001b[0m: could not convert string to float: 'E2ODizgR'",
            "\nThe above exception was the direct cause of the following exception:\n",
            "\u001b[0;31mTypeError\u001b[0m                                 Traceback (most recent call last)",
            "\u001b[0;32m/tmp/ipython-input-2261559277.py\u001b[0m in \u001b[0;36m<cell line: 0>\u001b[0;34m()\u001b[0m\n\u001b[1;32m      1\u001b[0m \u001b[0;31m# constant features\u001b[0m\u001b[0;34m\u001b[0m\u001b[0;34m\u001b[0m\u001b[0m\n\u001b[0;32m----> 2\u001b[0;31m \u001b[0mconstant_features\u001b[0m\u001b[0;34m=\u001b[0m\u001b[0;34m[\u001b[0m\u001b[0mfeatures\u001b[0m \u001b[0;32mfor\u001b[0m \u001b[0mfeatures\u001b[0m \u001b[0;32min\u001b[0m \u001b[0mx_train\u001b[0m\u001b[0;34m.\u001b[0m\u001b[0mcolumns\u001b[0m \u001b[0;32mif\u001b[0m \u001b[0mx_train\u001b[0m\u001b[0;34m[\u001b[0m\u001b[0mfeatures\u001b[0m\u001b[0;34m]\u001b[0m\u001b[0;34m.\u001b[0m\u001b[0mstd\u001b[0m\u001b[0;34m(\u001b[0m\u001b[0;34m)\u001b[0m\u001b[0;34m==\u001b[0m\u001b[0;36m0\u001b[0m\u001b[0;34m]\u001b[0m\u001b[0;34m\u001b[0m\u001b[0;34m\u001b[0m\u001b[0m\n\u001b[0m\u001b[1;32m      3\u001b[0m \u001b[0mprint\u001b[0m\u001b[0;34m(\u001b[0m\u001b[0mconstant_features\u001b[0m\u001b[0;34m)\u001b[0m\u001b[0;34m\u001b[0m\u001b[0;34m\u001b[0m\u001b[0m\n",
            "\u001b[0;32m/tmp/ipython-input-2261559277.py\u001b[0m in \u001b[0;36m<listcomp>\u001b[0;34m(.0)\u001b[0m\n\u001b[1;32m      1\u001b[0m \u001b[0;31m# constant features\u001b[0m\u001b[0;34m\u001b[0m\u001b[0;34m\u001b[0m\u001b[0m\n\u001b[0;32m----> 2\u001b[0;31m \u001b[0mconstant_features\u001b[0m\u001b[0;34m=\u001b[0m\u001b[0;34m[\u001b[0m\u001b[0mfeatures\u001b[0m \u001b[0;32mfor\u001b[0m \u001b[0mfeatures\u001b[0m \u001b[0;32min\u001b[0m \u001b[0mx_train\u001b[0m\u001b[0;34m.\u001b[0m\u001b[0mcolumns\u001b[0m \u001b[0;32mif\u001b[0m \u001b[0mx_train\u001b[0m\u001b[0;34m[\u001b[0m\u001b[0mfeatures\u001b[0m\u001b[0;34m]\u001b[0m\u001b[0;34m.\u001b[0m\u001b[0mstd\u001b[0m\u001b[0;34m(\u001b[0m\u001b[0;34m)\u001b[0m\u001b[0;34m==\u001b[0m\u001b[0;36m0\u001b[0m\u001b[0;34m]\u001b[0m\u001b[0;34m\u001b[0m\u001b[0;34m\u001b[0m\u001b[0m\n\u001b[0m\u001b[1;32m      3\u001b[0m \u001b[0mprint\u001b[0m\u001b[0;34m(\u001b[0m\u001b[0mconstant_features\u001b[0m\u001b[0;34m)\u001b[0m\u001b[0;34m\u001b[0m\u001b[0;34m\u001b[0m\u001b[0m\n",
            "\u001b[0;32m/usr/local/lib/python3.11/dist-packages/pandas/core/series.py\u001b[0m in \u001b[0;36mstd\u001b[0;34m(self, axis, skipna, ddof, numeric_only, **kwargs)\u001b[0m\n\u001b[1;32m   6590\u001b[0m         \u001b[0;34m**\u001b[0m\u001b[0mkwargs\u001b[0m\u001b[0;34m,\u001b[0m\u001b[0;34m\u001b[0m\u001b[0;34m\u001b[0m\u001b[0m\n\u001b[1;32m   6591\u001b[0m     ):\n\u001b[0;32m-> 6592\u001b[0;31m         \u001b[0;32mreturn\u001b[0m \u001b[0mNDFrame\u001b[0m\u001b[0;34m.\u001b[0m\u001b[0mstd\u001b[0m\u001b[0;34m(\u001b[0m\u001b[0mself\u001b[0m\u001b[0;34m,\u001b[0m \u001b[0maxis\u001b[0m\u001b[0;34m,\u001b[0m \u001b[0mskipna\u001b[0m\u001b[0;34m,\u001b[0m \u001b[0mddof\u001b[0m\u001b[0;34m,\u001b[0m \u001b[0mnumeric_only\u001b[0m\u001b[0;34m,\u001b[0m \u001b[0;34m**\u001b[0m\u001b[0mkwargs\u001b[0m\u001b[0;34m)\u001b[0m\u001b[0;34m\u001b[0m\u001b[0;34m\u001b[0m\u001b[0m\n\u001b[0m\u001b[1;32m   6593\u001b[0m \u001b[0;34m\u001b[0m\u001b[0m\n\u001b[1;32m   6594\u001b[0m     \u001b[0;34m@\u001b[0m\u001b[0mdoc\u001b[0m\u001b[0;34m(\u001b[0m\u001b[0mmake_doc\u001b[0m\u001b[0;34m(\u001b[0m\u001b[0;34m\"skew\"\u001b[0m\u001b[0;34m,\u001b[0m \u001b[0mndim\u001b[0m\u001b[0;34m=\u001b[0m\u001b[0;36m1\u001b[0m\u001b[0;34m)\u001b[0m\u001b[0;34m)\u001b[0m\u001b[0;34m\u001b[0m\u001b[0;34m\u001b[0m\u001b[0m\n",
            "\u001b[0;32m/usr/local/lib/python3.11/dist-packages/pandas/core/generic.py\u001b[0m in \u001b[0;36mstd\u001b[0;34m(self, axis, skipna, ddof, numeric_only, **kwargs)\u001b[0m\n\u001b[1;32m  12356\u001b[0m         \u001b[0;34m**\u001b[0m\u001b[0mkwargs\u001b[0m\u001b[0;34m,\u001b[0m\u001b[0;34m\u001b[0m\u001b[0;34m\u001b[0m\u001b[0m\n\u001b[1;32m  12357\u001b[0m     ) -> Series | float:\n\u001b[0;32m> 12358\u001b[0;31m         return self._stat_function_ddof(\n\u001b[0m\u001b[1;32m  12359\u001b[0m             \u001b[0;34m\"std\"\u001b[0m\u001b[0;34m,\u001b[0m \u001b[0mnanops\u001b[0m\u001b[0;34m.\u001b[0m\u001b[0mnanstd\u001b[0m\u001b[0;34m,\u001b[0m \u001b[0maxis\u001b[0m\u001b[0;34m,\u001b[0m \u001b[0mskipna\u001b[0m\u001b[0;34m,\u001b[0m \u001b[0mddof\u001b[0m\u001b[0;34m,\u001b[0m \u001b[0mnumeric_only\u001b[0m\u001b[0;34m,\u001b[0m \u001b[0;34m**\u001b[0m\u001b[0mkwargs\u001b[0m\u001b[0;34m\u001b[0m\u001b[0;34m\u001b[0m\u001b[0m\n\u001b[1;32m  12360\u001b[0m         )\n",
            "\u001b[0;32m/usr/local/lib/python3.11/dist-packages/pandas/core/generic.py\u001b[0m in \u001b[0;36m_stat_function_ddof\u001b[0;34m(self, name, func, axis, skipna, ddof, numeric_only, **kwargs)\u001b[0m\n\u001b[1;32m  12320\u001b[0m             \u001b[0maxis\u001b[0m \u001b[0;34m=\u001b[0m \u001b[0;36m0\u001b[0m\u001b[0;34m\u001b[0m\u001b[0;34m\u001b[0m\u001b[0m\n\u001b[1;32m  12321\u001b[0m \u001b[0;34m\u001b[0m\u001b[0m\n\u001b[0;32m> 12322\u001b[0;31m         return self._reduce(\n\u001b[0m\u001b[1;32m  12323\u001b[0m             \u001b[0mfunc\u001b[0m\u001b[0;34m,\u001b[0m \u001b[0mname\u001b[0m\u001b[0;34m,\u001b[0m \u001b[0maxis\u001b[0m\u001b[0;34m=\u001b[0m\u001b[0maxis\u001b[0m\u001b[0;34m,\u001b[0m \u001b[0mnumeric_only\u001b[0m\u001b[0;34m=\u001b[0m\u001b[0mnumeric_only\u001b[0m\u001b[0;34m,\u001b[0m \u001b[0mskipna\u001b[0m\u001b[0;34m=\u001b[0m\u001b[0mskipna\u001b[0m\u001b[0;34m,\u001b[0m \u001b[0mddof\u001b[0m\u001b[0;34m=\u001b[0m\u001b[0mddof\u001b[0m\u001b[0;34m\u001b[0m\u001b[0;34m\u001b[0m\u001b[0m\n\u001b[1;32m  12324\u001b[0m         )\n",
            "\u001b[0;32m/usr/local/lib/python3.11/dist-packages/pandas/core/series.py\u001b[0m in \u001b[0;36m_reduce\u001b[0;34m(self, op, name, axis, skipna, numeric_only, filter_type, **kwds)\u001b[0m\n\u001b[1;32m   6455\u001b[0m                     \u001b[0;34m\"with non-numeric dtypes.\"\u001b[0m\u001b[0;34m\u001b[0m\u001b[0;34m\u001b[0m\u001b[0m\n\u001b[1;32m   6456\u001b[0m                 )\n\u001b[0;32m-> 6457\u001b[0;31m             \u001b[0;32mreturn\u001b[0m \u001b[0mop\u001b[0m\u001b[0;34m(\u001b[0m\u001b[0mdelegate\u001b[0m\u001b[0;34m,\u001b[0m \u001b[0mskipna\u001b[0m\u001b[0;34m=\u001b[0m\u001b[0mskipna\u001b[0m\u001b[0;34m,\u001b[0m \u001b[0;34m**\u001b[0m\u001b[0mkwds\u001b[0m\u001b[0;34m)\u001b[0m\u001b[0;34m\u001b[0m\u001b[0;34m\u001b[0m\u001b[0m\n\u001b[0m\u001b[1;32m   6458\u001b[0m \u001b[0;34m\u001b[0m\u001b[0m\n\u001b[1;32m   6459\u001b[0m     \u001b[0;34m@\u001b[0m\u001b[0mAppender\u001b[0m\u001b[0;34m(\u001b[0m\u001b[0mmake_doc\u001b[0m\u001b[0;34m(\u001b[0m\u001b[0;34m\"any\"\u001b[0m\u001b[0;34m,\u001b[0m \u001b[0mndim\u001b[0m\u001b[0;34m=\u001b[0m\u001b[0;36m1\u001b[0m\u001b[0;34m)\u001b[0m\u001b[0;34m)\u001b[0m\u001b[0;34m\u001b[0m\u001b[0;34m\u001b[0m\u001b[0m\n",
            "\u001b[0;32m/usr/local/lib/python3.11/dist-packages/pandas/core/nanops.py\u001b[0m in \u001b[0;36mf\u001b[0;34m(values, axis, skipna, **kwds)\u001b[0m\n\u001b[1;32m    145\u001b[0m                     \u001b[0mresult\u001b[0m \u001b[0;34m=\u001b[0m \u001b[0malt\u001b[0m\u001b[0;34m(\u001b[0m\u001b[0mvalues\u001b[0m\u001b[0;34m,\u001b[0m \u001b[0maxis\u001b[0m\u001b[0;34m=\u001b[0m\u001b[0maxis\u001b[0m\u001b[0;34m,\u001b[0m \u001b[0mskipna\u001b[0m\u001b[0;34m=\u001b[0m\u001b[0mskipna\u001b[0m\u001b[0;34m,\u001b[0m \u001b[0;34m**\u001b[0m\u001b[0mkwds\u001b[0m\u001b[0;34m)\u001b[0m\u001b[0;34m\u001b[0m\u001b[0;34m\u001b[0m\u001b[0m\n\u001b[1;32m    146\u001b[0m             \u001b[0;32melse\u001b[0m\u001b[0;34m:\u001b[0m\u001b[0;34m\u001b[0m\u001b[0;34m\u001b[0m\u001b[0m\n\u001b[0;32m--> 147\u001b[0;31m                 \u001b[0mresult\u001b[0m \u001b[0;34m=\u001b[0m \u001b[0malt\u001b[0m\u001b[0;34m(\u001b[0m\u001b[0mvalues\u001b[0m\u001b[0;34m,\u001b[0m \u001b[0maxis\u001b[0m\u001b[0;34m=\u001b[0m\u001b[0maxis\u001b[0m\u001b[0;34m,\u001b[0m \u001b[0mskipna\u001b[0m\u001b[0;34m=\u001b[0m\u001b[0mskipna\u001b[0m\u001b[0;34m,\u001b[0m \u001b[0;34m**\u001b[0m\u001b[0mkwds\u001b[0m\u001b[0;34m)\u001b[0m\u001b[0;34m\u001b[0m\u001b[0;34m\u001b[0m\u001b[0m\n\u001b[0m\u001b[1;32m    148\u001b[0m \u001b[0;34m\u001b[0m\u001b[0m\n\u001b[1;32m    149\u001b[0m             \u001b[0;32mreturn\u001b[0m \u001b[0mresult\u001b[0m\u001b[0;34m\u001b[0m\u001b[0;34m\u001b[0m\u001b[0m\n",
            "\u001b[0;32m/usr/local/lib/python3.11/dist-packages/pandas/core/nanops.py\u001b[0m in \u001b[0;36mnanstd\u001b[0;34m(values, axis, skipna, ddof, mask)\u001b[0m\n\u001b[1;32m    948\u001b[0m     \u001b[0mvalues\u001b[0m\u001b[0;34m,\u001b[0m \u001b[0mmask\u001b[0m \u001b[0;34m=\u001b[0m \u001b[0m_get_values\u001b[0m\u001b[0;34m(\u001b[0m\u001b[0mvalues\u001b[0m\u001b[0;34m,\u001b[0m \u001b[0mskipna\u001b[0m\u001b[0;34m,\u001b[0m \u001b[0mmask\u001b[0m\u001b[0;34m=\u001b[0m\u001b[0mmask\u001b[0m\u001b[0;34m)\u001b[0m\u001b[0;34m\u001b[0m\u001b[0;34m\u001b[0m\u001b[0m\n\u001b[1;32m    949\u001b[0m \u001b[0;34m\u001b[0m\u001b[0m\n\u001b[0;32m--> 950\u001b[0;31m     \u001b[0mresult\u001b[0m \u001b[0;34m=\u001b[0m \u001b[0mnp\u001b[0m\u001b[0;34m.\u001b[0m\u001b[0msqrt\u001b[0m\u001b[0;34m(\u001b[0m\u001b[0mnanvar\u001b[0m\u001b[0;34m(\u001b[0m\u001b[0mvalues\u001b[0m\u001b[0;34m,\u001b[0m \u001b[0maxis\u001b[0m\u001b[0;34m=\u001b[0m\u001b[0maxis\u001b[0m\u001b[0;34m,\u001b[0m \u001b[0mskipna\u001b[0m\u001b[0;34m=\u001b[0m\u001b[0mskipna\u001b[0m\u001b[0;34m,\u001b[0m \u001b[0mddof\u001b[0m\u001b[0;34m=\u001b[0m\u001b[0mddof\u001b[0m\u001b[0;34m,\u001b[0m \u001b[0mmask\u001b[0m\u001b[0;34m=\u001b[0m\u001b[0mmask\u001b[0m\u001b[0;34m)\u001b[0m\u001b[0;34m)\u001b[0m\u001b[0;34m\u001b[0m\u001b[0;34m\u001b[0m\u001b[0m\n\u001b[0m\u001b[1;32m    951\u001b[0m     \u001b[0;32mreturn\u001b[0m \u001b[0m_wrap_results\u001b[0m\u001b[0;34m(\u001b[0m\u001b[0mresult\u001b[0m\u001b[0;34m,\u001b[0m \u001b[0morig_dtype\u001b[0m\u001b[0;34m)\u001b[0m\u001b[0;34m\u001b[0m\u001b[0;34m\u001b[0m\u001b[0m\n\u001b[1;32m    952\u001b[0m \u001b[0;34m\u001b[0m\u001b[0m\n",
            "\u001b[0;32m/usr/local/lib/python3.11/dist-packages/pandas/core/nanops.py\u001b[0m in \u001b[0;36m_f\u001b[0;34m(*args, **kwargs)\u001b[0m\n\u001b[1;32m     90\u001b[0m                 \u001b[0;31m# object arrays that contain strings\u001b[0m\u001b[0;34m\u001b[0m\u001b[0;34m\u001b[0m\u001b[0m\n\u001b[1;32m     91\u001b[0m                 \u001b[0;32mif\u001b[0m \u001b[0mis_object_dtype\u001b[0m\u001b[0;34m(\u001b[0m\u001b[0margs\u001b[0m\u001b[0;34m[\u001b[0m\u001b[0;36m0\u001b[0m\u001b[0;34m]\u001b[0m\u001b[0;34m)\u001b[0m\u001b[0;34m:\u001b[0m\u001b[0;34m\u001b[0m\u001b[0;34m\u001b[0m\u001b[0m\n\u001b[0;32m---> 92\u001b[0;31m                     \u001b[0;32mraise\u001b[0m \u001b[0mTypeError\u001b[0m\u001b[0;34m(\u001b[0m\u001b[0me\u001b[0m\u001b[0;34m)\u001b[0m \u001b[0;32mfrom\u001b[0m \u001b[0me\u001b[0m\u001b[0;34m\u001b[0m\u001b[0;34m\u001b[0m\u001b[0m\n\u001b[0m\u001b[1;32m     93\u001b[0m                 \u001b[0;32mraise\u001b[0m\u001b[0;34m\u001b[0m\u001b[0;34m\u001b[0m\u001b[0m\n\u001b[1;32m     94\u001b[0m \u001b[0;34m\u001b[0m\u001b[0m\n",
            "\u001b[0;31mTypeError\u001b[0m: could not convert string to float: 'E2ODizgR'"
          ]
        }
      ]
    },
    {
      "cell_type": "code",
      "source": [
        "X=pd.get_dummies(X,drop_first=True)"
      ],
      "metadata": {
        "id": "cjWxfsPaFZoV"
      },
      "execution_count": null,
      "outputs": []
    },
    {
      "cell_type": "code",
      "source": [
        "X.shape"
      ],
      "metadata": {
        "id": "FlN8owpiFZlP",
        "colab": {
          "base_uri": "https://localhost:8080/"
        },
        "outputId": "ef0e145c-d926-4ca9-80b7-53ba9fc3700e"
      },
      "execution_count": null,
      "outputs": [
        {
          "output_type": "execute_result",
          "data": {
            "text/plain": [
              "(20058, 59048)"
            ]
          },
          "metadata": {},
          "execution_count": 107
        }
      ]
    },
    {
      "cell_type": "code",
      "source": [
        "x_train,x_test,y_train,y_test=train_test_split(X,y,test_size=0.3,random_state=0)"
      ],
      "metadata": {
        "id": "LVgSwyRuFZiY"
      },
      "execution_count": null,
      "outputs": []
    },
    {
      "cell_type": "code",
      "source": [
        "constant_features=[features for features in x_train.columns if x_train[features].std()==0]\n",
        "len(constant_features)"
      ],
      "metadata": {
        "id": "ay2WBK7ZFZfa",
        "colab": {
          "base_uri": "https://localhost:8080/"
        },
        "outputId": "3595f300-3b3e-41da-b40b-185b3c298523"
      },
      "execution_count": null,
      "outputs": [
        {
          "output_type": "execute_result",
          "data": {
            "text/plain": [
              "0"
            ]
          },
          "metadata": {},
          "execution_count": 115
        }
      ]
    },
    {
      "cell_type": "code",
      "source": [
        "x_train.drop(labels=constant_features,axis=1,inplace=True)\n",
        "x_test.drop(labels=constant_features,axis=1,inplace=True)"
      ],
      "metadata": {
        "id": "EEDNkxyQFZce"
      },
      "execution_count": null,
      "outputs": []
    },
    {
      "cell_type": "code",
      "source": [
        "# quasi constant features\n",
        "quasi_constant_feat=[]\n",
        "for feature in x_train.columns:\n",
        "  predominant=(x_train[feature].value_counts()/float(len(x_train))).sort_values(ascending=False).values[0]\n",
        "  if predominant>0.999:\n",
        "    quasi_constant_feat.append(feature)\n",
        "len(quasi_constant_feat)"
      ],
      "metadata": {
        "id": "M2NOTZ2LGK4z",
        "colab": {
          "base_uri": "https://localhost:8080/"
        },
        "outputId": "0fc82d34-76eb-44c8-cf48-431b2aaebda2"
      },
      "execution_count": null,
      "outputs": [
        {
          "output_type": "execute_result",
          "data": {
            "text/plain": [
              "42600"
            ]
          },
          "metadata": {},
          "execution_count": 114
        }
      ]
    },
    {
      "cell_type": "code",
      "source": [
        "# duplicated features\n",
        "dup=[]\n",
        "for i in range (0,len(x_train.columns)):\n",
        "    col1=x_train.columns[i]\n",
        "    for col2 in x_train.columns[i+1:]:\n",
        "        if x_train[col1].equals(x_train[col2]):\n",
        "            dup.append(col2)\n",
        "dup_features=set(dup)\n",
        "print(len(dup_features))"
      ],
      "metadata": {
        "id": "k7cn_qo2HvO7"
      },
      "execution_count": null,
      "outputs": []
    },
    {
      "cell_type": "code",
      "source": [
        "import matplotlib.pyplot as plt\n",
        "import seaborn as sns"
      ],
      "metadata": {
        "id": "7AGyr1ItGKy6"
      },
      "execution_count": null,
      "outputs": []
    },
    {
      "cell_type": "code",
      "source": [
        "corrmat=x_train.corr()\n",
        "fig,ax=plt.subplots()\n",
        "fig.set_size_inches(5,5)\n",
        "sns.heatmap(corrmat)"
      ],
      "metadata": {
        "id": "2czkPKdkGKwH"
      },
      "execution_count": null,
      "outputs": []
    },
    {
      "cell_type": "code",
      "source": [
        "corrmat=x_train.corr()\n",
        "fig,ax=plt.subplots()\n",
        "fig.set_size_inches(16,16)\n",
        "sns.heatmap(corrmat)"
      ],
      "metadata": {
        "id": "gb0UhynFGKtL"
      },
      "execution_count": null,
      "outputs": []
    },
    {
      "cell_type": "code",
      "source": [
        "grouped_feature_ls = []\n",
        "correlated_groups = []\n",
        "def correlation (dataset, threshold):\n",
        "    col_corr = set() # Set of all the names of correlated columns\n",
        "    corr_matrix = dataset.corr()\n",
        "    for i in range(len(corr_matrix.columns)):\n",
        "        for j in range(i):\n",
        "            if abs(corr_matrix.iloc[i, j]) > threshold: # we are interested in absolute coeff value\n",
        "                colname=corr_matrix.columns[i] #3 getting the name of column\n",
        "                col_corr.add(colname)\n",
        "    return col_corr\n",
        "corr_features=correlation (x_test, 0.9) # filter for all the features with corre lation more than 0.9\n",
        "correlated_features = set(corr_features) # Set statement is used to identify the unique feature in the list\n",
        "print(len(correlated_features)) # length of set of correlated features"
      ],
      "metadata": {
        "id": "NgJUI9XQGKqf"
      },
      "execution_count": null,
      "outputs": []
    },
    {
      "cell_type": "code",
      "source": [
        "import pandas as pd\n",
        "import matplotlib.pyplot as plt\n",
        "from sklearn.feature_selection import mutual_info_classif, SelectKBest\n",
        "\n",
        "# Step 1: Calculate Mutual Information scores\n",
        "mi = mutual_info_classif(x_train.fillna(0), y_train)\n",
        "mi = pd.Series(mi, index=x_train.columns)\n",
        "\n",
        "# Step 2: Visualize MI scores\n",
        "mi.sort_values(ascending=False).plot.bar(figsize=(20, 4))\n",
        "plt.title(\"Mutual Information Scores\")\n",
        "plt.ylabel(\"MI Score\")\n",
        "plt.xlabel(\"Features\")\n",
        "plt.show()\n",
        "\n",
        "# Step 3: Select top 10 features based on MI\n",
        "selector = SelectKBest(score_func=mutual_info_classif, k=10)\n",
        "selector.fit(x_train.fillna(0), y_train)\n",
        "\n",
        "# Step 4: Get selected feature names\n",
        "selected_features = x_train.columns[selector.get_support()]\n",
        "print(\"Top 10 Selected Features:\\n\", selected_features.tolist())"
      ],
      "metadata": {
        "id": "7ue504yhGKnV"
      },
      "execution_count": null,
      "outputs": []
    },
    {
      "cell_type": "code",
      "source": [],
      "metadata": {
        "id": "3bzxLoLUGKkZ"
      },
      "execution_count": null,
      "outputs": []
    },
    {
      "cell_type": "code",
      "source": [],
      "metadata": {
        "id": "TKxrx7WiGKhW"
      },
      "execution_count": null,
      "outputs": []
    }
  ]
}