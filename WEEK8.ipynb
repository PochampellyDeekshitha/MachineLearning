{
  "nbformat": 4,
  "nbformat_minor": 0,
  "metadata": {
    "colab": {
      "provenance": [],
      "authorship_tag": "ABX9TyON3Lfei/IlT0NxSEVPrfLi",
      "include_colab_link": true
    },
    "kernelspec": {
      "name": "python3",
      "display_name": "Python 3"
    },
    "language_info": {
      "name": "python"
    }
  },
  "cells": [
    {
      "cell_type": "markdown",
      "metadata": {
        "id": "view-in-github",
        "colab_type": "text"
      },
      "source": [
        "<a href=\"https://colab.research.google.com/github/PochampellyDeekshitha/MachineLearning/blob/main/WEEK8.ipynb\" target=\"_parent\"><img src=\"https://colab.research.google.com/assets/colab-badge.svg\" alt=\"Open In Colab\"/></a>"
      ]
    },
    {
      "cell_type": "code",
      "source": [
        "import pandas as pd\n",
        "from sklearn import model_selection\n",
        "from sklearn.model_selection import train_test_split\n",
        "from sklearn import metrics\n",
        "from sklearn.tree import DecisionTreeClassifier\n",
        "col_names = ['pregnant', 'glucose', 'bp', 'skin', 'insulin', 'bmi','pedigree', 'age', 'label']\n",
        "p=pd.read_csv(\"diabetes.csv\",names=col_names)\n",
        "p = p.iloc[1:]\n",
        "feature_cols = ['pregnant', 'insulin', 'bmi', 'age','glucose','bp','pedigree']\n",
        "X = p[feature_cols]\n",
        "y = p.label\n",
        "y = pd.to_numeric(y)\n",
        "X_train, X_test, y_train, y_test = train_test_split(X, y, test_size=0.3, random_state=1)\n",
        "clf=DecisionTreeClassifier()\n",
        "clf=clf.fit(X_train,y_train)\n",
        "y_pred=clf.predict(X_test)\n",
        "print(\"Accuracy:\",metrics.accuracy_score(y_test, y_pred))\n",
        "print(\"Precision:\",metrics.precision_score(y_test, y_pred))\n",
        "print(\"Recall:\",metrics.recall_score(y_test, y_pred))\n",
        "print(\"F1 score:\",metrics.f1_score(y_test, y_pred))"
      ],
      "metadata": {
        "colab": {
          "base_uri": "https://localhost:8080/"
        },
        "id": "PP9boo9qIlMm",
        "outputId": "6d121f25-7c7d-4595-bc58-bd4a669bf28c"
      },
      "execution_count": null,
      "outputs": [
        {
          "output_type": "stream",
          "name": "stdout",
          "text": [
            "Accuracy: 0.6926406926406926\n",
            "Precision: 0.5945945945945946\n",
            "Recall: 0.5176470588235295\n",
            "F1 score: 0.5534591194968553\n"
          ]
        }
      ]
    },
    {
      "cell_type": "code",
      "source": [
        "rf=RandomForestClassifier(n_estimators=100)\n",
        "rf=rf.fit(X_train,y_train)\n",
        "y_pred=rf.predict(X_test)\n",
        "print(\"Accuracy:\",metrics.accuracy_score(y_test, y_pred))\n",
        "print(\"Precision:\",metrics.precision_score(y_test, y_pred))\n",
        "print(\"Recall:\",metrics.recall_score(y_test, y_pred))\n",
        "print(\"F1 score:\",metrics.f1_score(y_test, y_pred))"
      ],
      "metadata": {
        "colab": {
          "base_uri": "https://localhost:8080/"
        },
        "id": "Gd2S8hBWJdXt",
        "outputId": "3afd03df-7f80-4cc9-9738-657668e286bb"
      },
      "execution_count": null,
      "outputs": [
        {
          "output_type": "stream",
          "name": "stdout",
          "text": [
            "Accuracy: 0.8051948051948052\n",
            "Precision: 0.8225806451612904\n",
            "Recall: 0.6\n",
            "F1 score: 0.6938775510204082\n"
          ]
        }
      ]
    },
    {
      "cell_type": "markdown",
      "source": [
        "compared to decision tree and random forest the accuracy is varied because in dt we take only 1 tree but where as in rf we take certain trees here it doesnt depend on only one tree so we get good better results in rf than dt"
      ],
      "metadata": {
        "id": "X303zJHxNFL9"
      }
    },
    {
      "cell_type": "code",
      "source": [
        "rf=RandomForestClassifier(n_estimators=10)\n",
        "rf=rf.fit(X_train,y_train)\n",
        "y_pred=rf.predict(X_test)\n",
        "print(\"Accuracy:\",metrics.accuracy_score(y_test, y_pred))\n",
        "print(\"Precision:\",metrics.precision_score(y_test, y_pred))\n",
        "print(\"Recall:\",metrics.recall_score(y_test, y_pred))\n",
        "print(\"F1 score:\",metrics.f1_score(y_test, y_pred))"
      ],
      "metadata": {
        "colab": {
          "base_uri": "https://localhost:8080/"
        },
        "id": "c9iQjQhZKL1t",
        "outputId": "3c9fc56f-71d6-420e-cb63-4f193b4d3cd5"
      },
      "execution_count": null,
      "outputs": [
        {
          "output_type": "stream",
          "name": "stdout",
          "text": [
            "Accuracy: 0.7662337662337663\n",
            "Precision: 0.7384615384615385\n",
            "Recall: 0.5647058823529412\n",
            "F1 score: 0.64\n"
          ]
        }
      ]
    },
    {
      "cell_type": "code",
      "source": [
        "rf=RandomForestClassifier(n_estimators=200)\n",
        "rf=rf.fit(X_train,y_train)\n",
        "y_pred=rf.predict(X_test)\n",
        "print(\"Accuracy:\",metrics.accuracy_score(y_test, y_pred))\n"
      ],
      "metadata": {
        "colab": {
          "base_uri": "https://localhost:8080/"
        },
        "id": "YYARj0GFKdQN",
        "outputId": "56a765ef-a162-4ddd-d7af-f8856ff77263"
      },
      "execution_count": null,
      "outputs": [
        {
          "output_type": "stream",
          "name": "stdout",
          "text": [
            "Accuracy: 0.7835497835497836\n"
          ]
        }
      ]
    },
    {
      "cell_type": "code",
      "source": [
        "rf=RandomForestClassifier(n_estimators=500)\n",
        "rf=rf.fit(X_train,y_train)\n",
        "y_pred=rf.predict(X_test)\n",
        "print(\"Accuracy:\",metrics.accuracy_score(y_test, y_pred))"
      ],
      "metadata": {
        "colab": {
          "base_uri": "https://localhost:8080/"
        },
        "id": "ybMyeNWeKlBd",
        "outputId": "c4c641ba-9487-4b96-86a0-4ac488f2675f"
      },
      "execution_count": null,
      "outputs": [
        {
          "output_type": "stream",
          "name": "stdout",
          "text": [
            "Accuracy: 0.7965367965367965\n"
          ]
        }
      ]
    },
    {
      "cell_type": "markdown",
      "source": [
        "if we take very less or very more estimators the model will not be able to predict the values correctly because there is a chance of overfit and under fit of mode\n",
        "\n",
        "\n",
        "suppose if we take 10 trees 7 predict wrong and 3 predict correct\n",
        "so taking very less estimators 10 can cause models to predict valuues some incorrect same apply for very large estimators"
      ],
      "metadata": {
        "id": "Qyn1RO4OLYT9"
      }
    },
    {
      "cell_type": "markdown",
      "source": [
        "if we take estimators with pruning like giving some specifications like max depth height and all then also we can get the accuracy proper but if varies on no.of estimators"
      ],
      "metadata": {
        "id": "mfZl0dzuMOgt"
      }
    },
    {
      "cell_type": "markdown",
      "source": [
        "Hyperparameter tuning method called grid sv search we get optimal results for a given model"
      ],
      "metadata": {
        "id": "AP7OwM6eQKlN"
      }
    },
    {
      "cell_type": "code",
      "source": [
        "import pandas as pd\n",
        "import numpy as np\n",
        "from sklearn.model_selection import train_test_split\n",
        "from sklearn.metrics import accuracy_score, classification_report\n",
        "from sklearn.linear_model import LogisticRegression\n",
        "from sklearn.tree import DecisionTreeClassifier\n",
        "from sklearn.ensemble import RandomForestClassifier\n",
        "\n",
        "df = pd.read_csv('diabetes.csv')\n",
        "X = df.drop('Outcome', axis=1)\n",
        "y = df['Outcome']\n",
        "X_train, X_test, y_train, y_test = train_test_split(X, y, test_size=0.3, random_state=42)"
      ],
      "metadata": {
        "id": "3ofMXpdPPtLa"
      },
      "execution_count": null,
      "outputs": []
    },
    {
      "cell_type": "code",
      "source": [
        "model1 = LogisticRegression(max_iter=1000)\n",
        "model2 = DecisionTreeClassifier(random_state=42)\n",
        "model3 = RandomForestClassifier(n_estimators=100, random_state=42)\n",
        "\n",
        "model1.fit(X_train, y_train)\n",
        "model2.fit(X_train, y_train)\n",
        "model3.fit(X_train, y_train)\n",
        "\n",
        "pred1 = model1.predict(X_test)\n",
        "pred2 = model2.predict(X_test)\n",
        "pred3 = model3.predict(X_test)"
      ],
      "metadata": {
        "id": "0mNFVHs_Q39V"
      },
      "execution_count": null,
      "outputs": []
    },
    {
      "cell_type": "code",
      "source": [
        "# max voting\n",
        "from scipy.stats import mode\n",
        "final_pred_max, _ = mode(np.array([pred1, pred2, pred3]), axis=0)\n",
        "final_pred_max = final_pred_max.flatten()"
      ],
      "metadata": {
        "id": "gWC1pOxUPtHt"
      },
      "execution_count": null,
      "outputs": []
    },
    {
      "cell_type": "code",
      "source": [
        "# average voting or prob based voting\n",
        "prob1 = model1.predict_proba(X_test)[:, 1]\n",
        "prob2 = model2.predict_proba(X_test)[:, 1]\n",
        "prob3 = model3.predict_proba(X_test)[:, 1]\n",
        "\n",
        "avg_prob = (prob1 + prob2 + prob3) / 3\n",
        "final_pred_avg = [1 if p > 0.5 else 0 for p in avg_prob]"
      ],
      "metadata": {
        "id": "KgUEG1DXRIK-"
      },
      "execution_count": null,
      "outputs": []
    },
    {
      "cell_type": "code",
      "source": [
        "#weighted average voting\n",
        "acc1 = accuracy_score(y_test, pred1)\n",
        "acc2 = accuracy_score(y_test, pred2)\n",
        "acc3 = accuracy_score(y_test, pred3)\n",
        "\n",
        "total = acc1 + acc2 + acc3\n",
        "w1, w2, w3 = acc1 / total, acc2 / total, acc3 / total\n",
        "\n",
        "weighted_prob = (prob1 * w1) + (prob2 * w2) + (prob3 * w3)\n",
        "final_pred_weighted = [1 if p > 0.5 else 0 for p in weighted_prob]"
      ],
      "metadata": {
        "id": "EwOCBfhORKaN"
      },
      "execution_count": null,
      "outputs": []
    },
    {
      "cell_type": "code",
      "source": [
        "print(f\"Logistic Regression: {acc1:.4f}\")\n",
        "print(f\"Decision Tree: {acc2:.4f}\")\n",
        "print(f\"Random Forest: {acc3:.4f}\")"
      ],
      "metadata": {
        "colab": {
          "base_uri": "https://localhost:8080/"
        },
        "id": "H3KX3-a5PtEd",
        "outputId": "d2fd90cf-cf9c-4ec6-8e18-515cdf4dd1cd"
      },
      "execution_count": null,
      "outputs": [
        {
          "output_type": "stream",
          "name": "stdout",
          "text": [
            "Logistic Regression: 0.7359\n",
            "Decision Tree: 0.7013\n",
            "Random Forest: 0.7532\n"
          ]
        }
      ]
    },
    {
      "cell_type": "code",
      "source": [
        "print(f\"Max Voting Accuracy: {accuracy_score(y_test, final_pred_max):.4f}\")\n",
        "print(f\"Average Voting Accuracy:{accuracy_score(y_test, final_pred_avg):.4f}\")\n",
        "print(f\"Weighted Average Voting Accuracy: {accuracy_score(y_test, final_pred_weighted):.4f}\")"
      ],
      "metadata": {
        "colab": {
          "base_uri": "https://localhost:8080/"
        },
        "id": "IBbT1wvTPtA9",
        "outputId": "081dd766-a79f-46eb-d979-c14b03a5af94"
      },
      "execution_count": null,
      "outputs": [
        {
          "output_type": "stream",
          "name": "stdout",
          "text": [
            "Max Voting Accuracy: 0.7489\n",
            "Average Voting Accuracy:0.7359\n",
            "Weighted Average Voting Accuracy: 0.7359\n"
          ]
        }
      ]
    },
    {
      "cell_type": "code",
      "source": [
        "print(classification_report(y_test, final_pred_weighted))"
      ],
      "metadata": {
        "colab": {
          "base_uri": "https://localhost:8080/"
        },
        "id": "XZMb7LWOR3P9",
        "outputId": "bd63cf26-57d8-41af-c1e1-a81dc573d23a"
      },
      "execution_count": null,
      "outputs": [
        {
          "output_type": "stream",
          "name": "stdout",
          "text": [
            "              precision    recall  f1-score   support\n",
            "\n",
            "           0       0.83      0.75      0.79       151\n",
            "           1       0.60      0.70      0.65        80\n",
            "\n",
            "    accuracy                           0.74       231\n",
            "   macro avg       0.71      0.73      0.72       231\n",
            "weighted avg       0.75      0.74      0.74       231\n",
            "\n"
          ]
        }
      ]
    },
    {
      "cell_type": "markdown",
      "source": [
        "depending on the type of data which we take  max voting avg voting and weighted avg voting differs\n"
      ],
      "metadata": {
        "id": "n3DI88AaS-71"
      }
    },
    {
      "cell_type": "markdown",
      "source": [
        "avg voting and weighted avg voting are same and max voting is greater"
      ],
      "metadata": {
        "id": "2rTQzpYPUPRN"
      }
    },
    {
      "cell_type": "markdown",
      "source": [
        "max voting hard voting for classification\n",
        "\n",
        "\n"
      ],
      "metadata": {
        "id": "okrZj0EmWht1"
      }
    },
    {
      "cell_type": "markdown",
      "source": [
        "soft voting for classification"
      ],
      "metadata": {
        "id": "5sU0t5ZmW8Gs"
      }
    },
    {
      "cell_type": "markdown",
      "source": [
        "avg  voting for regression"
      ],
      "metadata": {
        "id": "pjeSC8kmW_q_"
      }
    },
    {
      "cell_type": "markdown",
      "source": [
        "weighted avg voting regreession and classification"
      ],
      "metadata": {
        "id": "1lYqcqbHXBqk"
      }
    },
    {
      "cell_type": "code",
      "source": [
        "import pandas as pd\n",
        "from sklearn.model_selection import train_test_split\n",
        "from sklearn.tree import DecisionTreeClassifier\n",
        "from sklearn.linear_model import LogisticRegression\n",
        "from sklearn.neighbors import KNeighborsClassifier\n",
        "from sklearn.ensemble import VotingClassifier\n",
        "from sklearn.metrics import accuracy_score, classification_report, confusion_matrix\n",
        "\n",
        "df = pd.read_csv(\"diabetes.csv\")\n",
        "X = df.drop('Outcome', axis=1)\n",
        "y = df['Outcome']\n",
        "X_train, X_test, y_train, y_test = train_test_split(X, y, test_size=0.3, random_state=42)"
      ],
      "metadata": {
        "id": "_gJwjmstT4gF"
      },
      "execution_count": 7,
      "outputs": []
    },
    {
      "cell_type": "code",
      "source": [
        "clf1 = DecisionTreeClassifier(random_state=42)\n",
        "clf2 = LogisticRegression(max_iter=1000, random_state=42)\n",
        "clf3 = KNeighborsClassifier(n_neighbors=5)\n",
        "hard_voting = VotingClassifier(estimators=[('dt', clf1), ('lr', clf2), ('knn', clf3)],voting='hard')\n",
        "soft_voting = VotingClassifier(estimators=[('dt', clf1), ('lr', clf2), ('knn', clf3)],voting='soft')"
      ],
      "metadata": {
        "id": "gTB0a024T4dE"
      },
      "execution_count": 8,
      "outputs": []
    },
    {
      "cell_type": "code",
      "source": [
        "hard_voting.fit(X_train, y_train)\n",
        "soft_voting.fit(X_train, y_train)\n",
        "y_pred_hard = hard_voting.predict(X_test)\n",
        "y_pred_soft = soft_voting.predict(X_test)"
      ],
      "metadata": {
        "id": "KPKMjVorT4Z1"
      },
      "execution_count": 9,
      "outputs": []
    },
    {
      "cell_type": "code",
      "source": [
        "print(\"Hard Voting \")\n",
        "print(\"Accuracy:\", accuracy_score(y_test, y_pred_hard))\n",
        "print(\"Confusion Matrix:\", confusion_matrix(y_test, y_pred_hard))\n",
        "print(\"Classification Report:\", classification_report(y_test, y_pred_hard))"
      ],
      "metadata": {
        "id": "vYKPXdM6T4Uc",
        "colab": {
          "base_uri": "https://localhost:8080/"
        },
        "outputId": "ef60e90d-4563-4b89-956d-44c900469ede"
      },
      "execution_count": 10,
      "outputs": [
        {
          "output_type": "stream",
          "name": "stdout",
          "text": [
            "Hard Voting \n",
            "Accuracy: 0.7186147186147186\n",
            "Confusion Matrix: [[115  36]\n",
            " [ 29  51]]\n",
            "Classification Report:               precision    recall  f1-score   support\n",
            "\n",
            "           0       0.80      0.76      0.78       151\n",
            "           1       0.59      0.64      0.61        80\n",
            "\n",
            "    accuracy                           0.72       231\n",
            "   macro avg       0.69      0.70      0.70       231\n",
            "weighted avg       0.73      0.72      0.72       231\n",
            "\n"
          ]
        }
      ]
    },
    {
      "cell_type": "code",
      "source": [
        "print(\"Soft Voting Classifier \")\n",
        "print(\"Accuracy:\", accuracy_score(y_test, y_pred_soft))\n",
        "print(\"Confusion Matrix:\", confusion_matrix(y_test, y_pred_soft))\n",
        "print(\"Classification Report:\", classification_report(y_test, y_pred_soft))"
      ],
      "metadata": {
        "id": "OK2N-jCmT4Rd",
        "colab": {
          "base_uri": "https://localhost:8080/"
        },
        "outputId": "9fd73aef-5941-495f-80c9-df29fb6fc7d8"
      },
      "execution_count": 11,
      "outputs": [
        {
          "output_type": "stream",
          "name": "stdout",
          "text": [
            "Soft Voting Classifier \n",
            "Accuracy: 0.70995670995671\n",
            "Confusion Matrix: [[112  39]\n",
            " [ 28  52]]\n",
            "Classification Report:               precision    recall  f1-score   support\n",
            "\n",
            "           0       0.80      0.74      0.77       151\n",
            "           1       0.57      0.65      0.61        80\n",
            "\n",
            "    accuracy                           0.71       231\n",
            "   macro avg       0.69      0.70      0.69       231\n",
            "weighted avg       0.72      0.71      0.71       231\n",
            "\n"
          ]
        }
      ]
    },
    {
      "cell_type": "code",
      "source": [
        "import pandas as pd\n",
        "from sklearn.model_selection import train_test_split\n",
        "from sklearn.ensemble import RandomForestClassifier\n",
        "from sklearn.metrics import accuracy_score, classification_report\n",
        "import matplotlib.pyplot as plt\n",
        "df = pd.read_csv(\"diabetes.csv\")\n",
        "X = df.drop('Outcome', axis=1)\n",
        "y = df['Outcome']\n",
        "X_train, X_test, y_train, y_test = train_test_split(X, y, test_size=0.3, random_state=42)"
      ],
      "metadata": {
        "id": "-LkOH1wRT4Oc"
      },
      "execution_count": 13,
      "outputs": []
    },
    {
      "cell_type": "code",
      "source": [
        "estimators = [10, 50, 100, 200]\n",
        "max_depths = [None, 5, 10, 15]\n",
        "random_states = [0, 42, 100]\n",
        "\n",
        "results = []\n",
        "for est in estimators:\n",
        "    for depth in max_depths:\n",
        "        for rs in random_states:\n",
        "            rf = RandomForestClassifier(n_estimators=est,max_depth=depth,random_state=rs)\n",
        "            rf.fit(X_train, y_train)\n",
        "            y_pred = rf.predict(X_test)\n",
        "            acc = accuracy_score(y_test, y_pred)\n",
        "            results.append((est, depth, rs, acc))"
      ],
      "metadata": {
        "id": "nIV2Bpt6T4LV"
      },
      "execution_count": 14,
      "outputs": []
    },
    {
      "cell_type": "code",
      "source": [
        "results_df = pd.DataFrame(results, columns=['n_estimators', 'max_depth', 'random_state', 'accuracy'])\n",
        "print(\"Random Forest Parameter Exploration Results \")\n",
        "print(results_df)"
      ],
      "metadata": {
        "colab": {
          "base_uri": "https://localhost:8080/"
        },
        "id": "tbPPHjkbJoq0",
        "outputId": "5ec5abec-913d-447e-c195-4cbdb6fe8c65"
      },
      "execution_count": 15,
      "outputs": [
        {
          "output_type": "stream",
          "name": "stdout",
          "text": [
            "Random Forest Parameter Exploration Results \n",
            "    n_estimators  max_depth  random_state  accuracy\n",
            "0             10        NaN             0  0.731602\n",
            "1             10        NaN            42  0.740260\n",
            "2             10        NaN           100  0.757576\n",
            "3             10        5.0             0  0.718615\n",
            "4             10        5.0            42  0.753247\n",
            "5             10        5.0           100  0.735931\n",
            "6             10       10.0             0  0.748918\n",
            "7             10       10.0            42  0.727273\n",
            "8             10       10.0           100  0.735931\n",
            "9             10       15.0             0  0.744589\n",
            "10            10       15.0            42  0.757576\n",
            "11            10       15.0           100  0.761905\n",
            "12            50        NaN             0  0.731602\n",
            "13            50        NaN            42  0.740260\n",
            "14            50        NaN           100  0.753247\n",
            "15            50        5.0             0  0.753247\n",
            "16            50        5.0            42  0.744589\n",
            "17            50        5.0           100  0.748918\n",
            "18            50       10.0             0  0.735931\n",
            "19            50       10.0            42  0.740260\n",
            "20            50       10.0           100  0.748918\n",
            "21            50       15.0             0  0.753247\n",
            "22            50       15.0            42  0.748918\n",
            "23            50       15.0           100  0.757576\n",
            "24           100        NaN             0  0.753247\n",
            "25           100        NaN            42  0.753247\n",
            "26           100        NaN           100  0.748918\n",
            "27           100        5.0             0  0.748918\n",
            "28           100        5.0            42  0.753247\n",
            "29           100        5.0           100  0.753247\n",
            "30           100       10.0             0  0.744589\n",
            "31           100       10.0            42  0.744589\n",
            "32           100       10.0           100  0.731602\n",
            "33           100       15.0             0  0.753247\n",
            "34           100       15.0            42  0.744589\n",
            "35           100       15.0           100  0.757576\n",
            "36           200        NaN             0  0.748918\n",
            "37           200        NaN            42  0.753247\n",
            "38           200        NaN           100  0.748918\n",
            "39           200        5.0             0  0.748918\n",
            "40           200        5.0            42  0.757576\n",
            "41           200        5.0           100  0.761905\n",
            "42           200       10.0             0  0.744589\n",
            "43           200       10.0            42  0.740260\n",
            "44           200       10.0           100  0.753247\n",
            "45           200       15.0             0  0.744589\n",
            "46           200       15.0            42  0.757576\n",
            "47           200       15.0           100  0.735931\n"
          ]
        }
      ]
    },
    {
      "cell_type": "code",
      "source": [
        "plt.figure(figsize=(8,5))\n",
        "for depth in max_depths:\n",
        "    subset = results_df[results_df['max_depth'] == depth]\n",
        "    plt.plot(subset['n_estimators'], subset['accuracy'], marker='o', label=f\"max_depth={depth}\")\n",
        "plt.title(\"Accuracy vs Number of Estimators for Different Depths\")\n",
        "plt.xlabel(\"Number of Estimators\")\n",
        "plt.ylabel(\"Accuracy\")\n",
        "plt.legend()\n",
        "plt.grid(True)\n",
        "plt.show()"
      ],
      "metadata": {
        "colab": {
          "base_uri": "https://localhost:8080/",
          "height": 487
        },
        "id": "1gzVKTZXJtOP",
        "outputId": "ce55b5b0-cc27-4a08-9285-92fcfb71bb19"
      },
      "execution_count": 16,
      "outputs": [
        {
          "output_type": "display_data",
          "data": {
            "text/plain": [
              "<Figure size 800x500 with 1 Axes>"
            ],
            "image/png": "[encoded data removed]"
          },
          "metadata": {}
        }
      ]
    },
    {
      "cell_type": "code",
      "source": [
        "best = results_df.loc[results_df['accuracy'].idxmax()]\n",
        "best_params = (int(best['n_estimators']), best['max_depth'], int(best['random_state']))\n",
        "print(\"Best Parameters Found:\")\n",
        "print(f\"n_estimators = {best_params[0]}, max_depth = {best_params[1]}, random_state = {best_params[2]}\")\n"
      ],
      "metadata": {
        "colab": {
          "base_uri": "https://localhost:8080/"
        },
        "id": "m98VROiSJw_A",
        "outputId": "ee935023-bf55-40b6-be15-2e8c67d5e63a"
      },
      "execution_count": 19,
      "outputs": [
        {
          "output_type": "stream",
          "name": "stdout",
          "text": [
            "Best Parameters Found:\n",
            "n_estimators = 10, max_depth = 15.0, random_state = 100\n"
          ]
        }
      ]
    },
    {
      "cell_type": "code",
      "source": [
        "rf_best = RandomForestClassifier(\n",
        "    n_estimators=best_params[0],\n",
        "    max_depth=int(best_params[1]),\n",
        "    random_state=best_params[2]\n",
        ")\n",
        "rf_best.fit(X_train, y_train)\n",
        "y_pred_best = rf_best.predict(X_test)\n",
        "\n",
        "print(\"Accuracy:\", accuracy_score(y_test, y_pred_best))\n",
        "print(\"Classification Report:\\n\", classification_report(y_test, y_pred_best))"
      ],
      "metadata": {
        "colab": {
          "base_uri": "https://localhost:8080/"
        },
        "id": "O4kRVpEbJ0Gv",
        "outputId": "c4f34a9c-d6b5-44bd-9fbf-eb8cdd1a56da"
      },
      "execution_count": 26,
      "outputs": [
        {
          "output_type": "stream",
          "name": "stdout",
          "text": [
            "Accuracy: 0.7619047619047619\n",
            "Classification Report:\n",
            "               precision    recall  f1-score   support\n",
            "\n",
            "           0       0.80      0.85      0.82       151\n",
            "           1       0.68      0.60      0.64        80\n",
            "\n",
            "    accuracy                           0.76       231\n",
            "   macro avg       0.74      0.72      0.73       231\n",
            "weighted avg       0.76      0.76      0.76       231\n",
            "\n"
          ]
        }
      ]
    }
  ]
}