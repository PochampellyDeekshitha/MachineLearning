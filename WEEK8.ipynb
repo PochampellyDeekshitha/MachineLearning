{
  "nbformat": 4,
  "nbformat_minor": 0,
  "metadata": {
    "colab": {
      "provenance": [],
      "authorship_tag": "ABX9TyOjrSY0pU05g44w4Hg0R+jc",
      "include_colab_link": true
    },
    "kernelspec": {
      "name": "python3",
      "display_name": "Python 3"
    },
    "language_info": {
      "name": "python"
    }
  },
  "cells": [
    {
      "cell_type": "markdown",
      "metadata": {
        "id": "view-in-github",
        "colab_type": "text"
      },
      "source": [
        "<a href=\"https://colab.research.google.com/github/PochampellyDeekshitha/MachineLearning/blob/main/WEEK8.ipynb\" target=\"_parent\"><img src=\"https://colab.research.google.com/assets/colab-badge.svg\" alt=\"Open In Colab\"/></a>"
      ]
    },
    {
      "cell_type": "code",
      "source": [
        "import pandas as pd\n",
        "from sklearn import model_selection\n",
        "from sklearn.model_selection import train_test_split\n",
        "from sklearn import metrics\n",
        "from sklearn.tree import DecisionTreeClassifier\n",
        "col_names = ['pregnant', 'glucose', 'bp', 'skin', 'insulin', 'bmi','pedigree', 'age', 'label']\n",
        "p=pd.read_csv(\"diabetes.csv\",names=col_names)\n",
        "p = p.iloc[1:]\n",
        "feature_cols = ['pregnant', 'insulin', 'bmi', 'age','glucose','bp','pedigree']\n",
        "X = p[feature_cols]\n",
        "y = p.label\n",
        "y = pd.to_numeric(y)\n",
        "X_train, X_test, y_train, y_test = train_test_split(X, y, test_size=0.3, random_state=1)\n",
        "clf=DecisionTreeClassifier()\n",
        "clf=clf.fit(X_train,y_train)\n",
        "y_pred=clf.predict(X_test)\n",
        "print(\"Accuracy:\",metrics.accuracy_score(y_test, y_pred))\n",
        "print(\"Precision:\",metrics.precision_score(y_test, y_pred))\n",
        "print(\"Recall:\",metrics.recall_score(y_test, y_pred))\n",
        "print(\"F1 score:\",metrics.f1_score(y_test, y_pred))"
      ],
      "metadata": {
        "colab": {
          "base_uri": "https://localhost:8080/",
          "height": 0
        },
        "id": "PP9boo9qIlMm",
        "outputId": "6d121f25-7c7d-4595-bc58-bd4a669bf28c"
      },
      "execution_count": 37,
      "outputs": [
        {
          "output_type": "stream",
          "name": "stdout",
          "text": [
            "Accuracy: 0.6926406926406926\n",
            "Precision: 0.5945945945945946\n",
            "Recall: 0.5176470588235295\n",
            "F1 score: 0.5534591194968553\n"
          ]
        }
      ]
    },
    {
      "cell_type": "code",
      "source": [
        "rf=RandomForestClassifier(n_estimators=100)\n",
        "rf=rf.fit(X_train,y_train)\n",
        "y_pred=rf.predict(X_test)\n",
        "print(\"Accuracy:\",metrics.accuracy_score(y_test, y_pred))\n",
        "print(\"Precision:\",metrics.precision_score(y_test, y_pred))\n",
        "print(\"Recall:\",metrics.recall_score(y_test, y_pred))\n",
        "print(\"F1 score:\",metrics.f1_score(y_test, y_pred))"
      ],
      "metadata": {
        "colab": {
          "base_uri": "https://localhost:8080/",
          "height": 0
        },
        "id": "Gd2S8hBWJdXt",
        "outputId": "3afd03df-7f80-4cc9-9738-657668e286bb"
      },
      "execution_count": 39,
      "outputs": [
        {
          "output_type": "stream",
          "name": "stdout",
          "text": [
            "Accuracy: 0.8051948051948052\n",
            "Precision: 0.8225806451612904\n",
            "Recall: 0.6\n",
            "F1 score: 0.6938775510204082\n"
          ]
        }
      ]
    },
    {
      "cell_type": "markdown",
      "source": [
        "compared to decision tree and random forest the accuracy is varied because in dt we take only 1 tree but where as in rf we take certain trees here it doesnt depend on only one tree so we get good better results in rf than dt"
      ],
      "metadata": {
        "id": "X303zJHxNFL9"
      }
    },
    {
      "cell_type": "code",
      "source": [
        "rf=RandomForestClassifier(n_estimators=10)\n",
        "rf=rf.fit(X_train,y_train)\n",
        "y_pred=rf.predict(X_test)\n",
        "print(\"Accuracy:\",metrics.accuracy_score(y_test, y_pred))\n",
        "print(\"Precision:\",metrics.precision_score(y_test, y_pred))\n",
        "print(\"Recall:\",metrics.recall_score(y_test, y_pred))\n",
        "print(\"F1 score:\",metrics.f1_score(y_test, y_pred))"
      ],
      "metadata": {
        "colab": {
          "base_uri": "https://localhost:8080/",
          "height": 0
        },
        "id": "c9iQjQhZKL1t",
        "outputId": "3c9fc56f-71d6-420e-cb63-4f193b4d3cd5"
      },
      "execution_count": 45,
      "outputs": [
        {
          "output_type": "stream",
          "name": "stdout",
          "text": [
            "Accuracy: 0.7662337662337663\n",
            "Precision: 0.7384615384615385\n",
            "Recall: 0.5647058823529412\n",
            "F1 score: 0.64\n"
          ]
        }
      ]
    },
    {
      "cell_type": "code",
      "source": [
        "rf=RandomForestClassifier(n_estimators=200)\n",
        "rf=rf.fit(X_train,y_train)\n",
        "y_pred=rf.predict(X_test)\n",
        "print(\"Accuracy:\",metrics.accuracy_score(y_test, y_pred))\n"
      ],
      "metadata": {
        "colab": {
          "base_uri": "https://localhost:8080/",
          "height": 0
        },
        "id": "YYARj0GFKdQN",
        "outputId": "56a765ef-a162-4ddd-d7af-f8856ff77263"
      },
      "execution_count": 47,
      "outputs": [
        {
          "output_type": "stream",
          "name": "stdout",
          "text": [
            "Accuracy: 0.7835497835497836\n"
          ]
        }
      ]
    },
    {
      "cell_type": "code",
      "source": [
        "rf=RandomForestClassifier(n_estimators=500)\n",
        "rf=rf.fit(X_train,y_train)\n",
        "y_pred=rf.predict(X_test)\n",
        "print(\"Accuracy:\",metrics.accuracy_score(y_test, y_pred))"
      ],
      "metadata": {
        "colab": {
          "base_uri": "https://localhost:8080/",
          "height": 0
        },
        "id": "ybMyeNWeKlBd",
        "outputId": "c4c641ba-9487-4b96-86a0-4ac488f2675f"
      },
      "execution_count": 44,
      "outputs": [
        {
          "output_type": "stream",
          "name": "stdout",
          "text": [
            "Accuracy: 0.7965367965367965\n"
          ]
        }
      ]
    },
    {
      "cell_type": "markdown",
      "source": [
        "if we take very less or very more estimators the model will not be able to predict the values correctly because there is a chance of overfit and under fit of mode\n",
        "\n",
        "\n",
        "suppose if we take 10 trees 7 predict wrong and 3 predict correct\n",
        "so taking very less estimators 10 can cause models to predict valuues some incorrect same apply for very large estimators"
      ],
      "metadata": {
        "id": "Qyn1RO4OLYT9"
      }
    },
    {
      "cell_type": "markdown",
      "source": [
        "if we take estimators with pruning like giving some specifications like max depth height and all then also we can get the accuracy proper but if varies on no.of estimators"
      ],
      "metadata": {
        "id": "mfZl0dzuMOgt"
      }
    },
    {
      "cell_type": "markdown",
      "source": [
        "Hyperparameter tuning method called grid sv search we get optimal results for a given model"
      ],
      "metadata": {
        "id": "AP7OwM6eQKlN"
      }
    },
    {
      "cell_type": "code",
      "source": [
        "import pandas as pd\n",
        "import numpy as np\n",
        "from sklearn.model_selection import train_test_split\n",
        "from sklearn.metrics import accuracy_score, classification_report\n",
        "from sklearn.linear_model import LogisticRegression\n",
        "from sklearn.tree import DecisionTreeClassifier\n",
        "from sklearn.ensemble import RandomForestClassifier\n",
        "\n",
        "df = pd.read_csv('diabetes.csv')\n",
        "X = df.drop('Outcome', axis=1)\n",
        "y = df['Outcome']\n",
        "X_train, X_test, y_train, y_test = train_test_split(X, y, test_size=0.3, random_state=42)"
      ],
      "metadata": {
        "id": "3ofMXpdPPtLa"
      },
      "execution_count": 54,
      "outputs": []
    },
    {
      "cell_type": "code",
      "source": [
        "model1 = LogisticRegression(max_iter=1000)\n",
        "model2 = DecisionTreeClassifier(random_state=42)\n",
        "model3 = RandomForestClassifier(n_estimators=100, random_state=42)\n",
        "\n",
        "model1.fit(X_train, y_train)\n",
        "model2.fit(X_train, y_train)\n",
        "model3.fit(X_train, y_train)\n",
        "\n",
        "pred1 = model1.predict(X_test)\n",
        "pred2 = model2.predict(X_test)\n",
        "pred3 = model3.predict(X_test)"
      ],
      "metadata": {
        "id": "0mNFVHs_Q39V"
      },
      "execution_count": 53,
      "outputs": []
    },
    {
      "cell_type": "code",
      "source": [
        "# max voting\n",
        "from scipy.stats import mode\n",
        "final_pred_max, _ = mode(np.array([pred1, pred2, pred3]), axis=0)\n",
        "final_pred_max = final_pred_max.flatten()"
      ],
      "metadata": {
        "id": "gWC1pOxUPtHt"
      },
      "execution_count": 57,
      "outputs": []
    },
    {
      "cell_type": "code",
      "source": [
        "# average voting or prob based voting\n",
        "prob1 = model1.predict_proba(X_test)[:, 1]\n",
        "prob2 = model2.predict_proba(X_test)[:, 1]\n",
        "prob3 = model3.predict_proba(X_test)[:, 1]\n",
        "\n",
        "avg_prob = (prob1 + prob2 + prob3) / 3\n",
        "final_pred_avg = [1 if p > 0.5 else 0 for p in avg_prob]"
      ],
      "metadata": {
        "id": "KgUEG1DXRIK-"
      },
      "execution_count": 58,
      "outputs": []
    },
    {
      "cell_type": "code",
      "source": [
        "#weighted average voting\n",
        "acc1 = accuracy_score(y_test, pred1)\n",
        "acc2 = accuracy_score(y_test, pred2)\n",
        "acc3 = accuracy_score(y_test, pred3)\n",
        "\n",
        "total = acc1 + acc2 + acc3\n",
        "w1, w2, w3 = acc1 / total, acc2 / total, acc3 / total\n",
        "\n",
        "weighted_prob = (prob1 * w1) + (prob2 * w2) + (prob3 * w3)\n",
        "final_pred_weighted = [1 if p > 0.5 else 0 for p in weighted_prob]"
      ],
      "metadata": {
        "id": "EwOCBfhORKaN"
      },
      "execution_count": 63,
      "outputs": []
    },
    {
      "cell_type": "code",
      "source": [
        "print(f\"Logistic Regression: {acc1:.4f}\")\n",
        "print(f\"Decision Tree: {acc2:.4f}\")\n",
        "print(f\"Random Forest: {acc3:.4f}\")"
      ],
      "metadata": {
        "colab": {
          "base_uri": "https://localhost:8080/",
          "height": 0
        },
        "id": "H3KX3-a5PtEd",
        "outputId": "d2fd90cf-cf9c-4ec6-8e18-515cdf4dd1cd"
      },
      "execution_count": 65,
      "outputs": [
        {
          "output_type": "stream",
          "name": "stdout",
          "text": [
            "Logistic Regression: 0.7359\n",
            "Decision Tree: 0.7013\n",
            "Random Forest: 0.7532\n"
          ]
        }
      ]
    },
    {
      "cell_type": "code",
      "source": [
        "print(f\"Max Voting Accuracy: {accuracy_score(y_test, final_pred_max):.4f}\")\n",
        "print(f\"Average Voting Accuracy:{accuracy_score(y_test, final_pred_avg):.4f}\")\n",
        "print(f\"Weighted Average Voting Accuracy: {accuracy_score(y_test, final_pred_weighted):.4f}\")"
      ],
      "metadata": {
        "colab": {
          "base_uri": "https://localhost:8080/",
          "height": 0
        },
        "id": "IBbT1wvTPtA9",
        "outputId": "081dd766-a79f-46eb-d979-c14b03a5af94"
      },
      "execution_count": 66,
      "outputs": [
        {
          "output_type": "stream",
          "name": "stdout",
          "text": [
            "Max Voting Accuracy: 0.7489\n",
            "Average Voting Accuracy:0.7359\n",
            "Weighted Average Voting Accuracy: 0.7359\n"
          ]
        }
      ]
    },
    {
      "cell_type": "code",
      "source": [
        "print(classification_report(y_test, final_pred_weighted))"
      ],
      "metadata": {
        "colab": {
          "base_uri": "https://localhost:8080/",
          "height": 0
        },
        "id": "XZMb7LWOR3P9",
        "outputId": "bd63cf26-57d8-41af-c1e1-a81dc573d23a"
      },
      "execution_count": 68,
      "outputs": [
        {
          "output_type": "stream",
          "name": "stdout",
          "text": [
            "              precision    recall  f1-score   support\n",
            "\n",
            "           0       0.83      0.75      0.79       151\n",
            "           1       0.60      0.70      0.65        80\n",
            "\n",
            "    accuracy                           0.74       231\n",
            "   macro avg       0.71      0.73      0.72       231\n",
            "weighted avg       0.75      0.74      0.74       231\n",
            "\n"
          ]
        }
      ]
    },
    {
      "cell_type": "markdown",
      "source": [
        "depending on the type of data which we take  max voting avg voting and weighted avg voting differs\n"
      ],
      "metadata": {
        "id": "n3DI88AaS-71"
      }
    },
    {
      "cell_type": "markdown",
      "source": [
        "avg voting and weighted avg voting are same and max voting is greater"
      ],
      "metadata": {
        "id": "2rTQzpYPUPRN"
      }
    },
    {
      "cell_type": "markdown",
      "source": [
        "max voting hard voting for classification\n",
        "\n",
        "\n"
      ],
      "metadata": {
        "id": "okrZj0EmWht1"
      }
    },
    {
      "cell_type": "markdown",
      "source": [
        "soft voting for classification"
      ],
      "metadata": {
        "id": "5sU0t5ZmW8Gs"
      }
    },
    {
      "cell_type": "markdown",
      "source": [
        "avg  voting for regression"
      ],
      "metadata": {
        "id": "pjeSC8kmW_q_"
      }
    },
    {
      "cell_type": "markdown",
      "source": [
        "weighted avg voting regreession and classification"
      ],
      "metadata": {
        "id": "1lYqcqbHXBqk"
      }
    },
    {
      "cell_type": "code",
      "source": [],
      "metadata": {
        "id": "_gJwjmstT4gF"
      },
      "execution_count": null,
      "outputs": []
    },
    {
      "cell_type": "code",
      "source": [],
      "metadata": {
        "id": "gTB0a024T4dE"
      },
      "execution_count": null,
      "outputs": []
    },
    {
      "cell_type": "code",
      "source": [],
      "metadata": {
        "id": "KPKMjVorT4Z1"
      },
      "execution_count": null,
      "outputs": []
    },
    {
      "cell_type": "code",
      "source": [],
      "metadata": {
        "id": "vYKPXdM6T4Uc"
      },
      "execution_count": null,
      "outputs": []
    },
    {
      "cell_type": "code",
      "source": [],
      "metadata": {
        "id": "OK2N-jCmT4Rd"
      },
      "execution_count": null,
      "outputs": []
    },
    {
      "cell_type": "code",
      "source": [],
      "metadata": {
        "id": "-LkOH1wRT4Oc"
      },
      "execution_count": null,
      "outputs": []
    },
    {
      "cell_type": "code",
      "source": [],
      "metadata": {
        "id": "nIV2Bpt6T4LV"
      },
      "execution_count": null,
      "outputs": []
    }
  ]
}