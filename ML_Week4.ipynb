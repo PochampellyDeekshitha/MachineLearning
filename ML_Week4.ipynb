{
  "nbformat": 4,
  "nbformat_minor": 0,
  "metadata": {
    "colab": {
      "provenance": [],
      "gpuType": "T4",
      "authorship_tag": "ABX9TyMXk/Su6SW8EhcVEgObxS7K",
      "include_colab_link": true
    },
    "kernelspec": {
      "name": "python3",
      "display_name": "Python 3"
    },
    "language_info": {
      "name": "python"
    },
    "accelerator": "GPU"
  },
  "cells": [
    {
      "cell_type": "markdown",
      "metadata": {
        "id": "view-in-github",
        "colab_type": "text"
      },
      "source": [
        "<a href=\"https://colab.research.google.com/github/PochampellyDeekshitha/MachineLearning/blob/main/ML_Week4.ipynb\" target=\"_parent\"><img src=\"https://colab.research.google.com/assets/colab-badge.svg\" alt=\"Open In Colab\"/></a>"
      ]
    },
    {
      "cell_type": "code",
      "source": [
        "import numpy as np\n",
        "import pandas as pd"
      ],
      "metadata": {
        "id": "fDl6nbDRqWkz"
      },
      "execution_count": 2,
      "outputs": []
    },
    {
      "cell_type": "code",
      "execution_count": 3,
      "metadata": {
        "colab": {
          "base_uri": "https://localhost:8080/"
        },
        "id": "Nr3pKIu7ngsf",
        "outputId": "f5d98a2d-4a22-41ae-94af-8dd0d19ebe85"
      },
      "outputs": [
        {
          "output_type": "execute_result",
          "data": {
            "text/plain": [
              "(300153, 12)"
            ]
          },
          "metadata": {},
          "execution_count": 3
        }
      ],
      "source": [
        "data =pd.read_csv('airlines_flights_data.csv')\n",
        "data.shape"
      ]
    },
    {
      "cell_type": "code",
      "source": [
        "from sklearn.model_selection import train_test_split\n",
        "\n",
        "x_train,x_test,y_train,y_test=train_test_split(\n",
        "    data.drop(labels=[\"price\"],axis=1),\n",
        "    data['price'],\n",
        "    test_size=0.3,\n",
        "    random_state=0)"
      ],
      "metadata": {
        "id": "WQO3futAqjOD"
      },
      "execution_count": 4,
      "outputs": []
    },
    {
      "cell_type": "code",
      "source": [
        "x_train.shape, x_test.shape"
      ],
      "metadata": {
        "colab": {
          "base_uri": "https://localhost:8080/"
        },
        "id": "Jrx6h2ZLsocC",
        "outputId": "29ddb78b-1c69-4f8f-cdd9-688162402a6d"
      },
      "execution_count": 5,
      "outputs": [
        {
          "output_type": "execute_result",
          "data": {
            "text/plain": [
              "((210107, 11), (90046, 11))"
            ]
          },
          "metadata": {},
          "execution_count": 5
        }
      ]
    },
    {
      "cell_type": "code",
      "metadata": {
        "colab": {
          "base_uri": "https://localhost:8080/"
        },
        "id": "1205843b",
        "outputId": "3fa002da-45a2-4f52-fae4-78fe5a521ad6"
      },
      "source": [
        "x_train_numeric['stops'] = pd.to_numeric(x_train_numeric['stops'], errors='coerce')\n",
        "corr_features = correlation(x_train_numeric, 0.8)\n",
        "print('correlated features: ', len(set(corr_features)))"
      ],
      "execution_count": null,
      "outputs": [
        {
          "output_type": "stream",
          "name": "stdout",
          "text": [
            "correlated features:  0\n"
          ]
        }
      ]
    },
    {
      "cell_type": "code",
      "source": [
        "import pandas as pd\n",
        "import numpy as np\n",
        "from sklearn.feature_selection import mutual_info_classif, mutual_info_regression, chi2, f_classif, f_regression\n",
        "from sklearn.feature_selection import SelectKBest\n",
        "from sklearn.metrics import roc_auc_score, mean_squared_error\n",
        "from scipy.stats import fisher_exact\n",
        "\n",
        "X = pd.DataFrame({\n",
        "    'f1': np.random.randint(0, 10, 100),\n",
        "    'f2': np.random.randn(100),\n",
        "    'f3': np.random.randint(0, 2, 100)\n",
        "})\n",
        "y_class = np.random.randint(0, 2, 100)\n",
        "y_reg = np.random.randn(100)\n",
        "\n",
        "corr = X.corrwith(pd.Series(y_reg))\n",
        "\n",
        "mi_class = mutual_info_classif(X, y_class)\n",
        "mi_reg = mutual_info_regression(X, y_reg)\n",
        "\n",
        "chi2_vals, _ = chi2(X[['f1','f3']], y_class)\n",
        "\n",
        "table = np.array([[10, 5], [3, 20]])\n",
        "fisher_p = fisher_exact(table)[1]\n",
        "\n",
        "anova_class, _ = f_classif(X, y_class)\n",
        "anova_reg, _ = f_regression(X, y_reg)\n",
        "\n",
        "roc_auc_scores = [roc_auc_score(y_class, X[col]) for col in X.columns]\n",
        "\n",
        "mse_scores = [mean_squared_error(y_reg, X[col]) for col in X.columns]\n",
        "\n",
        "print(\"Correlation:\", corr)\n",
        "print(\"Mutual_c:\", mi_class)\n",
        "print(\"Mutual_r:\", mi_reg)\n",
        "print(\"Chi2:\", chi2_vals)\n",
        "print(\"Fisher p-value:\", fisher_p)\n",
        "print(\"ANOVA Class:\", anova_class)\n",
        "print(\"ANOVA Reg:\", anova_reg)\n",
        "print(\"ROC-AUC Scores:\", roc_auc_scores)\n",
        "print(\"MSE Scores:\", mse_scores)\n"
      ],
      "metadata": {
        "colab": {
          "base_uri": "https://localhost:8080/"
        },
        "id": "9oYZnuogkKvI",
        "outputId": "84dabd82-4bb2-4361-a43f-b3cdd8b875d0"
      },
      "execution_count": 1,
      "outputs": [
        {
          "output_type": "stream",
          "name": "stdout",
          "text": [
            "Correlation: f1    0.072233\n",
            "f2   -0.041426\n",
            "f3   -0.082250\n",
            "dtype: float64\n",
            "Mutual Info (Class): [0 0 0]\n",
            "Mutual Info (Reg): [0.         0.         0.01457429]\n",
            "Chi2: [0.55378916 0.01494611]\n",
            "Fisher p-value: 0.0012591609575874861\n",
            "ANOVA Class: [0.31149192 0.78756173 0.03052449]\n",
            "ANOVA Reg: [0.51400743 0.16847035 0.66749309]\n",
            "ROC-AUC Scores: [np.float64(0.5383380168606985), np.float64(0.4632677639502208), np.float64(0.4911682055399438)]\n",
            "MSE Scores: [33.3413384328084, 1.986666352105309, 1.5111982468972283]\n"
          ]
        }
      ]
    },
    {
      "cell_type": "code",
      "source": [
        "import pandas as pd\n",
        "import numpy as np\n",
        "from sklearn.linear_model import LinearRegression\n",
        "from sklearn.feature_selection import SequentialFeatureSelector\n",
        "\n",
        "X = pd.DataFrame(np.random.randn(100,5), columns=[f'f{i}' for i in range(1,6)])\n",
        "y = np.random.randn(100)\n",
        "\n",
        "model = LinearRegression()\n",
        "fs = SequentialFeatureSelector(model, n_features_to_select=3, direction='forward')\n",
        "fs.fit(X,y)\n",
        "print(\"Forward:\", X.columns[fs.get_support()])"
      ],
      "metadata": {
        "colab": {
          "base_uri": "https://localhost:8080/"
        },
        "id": "b7NtAPVukKrl",
        "outputId": "e27014b6-4649-44e7-8324-55721114ba12"
      },
      "execution_count": 3,
      "outputs": [
        {
          "output_type": "stream",
          "name": "stdout",
          "text": [
            "Forward: Index(['f1', 'f2', 'f3'], dtype='object')\n"
          ]
        }
      ]
    },
    {
      "cell_type": "code",
      "source": [
        "bs = SequentialFeatureSelector(model, n_features_to_select=3, direction='backward')\n",
        "bs.fit(X,y)\n",
        "print(\"Backward:\", X.columns[bs.get_support()])"
      ],
      "metadata": {
        "colab": {
          "base_uri": "https://localhost:8080/"
        },
        "id": "qFWlnLDAkKo5",
        "outputId": "07d1c077-e2fd-45c1-8aa6-2f280c449525"
      },
      "execution_count": 4,
      "outputs": [
        {
          "output_type": "stream",
          "name": "stdout",
          "text": [
            "Backward: Index(['f1', 'f2', 'f3'], dtype='object')\n"
          ]
        }
      ]
    },
    {
      "cell_type": "code",
      "source": [
        "from mlxtend.feature_selection import ExhaustiveFeatureSelector\n",
        "es = ExhaustiveFeatureSelector(model, min_features=1, max_features=3, scoring='r2', cv=5)\n",
        "es.fit(X,y)\n",
        "print(\"Exhaustive:\", es.best_feature_names_)"
      ],
      "metadata": {
        "colab": {
          "base_uri": "https://localhost:8080/"
        },
        "id": "vX2EFpWfkKme",
        "outputId": "be2a4258-cb29-4135-ef44-5e33ce23fc8a"
      },
      "execution_count": 5,
      "outputs": [
        {
          "output_type": "stream",
          "name": "stderr",
          "text": [
            "Features: 25/25"
          ]
        },
        {
          "output_type": "stream",
          "name": "stdout",
          "text": [
            "Exhaustive: ('f1', 'f2')\n"
          ]
        }
      ]
    },
    {
      "cell_type": "code",
      "source": [
        "from sklearn.feature_selection import RFE\n",
        "rfe = RFE(model, n_features_to_select=3)\n",
        "rfe.fit(X,y)\n",
        "print(\"RFE Ranking:\", rfe.ranking_)\n",
        "print(\"RFE Support:\", X.columns[rfe.get_support()])"
      ],
      "metadata": {
        "colab": {
          "base_uri": "https://localhost:8080/"
        },
        "id": "qHCTURIZkKjn",
        "outputId": "891bfb41-e85c-49a0-a13e-46dba90b303a"
      },
      "execution_count": 6,
      "outputs": [
        {
          "output_type": "stream",
          "name": "stdout",
          "text": [
            "RFE Ranking: [1 1 1 2 3]\n",
            "RFE Support: Index(['f1', 'f2', 'f3'], dtype='object')\n"
          ]
        }
      ]
    },
    {
      "cell_type": "markdown",
      "source": [
        "**STATISTICAL** **METHODS**"
      ],
      "metadata": {
        "id": "PIB31HJKpZ59"
      }
    },
    {
      "cell_type": "code",
      "source": [
        "import pandas as pd\n",
        "df = pd.read_csv(\"airlines_flights_data.csv\")\n",
        "df = df[['airline','source_city','departure_time','stops','arrival_time','destination_city','class','duration','days_left','price']]\n",
        "df_encoded = pd.get_dummies(df, drop_first=True)\n",
        "X_reg = df_encoded.drop('price', axis=1)\n",
        "y_reg = df_encoded['price']\n",
        "X_clf = df_encoded.drop('class_Economy', axis=1)  # target is class (Business=1, Economy=0)\n",
        "y_clf = df_encoded['class_Economy']\n"
      ],
      "metadata": {
        "id": "MwhI6FtDn-vq"
      },
      "execution_count": 8,
      "outputs": []
    },
    {
      "cell_type": "code",
      "source": [
        "corr = X_reg.corrwith(y_reg)\n",
        "print(\"Correlation:\\n\", corr)"
      ],
      "metadata": {
        "colab": {
          "base_uri": "https://localhost:8080/"
        },
        "id": "-o0gYDMepGUE",
        "outputId": "02d9a3f0-61c2-459b-cd56-6f42d8eb1b20"
      },
      "execution_count": 9,
      "outputs": [
        {
          "output_type": "stream",
          "name": "stdout",
          "text": [
            "Correlation:\n",
            " duration                        0.204222\n",
            "days_left                      -0.091949\n",
            "airline_Air_India               0.070041\n",
            "airline_GO_FIRST               -0.194179\n",
            "airline_Indigo                 -0.280882\n",
            "airline_SpiceJet               -0.114019\n",
            "airline_Vistara                 0.360816\n",
            "source_city_Chennai             0.018742\n",
            "source_city_Delhi              -0.043282\n",
            "source_city_Hyderabad          -0.012828\n",
            "source_city_Kolkata             0.016127\n",
            "source_city_Mumbai              0.013206\n",
            "departure_time_Early_Morning   -0.012232\n",
            "departure_time_Evening          0.007946\n",
            "departure_time_Late_Night      -0.033768\n",
            "departure_time_Morning          0.018199\n",
            "departure_time_Night            0.041768\n",
            "stops_two_or_more              -0.064248\n",
            "stops_zero                     -0.187277\n",
            "arrival_time_Early_Morning     -0.060449\n",
            "arrival_time_Evening            0.056408\n",
            "arrival_time_Late_Night        -0.093602\n",
            "arrival_time_Morning            0.030379\n",
            "arrival_time_Night              0.020344\n",
            "destination_city_Chennai        0.018473\n",
            "destination_city_Delhi         -0.052527\n",
            "destination_city_Hyderabad     -0.008292\n",
            "destination_city_Kolkata        0.020956\n",
            "destination_city_Mumbai         0.010533\n",
            "class_Economy                  -0.937860\n",
            "dtype: float64\n"
          ]
        }
      ]
    },
    {
      "cell_type": "code",
      "source": [
        "# Mutual Information\n",
        "from sklearn.feature_selection import mutual_info_classif, mutual_info_regression\n",
        "mi_reg = mutual_info_regression(X_reg, y_reg)\n",
        "mi_class = mutual_info_classif(X_clf, y_clf)\n",
        "print(\"Mutual Info (Regression):\", mi_reg)\n",
        "print(\"Mutual Info (Classification):\", mi_class)\n"
      ],
      "metadata": {
        "colab": {
          "base_uri": "https://localhost:8080/"
        },
        "id": "u9FsAdxGpHw1",
        "outputId": "66c208ff-c59b-44f3-b857-07cf8c2ae6b8"
      },
      "execution_count": 10,
      "outputs": [
        {
          "output_type": "stream",
          "name": "stdout",
          "text": [
            "Mutual Info (Regression): [2.41749362 0.47804025 0.40347781 0.20204738 0.29030074 0.08347685\n",
            " 0.51561261 0.32562692 0.43128561 0.34844171 0.36066466 0.42953415\n",
            " 0.08803891 0.10695533 0.01112843 0.09398076 0.08134042 0.10888133\n",
            " 0.28953351 0.0817789  0.12511344 0.06976828 0.0993671  0.10558901\n",
            " 0.30054352 0.38943223 0.32121807 0.34027094 0.38124345 0.61995032]\n",
            "Mutual Info (Classification): [2.89683657e-02 1.10491892e-03 6.18114961e-01 1.55817072e-02\n",
            " 3.22589745e-02 6.37879006e-02 1.08419072e-02 6.40976309e-02\n",
            " 2.59590187e-03 3.03113132e-03 2.74758405e-03 3.33165784e-03\n",
            " 4.42508261e-03 5.30301892e-03 5.27784107e-03 9.88534992e-06\n",
            " 6.40033275e-03 4.34524507e-03 9.28448076e-03 4.83754318e-03\n",
            " 1.41142564e-03 6.43471708e-03 4.97417420e-03 4.15333758e-03\n",
            " 9.22746371e-03 2.74364860e-03 3.51039877e-03 2.95954542e-03\n",
            " 1.52963328e-03 4.27416006e-03]\n"
          ]
        }
      ]
    },
    {
      "cell_type": "code",
      "source": [
        "# Chi-Square Test\n",
        "from sklearn.feature_selection import chi2\n",
        "chi2_vals, _ = chi2(X_clf, y_clf)\n",
        "print(\"Chi-Square:\", chi2_vals)"
      ],
      "metadata": {
        "colab": {
          "base_uri": "https://localhost:8080/"
        },
        "id": "7WqQbT89pMd9",
        "outputId": "b2b47a46-94fd-4aeb-81a5-26bc02600e7b"
      },
      "execution_count": 11,
      "outputs": [
        {
          "output_type": "stream",
          "name": "stdout",
          "text": [
            "Chi-Square: [2.44426276e+04 3.60854990e+02 6.51107154e+09 3.42043236e+03\n",
            " 1.04824899e+04 1.95056731e+04 4.07619713e+03 1.57259547e+04\n",
            " 2.72228961e+01 4.74609882e+01 2.93928983e+00 9.31954972e+01\n",
            " 6.07979475e+01 3.42794691e+01 2.73591472e+01 2.57924139e+02\n",
            " 1.79622468e+00 6.18207030e+02 3.27586965e+03 1.25425094e+03\n",
            " 5.01642651e+02 2.39135268e+02 2.12812135e+03 3.75043148e+02\n",
            " 1.34668729e+01 3.95043579e+01 1.09125245e+02 1.47291052e+01\n",
            " 4.22685604e+01 2.69460552e+01]\n"
          ]
        }
      ]
    },
    {
      "cell_type": "code",
      "source": [
        "# Fisher's Exact Test\n",
        "from scipy.stats import fisher_exact\n",
        "import numpy as np\n",
        "table = pd.crosstab(df['stops'], df['class']).iloc[:2,:2].values\n",
        "fisher_p = fisher_exact(table)[1]\n",
        "print(\"Fisher p-value:\", fisher_p)\n"
      ],
      "metadata": {
        "colab": {
          "base_uri": "https://localhost:8080/"
        },
        "id": "Blymn3R_pMab",
        "outputId": "b79ddbf7-a6e2-42f0-9d34-115e72074941"
      },
      "execution_count": 12,
      "outputs": [
        {
          "output_type": "stream",
          "name": "stdout",
          "text": [
            "Fisher p-value: 0.0\n"
          ]
        }
      ]
    },
    {
      "cell_type": "code",
      "source": [
        "# ANOVA\n",
        "from sklearn.feature_selection import f_classif, f_regression\n",
        "anova_reg, _ = f_regression(X_reg, y_reg)\n",
        "anova_class, _ = f_classif(X_clf, y_clf)\n",
        "print(\"ANOVA Regression:\", anova_reg)\n",
        "print(\"ANOVA Classification:\", anova_class)\n"
      ],
      "metadata": {
        "colab": {
          "base_uri": "https://localhost:8080/"
        },
        "id": "4elM3CbqpMX0",
        "outputId": "3c09df7b-305c-4df9-9753-995e6ff476a8"
      },
      "execution_count": 13,
      "outputs": [
        {
          "output_type": "stream",
          "name": "stdout",
          "text": [
            "ANOVA Regression: [1.30631523e+04 2.55927387e+03 1.47972626e+03 1.17608031e+04\n",
            " 2.57086106e+04 3.95342878e+03 4.49248363e+04 1.05463763e+02\n",
            " 5.63324917e+02 4.93997454e+01 7.80797855e+01 5.23575341e+01\n",
            " 4.49186821e+01 1.89524907e+01 3.42656044e+02 9.94429190e+01\n",
            " 5.24548917e+02 1.24410978e+03 1.09097198e+04 1.10081421e+03\n",
            " 9.58089677e+02 2.65296503e+03 2.77267463e+02 1.24279094e+02\n",
            " 1.02460110e+02 8.30433650e+02 2.06407506e+01 1.31867901e+02\n",
            " 3.33065148e+01 2.19242459e+06]\n",
            "ANOVA Classification: [5.88833291e+03 5.10357071e+01 2.19242459e+06 4.75650247e+03\n",
            " 1.18062259e+04 2.46483104e+04 4.26200068e+03 3.01476654e+04\n",
            " 3.12554469e+01 5.96637275e+01 3.40177747e+00 1.10253488e+02\n",
            " 7.62911977e+01 4.40966586e+01 3.49406356e+01 2.59273345e+02\n",
            " 2.35426367e+00 7.37737003e+02 3.46715904e+03 1.43199769e+03\n",
            " 5.29733790e+02 3.23915383e+02 2.24895792e+03 4.74891039e+02\n",
            " 1.93771124e+01 4.56495790e+01 1.34965916e+02 1.71746111e+01\n",
            " 5.06310008e+01 3.35556452e+01]\n"
          ]
        }
      ]
    },
    {
      "cell_type": "code",
      "source": [
        "# ROC-AUC\n",
        "from sklearn.metrics import roc_auc_score\n",
        "roc_auc_scores = [roc_auc_score(y_clf, X_clf[col]) for col in X_clf.columns]\n",
        "print(\"ROC-AUC Scores:\", roc_auc_scores)\n"
      ],
      "metadata": {
        "colab": {
          "base_uri": "https://localhost:8080/"
        },
        "id": "40yEwl8gpMVT",
        "outputId": "ddd299e3-17d7-491f-dcc8-1f1e67a1f641"
      },
      "execution_count": 14,
      "outputs": [
        {
          "output_type": "stream",
          "name": "stdout",
          "text": [
            "ROC-AUC Scores: [np.float64(0.3979693838910082), np.float64(0.508176792518463), np.float64(0.00032269373377319795), np.float64(0.4401652934229871), np.float64(0.5560638905286791), np.float64(0.6043229171707005), np.float64(0.5218008767770219), np.float64(0.3387001222719022), np.float64(0.496307822929303), np.float64(0.5061377722537208), np.float64(0.49875421500851413), np.float64(0.5074759804073838), np.float64(0.49307852399115604), np.float64(0.5054429286474218), np.float64(0.4951992585287201), np.float64(0.5020877450332759), np.float64(0.49871407556519953), np.float64(0.4804018394165813), np.float64(0.5237312331440871), np.float64(0.5241728284576125), np.float64(0.5100036166131812), np.float64(0.4844322320859544), np.float64(0.5196353025501055), np.float64(0.4825516065905332), np.float64(0.49600612962143914), np.float64(0.4954574366154541), np.float64(0.5089996798969487), np.float64(0.49714639290799567), np.float64(0.5052049948500466), np.float64(0.4954606863618845)]\n"
          ]
        }
      ]
    },
    {
      "cell_type": "markdown",
      "source": [
        "WRAPPER METHODS"
      ],
      "metadata": {
        "id": "R3Kqar5ppmC_"
      }
    },
    {
      "cell_type": "code",
      "source": [
        "# Forward Selection\n",
        "from sklearn.linear_model import LinearRegression\n",
        "from sklearn.feature_selection import SequentialFeatureSelector\n",
        "model = LinearRegression()\n",
        "fs = SequentialFeatureSelector(model, n_features_to_select=5, direction='forward')\n",
        "fs.fit(X_reg, y_reg)\n",
        "print(\"Forward Selected:\", X_reg.columns[fs.get_support()])\n"
      ],
      "metadata": {
        "colab": {
          "base_uri": "https://localhost:8080/"
        },
        "id": "Fao71YaEpMS3",
        "outputId": "8b45eddd-6f41-4248-d6da-bb1302906604"
      },
      "execution_count": 15,
      "outputs": [
        {
          "output_type": "stream",
          "name": "stdout",
          "text": [
            "Forward Selected: Index(['duration', 'days_left', 'departure_time_Morning', 'stops_two_or_more',\n",
            "       'class_Economy'],\n",
            "      dtype='object')\n"
          ]
        }
      ]
    },
    {
      "cell_type": "code",
      "source": [
        "# Backward Selection\n",
        "bs = SequentialFeatureSelector(model, n_features_to_select=5, direction='backward')\n",
        "bs.fit(X_reg, y_reg)\n",
        "print(\"Backward Selected:\", X_reg.columns[bs.get_support()])\n"
      ],
      "metadata": {
        "colab": {
          "base_uri": "https://localhost:8080/"
        },
        "id": "WRJC-7NapMQY",
        "outputId": "2de1775b-bb27-4dcd-c9ce-4029ca1f0198"
      },
      "execution_count": 16,
      "outputs": [
        {
          "output_type": "stream",
          "name": "stdout",
          "text": [
            "Backward Selected: Index(['days_left', 'airline_GO_FIRST', 'airline_Indigo', 'stops_two_or_more',\n",
            "       'class_Economy'],\n",
            "      dtype='object')\n"
          ]
        }
      ]
    },
    {
      "cell_type": "markdown",
      "source": [
        "EMBEDDED METHODS"
      ],
      "metadata": {
        "id": "u-ji_0xTp748"
      }
    },
    {
      "cell_type": "code",
      "source": [
        "# LASSO (L1 Regularization)\n",
        "from sklearn.linear_model import Lasso\n",
        "lasso = Lasso(alpha=0.01)\n",
        "lasso.fit(X_reg, y_reg)\n",
        "print(\"LASSO Coefficients:\", dict(zip(X_reg.columns, lasso.coef_)))\n"
      ],
      "metadata": {
        "colab": {
          "base_uri": "https://localhost:8080/"
        },
        "id": "tS1_QAuFpt85",
        "outputId": "b55e7c6d-2f2c-4caa-9240-ddce0c77881c"
      },
      "execution_count": 18,
      "outputs": [
        {
          "output_type": "stream",
          "name": "stdout",
          "text": [
            "LASSO Coefficients: {'duration': np.float64(42.583626871694406), 'days_left': np.float64(-130.95207631024317), 'airline_Air_India': np.float64(115.24093223396547), 'airline_GO_FIRST': np.float64(1704.4960052352433), 'airline_Indigo': np.float64(2106.0244367564146), 'airline_SpiceJet': np.float64(2292.7089238979843), 'airline_Vistara': np.float64(4070.393250284076), 'source_city_Chennai': np.float64(-67.17815590188974), 'source_city_Delhi': np.float64(-1405.668948437958), 'source_city_Hyderabad': np.float64(-1678.7461356133651), 'source_city_Kolkata': np.float64(1583.8292154389019), 'source_city_Mumbai': np.float64(-211.57837240515042), 'departure_time_Early_Morning': np.float64(835.2744883855188), 'departure_time_Evening': np.float64(733.4235694046199), 'departure_time_Late_Night': np.float64(1691.7416104937527), 'departure_time_Morning': np.float64(855.9580431431997), 'departure_time_Night': np.float64(689.6538527317728), 'stops_two_or_more': np.float64(2104.9433812528973), 'stops_zero': np.float64(-7585.542838978797), 'arrival_time_Early_Morning': np.float64(-771.9582071585721), 'arrival_time_Evening': np.float64(924.4343824995085), 'arrival_time_Late_Night': np.float64(952.6258736065458), 'arrival_time_Morning': np.float64(476.3567931693097), 'arrival_time_Night': np.float64(1142.3077048048683), 'destination_city_Chennai': np.float64(-219.50332682943258), 'destination_city_Delhi': np.float64(-1553.5614153169124), 'destination_city_Hyderabad': np.float64(-1719.7798614178575), 'destination_city_Kolkata': np.float64(1376.9433811586712), 'destination_city_Mumbai': np.float64(-28.457063619643762), 'class_Economy': np.float64(-44922.52647773613)}\n"
          ]
        }
      ]
    },
    {
      "cell_type": "code",
      "source": [
        "# Ridge (L2 Regularization)\n",
        "from sklearn.linear_model import Ridge\n",
        "ridge = Ridge(alpha=1.0)\n",
        "ridge.fit(X_reg, y_reg)\n",
        "print(\"Ridge Coefficients:\", dict(zip(X_reg.columns, ridge.coef_)))\n"
      ],
      "metadata": {
        "colab": {
          "base_uri": "https://localhost:8080/"
        },
        "id": "jSTrUd8xpt6M",
        "outputId": "72e40068-2aa1-4a38-bc6f-f5638525e5cf"
      },
      "execution_count": 19,
      "outputs": [
        {
          "output_type": "stream",
          "name": "stdout",
          "text": [
            "Ridge Coefficients: {'duration': np.float64(42.58332504120061), 'days_left': np.float64(-130.95201423845856), 'airline_Air_India': np.float64(115.99323660009678), 'airline_GO_FIRST': np.float64(1704.9030224421956), 'airline_Indigo': np.float64(2106.386312196013), 'airline_SpiceJet': np.float64(2293.1133940156246), 'airline_Vistara': np.float64(4071.1375348848987), 'source_city_Chennai': np.float64(-67.4342457377222), 'source_city_Delhi': np.float64(-1405.860541846768), 'source_city_Hyderabad': np.float64(-1678.9671239827846), 'source_city_Kolkata': np.float64(1583.7014996244839), 'source_city_Mumbai': np.float64(-211.8268691008215), 'departure_time_Early_Morning': np.float64(835.5442254235725), 'departure_time_Evening': np.float64(733.662272689452), 'departure_time_Late_Night': np.float64(1692.981992943208), 'departure_time_Morning': np.float64(856.2025632658356), 'departure_time_Night': np.float64(689.9664789686012), 'stops_two_or_more': np.float64(2104.8449083611727), 'stops_zero': np.float64(-7585.383523858899), 'arrival_time_Early_Morning': np.float64(-771.9792669122952), 'arrival_time_Evening': np.float64(924.641175612674), 'arrival_time_Late_Night': np.float64(953.0185634100098), 'arrival_time_Morning': np.float64(476.53837569316255), 'arrival_time_Night': np.float64(1142.5317409002705), 'destination_city_Chennai': np.float64(-219.74733659296317), 'destination_city_Delhi': np.float64(-1553.7852674030357), 'destination_city_Hyderabad': np.float64(-1719.987990205265), 'destination_city_Kolkata': np.float64(1376.8212730128785), 'destination_city_Mumbai': np.float64(-28.711450128880518), 'class_Economy': np.float64(-44921.68298711436)}\n"
          ]
        }
      ]
    },
    {
      "cell_type": "code",
      "source": [],
      "metadata": {
        "id": "jgWkxLjNpt3i"
      },
      "execution_count": null,
      "outputs": []
    },
    {
      "cell_type": "code",
      "source": [],
      "metadata": {
        "id": "n1kZsPGopt1B"
      },
      "execution_count": null,
      "outputs": []
    }
  ]
}