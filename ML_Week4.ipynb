{
  "nbformat": 4,
  "nbformat_minor": 0,
  "metadata": {
    "colab": {
      "provenance": [],
      "gpuType": "T4",
      "authorship_tag": "ABX9TyMvL1lR17ExbLBexU4/O6Py",
      "include_colab_link": true
    },
    "kernelspec": {
      "name": "python3",
      "display_name": "Python 3"
    },
    "language_info": {
      "name": "python"
    },
    "accelerator": "GPU"
  },
  "cells": [
    {
      "cell_type": "markdown",
      "metadata": {
        "id": "view-in-github",
        "colab_type": "text"
      },
      "source": [
        "<a href=\"https://colab.research.google.com/github/PochampellyDeekshitha/MachineLearning/blob/main/ML_Week4.ipynb\" target=\"_parent\"><img src=\"https://colab.research.google.com/assets/colab-badge.svg\" alt=\"Open In Colab\"/></a>"
      ]
    },
    {
      "cell_type": "code",
      "source": [
        "import numpy as np\n",
        "import pandas as pd"
      ],
      "metadata": {
        "id": "fDl6nbDRqWkz"
      },
      "execution_count": 2,
      "outputs": []
    },
    {
      "cell_type": "code",
      "execution_count": 3,
      "metadata": {
        "colab": {
          "base_uri": "https://localhost:8080/"
        },
        "id": "Nr3pKIu7ngsf",
        "outputId": "f5d98a2d-4a22-41ae-94af-8dd0d19ebe85"
      },
      "outputs": [
        {
          "output_type": "execute_result",
          "data": {
            "text/plain": [
              "(300153, 12)"
            ]
          },
          "metadata": {},
          "execution_count": 3
        }
      ],
      "source": [
        "data =pd.read_csv('airlines_flights_data.csv')\n",
        "data.shape"
      ]
    },
    {
      "cell_type": "code",
      "source": [
        "from sklearn.model_selection import train_test_split\n",
        "\n",
        "x_train,x_test,y_train,y_test=train_test_split(\n",
        "    data.drop(labels=[\"price\"],axis=1),\n",
        "    data['price'],\n",
        "    test_size=0.3,\n",
        "    random_state=0)"
      ],
      "metadata": {
        "id": "WQO3futAqjOD"
      },
      "execution_count": 4,
      "outputs": []
    },
    {
      "cell_type": "code",
      "source": [
        "x_train.shape, x_test.shape"
      ],
      "metadata": {
        "colab": {
          "base_uri": "https://localhost:8080/"
        },
        "id": "Jrx6h2ZLsocC",
        "outputId": "29ddb78b-1c69-4f8f-cdd9-688162402a6d"
      },
      "execution_count": 5,
      "outputs": [
        {
          "output_type": "execute_result",
          "data": {
            "text/plain": [
              "((210107, 11), (90046, 11))"
            ]
          },
          "metadata": {},
          "execution_count": 5
        }
      ]
    },
    {
      "cell_type": "code",
      "metadata": {
        "colab": {
          "base_uri": "https://localhost:8080/"
        },
        "id": "1205843b",
        "outputId": "3fa002da-45a2-4f52-fae4-78fe5a521ad6"
      },
      "source": [
        "x_train_numeric['stops'] = pd.to_numeric(x_train_numeric['stops'], errors='coerce')\n",
        "corr_features = correlation(x_train_numeric, 0.8)\n",
        "print('correlated features: ', len(set(corr_features)))"
      ],
      "execution_count": null,
      "outputs": [
        {
          "output_type": "stream",
          "name": "stdout",
          "text": [
            "correlated features:  0\n"
          ]
        }
      ]
    },
    {
      "cell_type": "code",
      "source": [
        "import pandas as pd\n",
        "import numpy as np\n",
        "from sklearn.feature_selection import mutual_info_classif, mutual_info_regression, chi2, f_classif, f_regression\n",
        "from sklearn.feature_selection import SelectKBest\n",
        "from sklearn.metrics import roc_auc_score, mean_squared_error\n",
        "from scipy.stats import fisher_exact\n",
        "\n",
        "X = pd.DataFrame({\n",
        "    'f1': np.random.randint(0, 10, 100),\n",
        "    'f2': np.random.randn(100),\n",
        "    'f3': np.random.randint(0, 2, 100)\n",
        "})\n",
        "y_class = np.random.randint(0, 2, 100)\n",
        "y_reg = np.random.randn(100)\n",
        "\n",
        "corr = X.corrwith(pd.Series(y_reg))\n",
        "\n",
        "mi_class = mutual_info_classif(X, y_class)\n",
        "mi_reg = mutual_info_regression(X, y_reg)\n",
        "\n",
        "chi2_vals, _ = chi2(X[['f1','f3']], y_class)\n",
        "\n",
        "table = np.array([[10, 5], [3, 20]])\n",
        "fisher_p = fisher_exact(table)[1]\n",
        "\n",
        "anova_class, _ = f_classif(X, y_class)\n",
        "anova_reg, _ = f_regression(X, y_reg)\n",
        "\n",
        "roc_auc_scores = [roc_auc_score(y_class, X[col]) for col in X.columns]\n",
        "\n",
        "mse_scores = [mean_squared_error(y_reg, X[col]) for col in X.columns]\n",
        "\n",
        "print(\"Correlation:\\n\", corr)\n",
        "print(\"Mutual Info (Class):\", mi_class)\n",
        "print(\"Mutual Info (Reg):\", mi_reg)\n",
        "print(\"Chi2:\", chi2_vals)\n",
        "print(\"Fisher p-value:\", fisher_p)\n",
        "print(\"ANOVA Class:\", anova_class)\n",
        "print(\"ANOVA Reg:\", anova_reg)\n",
        "print(\"ROC-AUC Scores:\", roc_auc_scores)\n",
        "print(\"MSE Scores:\", mse_scores)\n"
      ],
      "metadata": {
        "colab": {
          "base_uri": "https://localhost:8080/"
        },
        "id": "9oYZnuogkKvI",
        "outputId": "0def18e6-e5a4-4766-dec3-cf5ab68dfc78"
      },
      "execution_count": 2,
      "outputs": [
        {
          "output_type": "stream",
          "name": "stdout",
          "text": [
            "Correlation:\n",
            " f1   -0.007643\n",
            "f2   -0.011911\n",
            "f3   -0.006925\n",
            "dtype: float64\n",
            "Mutual Info (Class): [0.         0.         0.05485745]\n",
            "Mutual Info (Reg): [0 0 0]\n",
            "Chi2: [0.1014528  1.68843169]\n",
            "Fisher p-value: 0.0012591609575874861\n",
            "ANOVA Class: [0.05498968 0.95502497 3.49737521]\n",
            "ANOVA Reg: [0.00572522 0.01390569 0.00469935]\n",
            "ROC-AUC Scores: [np.float64(0.5170361247947456), np.float64(0.4610016420361248), np.float64(0.40599343185550074)]\n",
            "MSE Scores: [28.94621704222907, 1.8413168524643981, 1.4315209800180988]\n"
          ]
        }
      ]
    },
    {
      "cell_type": "code",
      "source": [
        "import pandas as pd\n",
        "import numpy as np\n",
        "from sklearn.linear_model import LinearRegression\n",
        "from sklearn.feature_selection import SequentialFeatureSelector\n",
        "\n",
        "X = pd.DataFrame(np.random.randn(100,5), columns=[f'f{i}' for i in range(1,6)])\n",
        "y = np.random.randn(100)\n",
        "\n",
        "model = LinearRegression()\n",
        "fs = SequentialFeatureSelector(model, n_features_to_select=3, direction='forward')\n",
        "fs.fit(X,y)\n",
        "print(\"Forward:\", X.columns[fs.get_support()])\n"
      ],
      "metadata": {
        "colab": {
          "base_uri": "https://localhost:8080/"
        },
        "id": "b7NtAPVukKrl",
        "outputId": "e27014b6-4649-44e7-8324-55721114ba12"
      },
      "execution_count": 3,
      "outputs": [
        {
          "output_type": "stream",
          "name": "stdout",
          "text": [
            "Forward: Index(['f1', 'f2', 'f3'], dtype='object')\n"
          ]
        }
      ]
    },
    {
      "cell_type": "code",
      "source": [
        "bs = SequentialFeatureSelector(model, n_features_to_select=3, direction='backward')\n",
        "bs.fit(X,y)\n",
        "print(\"Backward:\", X.columns[bs.get_support()])\n"
      ],
      "metadata": {
        "colab": {
          "base_uri": "https://localhost:8080/"
        },
        "id": "qFWlnLDAkKo5",
        "outputId": "07d1c077-e2fd-45c1-8aa6-2f280c449525"
      },
      "execution_count": 4,
      "outputs": [
        {
          "output_type": "stream",
          "name": "stdout",
          "text": [
            "Backward: Index(['f1', 'f2', 'f3'], dtype='object')\n"
          ]
        }
      ]
    },
    {
      "cell_type": "code",
      "source": [
        "from mlxtend.feature_selection import ExhaustiveFeatureSelector\n",
        "\n",
        "es = ExhaustiveFeatureSelector(model, min_features=1, max_features=3, scoring='r2', cv=5)\n",
        "es.fit(X,y)\n",
        "print(\"Exhaustive:\", es.best_feature_names_)\n"
      ],
      "metadata": {
        "colab": {
          "base_uri": "https://localhost:8080/"
        },
        "id": "vX2EFpWfkKme",
        "outputId": "be2a4258-cb29-4135-ef44-5e33ce23fc8a"
      },
      "execution_count": 5,
      "outputs": [
        {
          "output_type": "stream",
          "name": "stderr",
          "text": [
            "Features: 25/25"
          ]
        },
        {
          "output_type": "stream",
          "name": "stdout",
          "text": [
            "Exhaustive: ('f1', 'f2')\n"
          ]
        }
      ]
    },
    {
      "cell_type": "code",
      "source": [
        "from sklearn.feature_selection import RFE\n",
        "\n",
        "rfe = RFE(model, n_features_to_select=3)\n",
        "rfe.fit(X,y)\n",
        "print(\"RFE Ranking:\", rfe.ranking_)\n",
        "print(\"RFE Support:\", X.columns[rfe.get_support()])\n"
      ],
      "metadata": {
        "colab": {
          "base_uri": "https://localhost:8080/"
        },
        "id": "qHCTURIZkKjn",
        "outputId": "891bfb41-e85c-49a0-a13e-46dba90b303a"
      },
      "execution_count": 6,
      "outputs": [
        {
          "output_type": "stream",
          "name": "stdout",
          "text": [
            "RFE Ranking: [1 1 1 2 3]\n",
            "RFE Support: Index(['f1', 'f2', 'f3'], dtype='object')\n"
          ]
        }
      ]
    }
  ]
}