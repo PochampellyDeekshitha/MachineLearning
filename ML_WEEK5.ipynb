{
  "nbformat": 4,
  "nbformat_minor": 0,
  "metadata": {
    "colab": {
      "provenance": [],
      "authorship_tag": "ABX9TyMLJ3853Pbj9/rr3DJ0+Nbk",
      "include_colab_link": true
    },
    "kernelspec": {
      "name": "python3",
      "display_name": "Python 3"
    },
    "language_info": {
      "name": "python"
    }
  },
  "cells": [
    {
      "cell_type": "markdown",
      "metadata": {
        "id": "view-in-github",
        "colab_type": "text"
      },
      "source": [
        "<a href=\"https://colab.research.google.com/github/PochampellyDeekshitha/MachineLearning/blob/main/ML_WEEK5.ipynb\" target=\"_parent\"><img src=\"https://colab.research.google.com/assets/colab-badge.svg\" alt=\"Open In Colab\"/></a>"
      ]
    },
    {
      "cell_type": "code",
      "execution_count": null,
      "metadata": {
        "colab": {
          "base_uri": "https://localhost:8080/"
        },
        "id": "tkaLquL8uutH",
        "outputId": "1a685461-67b1-4869-ef44-e9aa2606a920"
      },
      "outputs": [
        {
          "output_type": "stream",
          "name": "stdout",
          "text": [
            "[0]\n",
            "[[4.03557295]]\n"
          ]
        }
      ],
      "source": [
        "import numpy\n",
        "X = numpy.array([3.78, 2.44, 2.09, 0.14, 1.72, 1.65, 4.92, 4.37, 4.96, 4.52,3.69, 5.88]).reshape(-1,1)\n",
        "y = numpy.array([0, 0, 0, 0, 0, 0, 1, 1, 1, 1, 1, 1])\n",
        "from sklearn import linear_model\n",
        "logr = linear_model.LogisticRegression()\n",
        "logr.fit(X,y)          #train X and target y\n",
        "predicted = logr.predict(numpy.array([3.46]).reshape(-1,1))\n",
        "print(predicted)\n",
        "log_odds = logr.coef_ * X + logr.intercept_\n",
        "odds = numpy.exp(log_odds)\n",
        "probability = odds / (1 + odds)\n",
        "log_odds = logr.coef_\n",
        "odds = numpy.exp(log_odds)\n",
        "print(odds)"
      ]
    },
    {
      "cell_type": "code",
      "source": [
        "import numpy\n",
        "from sklearn import linear_model\n",
        "X = numpy.array([3.78, 2.44, 2.09, 0.14, 1.72, 1.65, 4.92, 4.37, 4.96,4.52, 3.69, 5.88]).reshape(-1,1)\n",
        "y = numpy.array([0, 0, 0, 0, 0, 0, 1, 1, 1, 1, 1, 1])\n",
        "logr = linear_model.LogisticRegression()\n",
        "logr.fit(X,y)\n",
        "def logit2prob(logr, X):\n",
        "  log_odds = logr.coef_ * X + logr.intercept_\n",
        "  odds = numpy.exp(log_odds)\n",
        "  probability = odds / (1 + odds)\n",
        "  return(probability)\n",
        "print(logit2prob(logr, X))"
      ],
      "metadata": {
        "colab": {
          "base_uri": "https://localhost:8080/"
        },
        "id": "-RPxqflavbsf",
        "outputId": "de0c5d93-d676-4d70-c1c9-357cba6deaf5"
      },
      "execution_count": null,
      "outputs": [
        {
          "output_type": "stream",
          "name": "stdout",
          "text": [
            "[[0.60749168]\n",
            " [0.19267555]\n",
            " [0.12774788]\n",
            " [0.00955056]\n",
            " [0.08037781]\n",
            " [0.0734485 ]\n",
            " [0.88362857]\n",
            " [0.77901203]\n",
            " [0.88924534]\n",
            " [0.81293431]\n",
            " [0.57718238]\n",
            " [0.96664398]]\n"
          ]
        }
      ]
    },
    {
      "cell_type": "code",
      "source": [],
      "metadata": {
        "id": "mrij6bB9v_HZ"
      },
      "execution_count": null,
      "outputs": []
    },
    {
      "cell_type": "code",
      "source": [],
      "metadata": {
        "id": "-Klz7IhTv_D1"
      },
      "execution_count": null,
      "outputs": []
    },
    {
      "cell_type": "code",
      "source": [],
      "metadata": {
        "id": "vdfZyt63v_Af"
      },
      "execution_count": null,
      "outputs": []
    }
  ]
}